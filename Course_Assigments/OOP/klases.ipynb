{
 "cells": [
  {
   "cell_type": "code",
   "execution_count": 1,
   "metadata": {},
   "outputs": [
    {
     "name": "stdout",
     "output_type": "stream",
     "text": [
      "Testas\n"
     ]
    }
   ],
   "source": [
    "print('Testas')"
   ]
  },
  {
   "cell_type": "code",
   "execution_count": 2,
   "metadata": {},
   "outputs": [
    {
     "name": "stdout",
     "output_type": "stream",
     "text": [
      "<class 'str'>\n",
      "<class 'int'>\n",
      "<class 'list'>\n"
     ]
    }
   ],
   "source": [
    "# klasės ir objektinis programavimas\n",
    "s = 'tekstas'\n",
    "sk = 7\n",
    "sar = []\n",
    "print(type(s), type(sk), type(sar), sep ='\\n')"
   ]
  },
  {
   "cell_type": "code",
   "execution_count": 3,
   "metadata": {},
   "outputs": [],
   "source": [
    "Name = \"Petriukas\"\n",
    "class Asmuo():  #metodas yra funkcija klases viduje\n",
    "    def __init__(self, name):  #visuose klases metoduose privalomai turi buti zodis (self)\n",
    "        self.Name = name #klases atributas (tiesiog kintamasis, esantis klases viduje)\n",
    "        pass \n",
    "\n",
    "    def getName(self):\n",
    "        return self.Name\n",
    "    \n",
    "    def setName(self, new_name):\n",
    "        self.Name = new_name"
   ]
  },
  {
   "cell_type": "code",
   "execution_count": 4,
   "metadata": {},
   "outputs": [
    {
     "name": "stdout",
     "output_type": "stream",
     "text": [
      "<class '__main__.Asmuo'>\n",
      "<class '__main__.Asmuo'>\n"
     ]
    }
   ],
   "source": [
    "a1 = Asmuo('Jonukas')\n",
    "a2 = Asmuo('Petriukas')\n",
    "print(type(a1), type(a2), sep='\\n')"
   ]
  },
  {
   "cell_type": "code",
   "execution_count": 5,
   "metadata": {},
   "outputs": [
    {
     "name": "stdout",
     "output_type": "stream",
     "text": [
      "Jonukas\n",
      "Vardenis\n"
     ]
    }
   ],
   "source": [
    "print(a1.getName())\n",
    "a1.setName('Vardenis')\n",
    "print(a1.getName())"
   ]
  },
  {
   "cell_type": "code",
   "execution_count": 6,
   "metadata": {},
   "outputs": [],
   "source": [
    "def calculateAge():\n",
    "    return \"Cha!!!\"\n",
    "\n",
    "\n",
    "class Asmuo():  #metodas yra funkcija klases viduje\n",
    "    def __init__(self, name, gm):  #visuose klases metoduose privalomai turi buti zodis (self)\n",
    "        self.Name = name #klases atributas (tiesiog kintamasis, esantis klases viduje)\n",
    "        self.BYear = gm\n",
    "        self.Age = self.calculateAge() #kaip kreiptis i metoda is kito metodo\n",
    "        pass \n",
    "\n",
    "    def getName(self):\n",
    "        return self.Name\n",
    "    \n",
    "    def setName(self, new_name):\n",
    "        self.Name = new_name\n",
    "    \n",
    "    def calculateAge(self):\n",
    "        return 2024-self.BYear"
   ]
  },
  {
   "cell_type": "code",
   "execution_count": 7,
   "metadata": {},
   "outputs": [
    {
     "name": "stdout",
     "output_type": "stream",
     "text": [
      "28 Vardenis\n"
     ]
    }
   ],
   "source": [
    "a1 = Asmuo('Vardenis', 1996)\n",
    "print(a1.Age, a1.getName())"
   ]
  },
  {
   "cell_type": "code",
   "execution_count": 8,
   "metadata": {},
   "outputs": [],
   "source": [
    "# paveldejimas\n",
    "\n",
    "class Studentas(Asmuo):\n",
    "    def getStatus(self):\n",
    "        return \"Studentas\""
   ]
  },
  {
   "cell_type": "code",
   "execution_count": 9,
   "metadata": {},
   "outputs": [],
   "source": [
    "std1 = Studentas('Une', 1992)"
   ]
  },
  {
   "cell_type": "code",
   "execution_count": 10,
   "metadata": {},
   "outputs": [
    {
     "name": "stdout",
     "output_type": "stream",
     "text": [
      "32 Une\n"
     ]
    }
   ],
   "source": [
    "print(std1.Age, std1.getName())"
   ]
  },
  {
   "cell_type": "code",
   "execution_count": 11,
   "metadata": {},
   "outputs": [
    {
     "data": {
      "text/plain": [
       "'Studentas'"
      ]
     },
     "execution_count": 11,
     "metadata": {},
     "output_type": "execute_result"
    }
   ],
   "source": [
    "std1.getStatus()"
   ]
  },
  {
   "cell_type": "code",
   "execution_count": 12,
   "metadata": {},
   "outputs": [],
   "source": [
    "# sudetingesnis paveldejimo atvejis\n",
    "\n",
    "class Studentas(Asmuo):\n",
    "    def __init__(self, name, gm):\n",
    "        super().__init__(name, gm)\n",
    "        self.Enroll = True\n",
    "\n",
    "std1 = Studentas('Une', 1996)"
   ]
  },
  {
   "cell_type": "code",
   "execution_count": 13,
   "metadata": {},
   "outputs": [
    {
     "name": "stdout",
     "output_type": "stream",
     "text": [
      "28 True\n"
     ]
    }
   ],
   "source": [
    "print(std1.Age, std1.Enroll)"
   ]
  },
  {
   "cell_type": "code",
   "execution_count": 14,
   "metadata": {},
   "outputs": [
    {
     "name": "stdout",
     "output_type": "stream",
     "text": [
      "36\n"
     ]
    }
   ],
   "source": [
    "# aprasykite klase Kvadratas\n",
    "# kreipiantis i klase, reikia nurodyti kvadarato ilgi a.\n",
    "# Klase turi tureti atributa Plotas, kuri\n",
    "# turi apskaiciuoti klases kurimo metu\n",
    "# Plotas = a*a\n",
    "# parasykite metoda, kuris grazintu apskaiciuoto Ploto atributo reiksme\n",
    "\n",
    "class Kvadratas():\n",
    "    def __init__(self, ilgis):\n",
    "        self.Plotas = ilgis*ilgis\n",
    "        pass\n",
    "    \n",
    "    def getPlotas(self):\n",
    "        return self.Plotas\n",
    "    \n",
    "a = Kvadratas(6)\n",
    "print (a.getPlotas())"
   ]
  },
  {
   "cell_type": "code",
   "execution_count": 15,
   "metadata": {},
   "outputs": [
    {
     "name": "stdout",
     "output_type": "stream",
     "text": [
      "35\n",
      "24\n"
     ]
    }
   ],
   "source": [
    "# aprašykite klasę Rectangle\n",
    "# kreipiantis į klasę, reikia nurodyti stačiakampio\n",
    "# kraštines a ir b.\n",
    "# Realizuokite atributą Plotas = a*b\n",
    "# ir metodą, grąžinantį Ploto reikšmę\n",
    "# Taip pat pridėkite metodą, apskaičiuojantį ir grąžinantį\n",
    "# perimetrą P=2(a+b)\n",
    "\n",
    "class Rectangle():\n",
    "    def __init__(self, a, b):\n",
    "        self.Plotas = a*b\n",
    "        self.Perimetras = 2*(a+b) \n",
    "        pass\n",
    "    \n",
    "    def getPlotas(self):\n",
    "        return self.Plotas\n",
    "    \n",
    "    def getPerimetras(self):\n",
    "        return self.Perimetras\n",
    "\n",
    "x = Rectangle(5,7)\n",
    "print(x.getPlotas())\n",
    "print(x.getPerimetras())"
   ]
  },
  {
   "cell_type": "code",
   "execution_count": 16,
   "metadata": {},
   "outputs": [
    {
     "name": "stdout",
     "output_type": "stream",
     "text": [
      "180\n"
     ]
    }
   ],
   "source": [
    "class Kubas():\n",
    "    def __init__(self, a, b, c):\n",
    "        self.Pav = a*b*c\n",
    "        pass\n",
    "\n",
    "    def getPav(self):\n",
    "        return self.Pav\n",
    "\n",
    "ats = Kubas(4,5,9)\n",
    "print(ats.getPav())\n"
   ]
  },
  {
   "cell_type": "code",
   "execution_count": 17,
   "metadata": {},
   "outputs": [
    {
     "name": "stdout",
     "output_type": "stream",
     "text": [
      "904.3199999999999\n",
      "452.16\n"
     ]
    }
   ],
   "source": [
    "#Sukurkite klasę Rutulys\n",
    "#kuriai galėtumėte nurodyti Rutulio spindulį r.\n",
    "#Sukurkite metodus, skirtus rasti jo Tūriui ir paviršiaus plotui;\n",
    "#Taip pat metodą, kuriuo jūs pakeistumėte spindulio r reikšmę.\n",
    "\n",
    "class Rutulys():\n",
    "    def __init__(self, r):\n",
    "        self.r = r\n",
    "        self.Turis = (4/3)*3.14*(r**3)\n",
    "        self.Plotas =  4*3.14*(r**2)\n",
    "    def getTuris(self):\n",
    "        return self.Turis\n",
    "    def getPlotas(self):\n",
    "        return self.Plotas\n",
    "    def changer(self, new_r):\n",
    "         self.r = new_r\n",
    "        \n",
    "r = int(input('Iveskite spinduli r'))    \n",
    "ats = Rutulys(r)\n",
    "print(ats.getTuris())\n",
    "print(ats.getPlotas())"
   ]
  },
  {
   "cell_type": "code",
   "execution_count": 18,
   "metadata": {},
   "outputs": [
    {
     "name": "stdout",
     "output_type": "stream",
     "text": [
      "314.0\n",
      "523.3333333333334\n",
      "615.44\n",
      "1436.0266666666666\n"
     ]
    }
   ],
   "source": [
    "class Rutulys():\n",
    "    def __init__ (self, r):\n",
    "        self.r = r\n",
    "           \n",
    "    def getPav_Plotas(self):\n",
    "        Pav_Plotas = 4*3.14*self.r**2\n",
    "        return Pav_Plotas\n",
    "\n",
    "    def getTūris(self):\n",
    "        Tūris = 4/3*3.14*self.r**3\n",
    "        return Tūris\n",
    "    \n",
    "    def changer(self, new_r):\n",
    "        self.r = new_r\n",
    "        \n",
    "r = int(input(\"Įveskite spindulį r\"))\n",
    "    \n",
    "rutulys  = Rutulys(r)\n",
    "print(rutulys.getPav_Plotas())\n",
    "print(rutulys.getTūris())\n",
    "\n",
    "r = int(input(\"Įveskite spindulį r\"))\n",
    "rutulys.changer(r)\n",
    "\n",
    "print(rutulys.getPav_Plotas())\n",
    "print(rutulys.getTūris())"
   ]
  },
  {
   "cell_type": "code",
   "execution_count": 12,
   "metadata": {},
   "outputs": [
    {
     "ename": "FileNotFoundError",
     "evalue": "[Errno 2] No such file or directory: 'pvz.txt'",
     "output_type": "error",
     "traceback": [
      "\u001b[1;31m---------------------------------------------------------------------------\u001b[0m",
      "\u001b[1;31mFileNotFoundError\u001b[0m                         Traceback (most recent call last)",
      "Cell \u001b[1;32mIn[12], line 19\u001b[0m\n\u001b[0;32m     16\u001b[0m     \u001b[38;5;28;01mdef\u001b[39;00m \u001b[38;5;21mgetText\u001b[39m(\u001b[38;5;28mself\u001b[39m):\n\u001b[0;32m     17\u001b[0m         \u001b[38;5;28;01mreturn\u001b[39;00m \u001b[38;5;28mself\u001b[39m\u001b[38;5;241m.\u001b[39mText\n\u001b[1;32m---> 19\u001b[0m ats \u001b[38;5;241m=\u001b[39m \u001b[43mTxtReader\u001b[49m\u001b[43m(\u001b[49m\u001b[38;5;124;43m'\u001b[39;49m\u001b[38;5;124;43mpvz.txt\u001b[39;49m\u001b[38;5;124;43m'\u001b[39;49m\u001b[43m)\u001b[49m\n\u001b[0;32m     20\u001b[0m \u001b[38;5;28mprint\u001b[39m(ats\u001b[38;5;241m.\u001b[39mgetText())\n",
      "Cell \u001b[1;32mIn[12], line 10\u001b[0m, in \u001b[0;36mTxtReader.__init__\u001b[1;34m(self, txt)\u001b[0m\n\u001b[0;32m      8\u001b[0m \u001b[38;5;28;01mdef\u001b[39;00m \u001b[38;5;21m__init__\u001b[39m(\u001b[38;5;28mself\u001b[39m, txt):\n\u001b[0;32m      9\u001b[0m     fname \u001b[38;5;241m=\u001b[39m \u001b[38;5;124m'\u001b[39m\u001b[38;5;124mpvz.txt\u001b[39m\u001b[38;5;124m'\u001b[39m\n\u001b[1;32m---> 10\u001b[0m     f \u001b[38;5;241m=\u001b[39m \u001b[38;5;28;43mopen\u001b[39;49m\u001b[43m \u001b[49m\u001b[43m(\u001b[49m\u001b[43mfname\u001b[49m\u001b[43m,\u001b[49m\u001b[43m \u001b[49m\u001b[43mmode\u001b[49m\u001b[38;5;241;43m=\u001b[39;49m\u001b[38;5;124;43m'\u001b[39;49m\u001b[38;5;124;43mr\u001b[39;49m\u001b[38;5;124;43m'\u001b[39;49m\u001b[43m,\u001b[49m\u001b[43m \u001b[49m\u001b[43mencoding\u001b[49m\u001b[38;5;241;43m=\u001b[39;49m\u001b[38;5;124;43m'\u001b[39;49m\u001b[38;5;124;43mutf-8\u001b[39;49m\u001b[38;5;124;43m'\u001b[39;49m\u001b[43m)\u001b[49m\n\u001b[0;32m     11\u001b[0m     txt \u001b[38;5;241m=\u001b[39m f\u001b[38;5;241m.\u001b[39mread()\n\u001b[0;32m     12\u001b[0m     f\u001b[38;5;241m.\u001b[39mclose()\n",
      "File \u001b[1;32m~\\AppData\\Local\\Packages\\PythonSoftwareFoundation.Python.3.12_qbz5n2kfra8p0\\LocalCache\\local-packages\\Python312\\site-packages\\IPython\\core\\interactiveshell.py:324\u001b[0m, in \u001b[0;36m_modified_open\u001b[1;34m(file, *args, **kwargs)\u001b[0m\n\u001b[0;32m    317\u001b[0m \u001b[38;5;28;01mif\u001b[39;00m file \u001b[38;5;129;01min\u001b[39;00m {\u001b[38;5;241m0\u001b[39m, \u001b[38;5;241m1\u001b[39m, \u001b[38;5;241m2\u001b[39m}:\n\u001b[0;32m    318\u001b[0m     \u001b[38;5;28;01mraise\u001b[39;00m \u001b[38;5;167;01mValueError\u001b[39;00m(\n\u001b[0;32m    319\u001b[0m         \u001b[38;5;124mf\u001b[39m\u001b[38;5;124m\"\u001b[39m\u001b[38;5;124mIPython won\u001b[39m\u001b[38;5;124m'\u001b[39m\u001b[38;5;124mt let you open fd=\u001b[39m\u001b[38;5;132;01m{\u001b[39;00mfile\u001b[38;5;132;01m}\u001b[39;00m\u001b[38;5;124m by default \u001b[39m\u001b[38;5;124m\"\u001b[39m\n\u001b[0;32m    320\u001b[0m         \u001b[38;5;124m\"\u001b[39m\u001b[38;5;124mas it is likely to crash IPython. If you know what you are doing, \u001b[39m\u001b[38;5;124m\"\u001b[39m\n\u001b[0;32m    321\u001b[0m         \u001b[38;5;124m\"\u001b[39m\u001b[38;5;124myou can use builtins\u001b[39m\u001b[38;5;124m'\u001b[39m\u001b[38;5;124m open.\u001b[39m\u001b[38;5;124m\"\u001b[39m\n\u001b[0;32m    322\u001b[0m     )\n\u001b[1;32m--> 324\u001b[0m \u001b[38;5;28;01mreturn\u001b[39;00m \u001b[43mio_open\u001b[49m\u001b[43m(\u001b[49m\u001b[43mfile\u001b[49m\u001b[43m,\u001b[49m\u001b[43m \u001b[49m\u001b[38;5;241;43m*\u001b[39;49m\u001b[43margs\u001b[49m\u001b[43m,\u001b[49m\u001b[43m \u001b[49m\u001b[38;5;241;43m*\u001b[39;49m\u001b[38;5;241;43m*\u001b[39;49m\u001b[43mkwargs\u001b[49m\u001b[43m)\u001b[49m\n",
      "\u001b[1;31mFileNotFoundError\u001b[0m: [Errno 2] No such file or directory: 'pvz.txt'"
     ]
    }
   ],
   "source": [
    "#susikurkite su Notepadu tekstinį failą su bet kokiu tekstu\n",
    "#parašykite klasę TxtReader, kuriai kreipimosimetu būtų nurodomas tekstinio failo pavadinimas;\n",
    "#klasės sukūrimo metu tas tekstinis failas turi būti nuskaitomas\n",
    "#ir nuskaitytas tekstas turi būti priskirtas atributui Text\n",
    "#parašykite metodą getText(), kuri grąžintų atributo text reikšmę\n",
    "\n",
    "class TxtReader():\n",
    "    def __init__(self, txt):\n",
    "        fname = 'pvz.txt'\n",
    "        f = open (fname, mode='r', encoding='utf-8')\n",
    "        txt = f.read()\n",
    "        f.close()\n",
    "        self.Text = txt\n",
    "        pass\n",
    "\n",
    "    def getText(self):\n",
    "        return self.Text\n",
    "\n",
    "ats = TxtReader('pvz.txt')\n",
    "print(ats.getText())"
   ]
  },
  {
   "cell_type": "code",
   "execution_count": null,
   "metadata": {},
   "outputs": [],
   "source": [
    "#parašykite klasę TxtAnalyzer, kuriai kreipimosi metu galima būtų nurodyti \n",
    "# failo pavadinimą ir stulpelių skirtuką.\n",
    "#klasė sukūrimo metu turi nuskaityti failą, stulpelius skaičių suskirstyti \n",
    "# į sąrašus ir juos priskirti atributams X, Y ir Z.\n",
    "#Realizuokite metodus, kurie grąžintų X, Y, Z sąrašų vidurkius, \n",
    "# minimalias ir maksimalias vertes. Pythone yra min, max, sum funkcijos;\n",
    "\n",
    "class TxtAnalyzer():\n",
    "    def __init__(self, f, st):\n",
    "        fname = 'data0.txt'\n",
    "        f = open (fname, mode='r', encoding='utf-8')\n",
    "        txt = f.read()\n",
    "        f.close()\n",
    "        self.Text = txt"
   ]
  },
  {
   "cell_type": "code",
   "execution_count": 21,
   "metadata": {},
   "outputs": [
    {
     "name": "stdout",
     "output_type": "stream",
     "text": [
      "35\n",
      "24\n"
     ]
    }
   ],
   "source": [
    "#užduotis su paveldjimu:\n",
    "#parašykite klasę Rectangle, kurioje būtų ilgio ir pločio atributai, \n",
    "# bei du metodai - getS - plotui ir getP -erimetrui rasti\n",
    "#Sukurkite išvestinę (child) klasę Kubas, kuri papildomai turėtų Tūrio skaičiavimo metodą\n",
    "#• Klasę Piramidė - išvestinė klasė (child class). Pridėkite\n",
    "# papildomą funkcionalumą - metodą, argumentus piramidės\n",
    "# tūrio skaičiavimui.\n",
    "\n",
    "class Rectangle ():\n",
    "    def __init__(self, a, b):\n",
    "        self.Plotas = a*b\n",
    "        self.Perimetras = 2*(a+b) \n",
    "        pass\n",
    "    def getS(self):\n",
    "        return self.Plotas\n",
    "    \n",
    "    def getP(self):\n",
    "        return self.Perimetras\n",
    "\n",
    "x = Rectangle(5,7)\n",
    "print(x.getS())\n",
    "print(x.getP())\n",
    "\n",
    "class Kubas(Rectangle):\n",
    "    def getV(self):\n",
    "        return a**3\n",
    "\n",
    "class Piramide(Rectangle):\n",
    "    def getT(self):\n",
    "        return "
   ]
  },
  {
   "cell_type": "code",
   "execution_count": 22,
   "metadata": {},
   "outputs": [
    {
     "name": "stdout",
     "output_type": "stream",
     "text": [
      "21.98\n",
      "31.400000000000002\n",
      "12.56\n",
      "37.68\n"
     ]
    }
   ],
   "source": [
    "#Parašykite klasę Apskritimas, kuriai glite nurodyti apskritimo spindulį r.\n",
    "# Erealizuokite du metodus getS ir getP, plotui ir perimetrui gražinti. \n",
    "#taip pat pridėkite metodą, skirtą spindulio keitimui\n",
    "# P=2*pi*r\n",
    "# S=pi*r^2\n",
    "\n",
    "class Apskritimas():\n",
    "    def __init__ (self, r):\n",
    "        self.r = r       \n",
    "    def getS(self):\n",
    "        self.Plotas = 3.14*(r^2)\n",
    "        return self.Plotas\n",
    "    def getP(self):\n",
    "        self.Perimetras = 2*3.14*r\n",
    "        return self.Perimetras\n",
    "    def changer(self, new_r):\n",
    "        self.r = new_r\n",
    "        \n",
    "r = int(input(\"Įveskite spindulį r\"))\n",
    "apskritimas  = Apskritimas(r)\n",
    "print(apskritimas.getS())\n",
    "print(apskritimas.getP())\n",
    "\n",
    "r = int(input(\"Įveskite spindulį r\"))\n",
    "apskritimas.changer(r)\n",
    "print(apskritimas.getS())\n",
    "print(apskritimas.getP())"
   ]
  },
  {
   "cell_type": "code",
   "execution_count": 23,
   "metadata": {},
   "outputs": [
    {
     "name": "stdout",
     "output_type": "stream",
     "text": [
      "157.0\n",
      "31.400000000000002\n",
      "628.0\n",
      "62.800000000000004\n"
     ]
    }
   ],
   "source": [
    "#advanced Apskritimas:\n",
    "#padarykite taip, jog klasė Apskritimas turėtų atributus S ir P, plotui ir perimetrui, \n",
    "# ir kad atnaujinus spindulį r, automatiškai pasikeistų S ir P atributų reikšmės, o getS, \n",
    "# getP metodai, kaip ir anksčiau grąžintų S ir P atributų reikšmes.\n",
    "class Apskritimas():\n",
    "    def __init__(self, r):\n",
    "        self.r = r\n",
    "        self.S = 2*3.14*r**2\n",
    "        self.P = 2*3.14*r\n",
    "        \n",
    "    def getS(self):\n",
    "        return self.S\n",
    "    \n",
    "    def getP (self):\n",
    "        return self.P\n",
    "    \n",
    "    def change (self, new_r):\n",
    "        self.r = new_r\n",
    "        self.S = 2*3.14*new_r**2\n",
    "        self.P = 2*3.14*new_r\n",
    "    \n",
    "aps = Apskritimas(5)\n",
    "print(aps.getS())\n",
    "print(aps.getP())\n",
    "aps.change(10)\n",
    "print(aps.getS())\n",
    "print(aps.getP())"
   ]
  },
  {
   "cell_type": "code",
   "execution_count": 24,
   "metadata": {},
   "outputs": [
    {
     "name": "stdout",
     "output_type": "stream",
     "text": [
      "78.5 31.400000000000002\n",
      "314.0 62.800000000000004\n"
     ]
    }
   ],
   "source": [
    "# #Parašykite klasę Apskritimas, kuriai glite nurodyti apskritimo spindulį r.\n",
    "# Erealizuokite du metodus getS ir getP, plotui ir perimetrui gražinti. \n",
    "# #taip pat pridėkite metodą, skirtą spindulio keitimui \n",
    "\n",
    "class Apskritimas:\n",
    "    def __init__(self, r):\n",
    "        self.r = r\n",
    "        self.performCalc()\n",
    "    def getS(self):\n",
    "        return 3.14 * self.r**2\n",
    "    def getP(self):\n",
    "        return 2 * 3.14 * self.r\n",
    "    def setR(self, r):\n",
    "        if r < 0:\n",
    "            raise ValueError(\"Spindulys negali buti maziau uz 0!\")\n",
    "        self.r = round(r, 2) # apvalinimas iki 2 sk po kablelio kaip pvz\n",
    "        self.performCalc()\n",
    "    def performCalc(self):\n",
    "        self.plotas = self.getS()\n",
    "        self.perimetras = self.getP()\n",
    "\n",
    "a5 = Apskritimas(5)\n",
    "print(a5.getS(), a5.getP()) \n",
    "\n",
    "a5.setR(10)\n",
    "print(a5.getS(), a5.getP())"
   ]
  },
  {
   "cell_type": "code",
   "execution_count": 25,
   "metadata": {},
   "outputs": [
    {
     "name": "stdout",
     "output_type": "stream",
     "text": [
      "31.400000000000002 78.5\n",
      "62.800000000000004 314.0\n"
     ]
    }
   ],
   "source": [
    "class Apskritimas():\n",
    "    def __init__(self, r):\n",
    "        self.R = r\n",
    "        self.S = 0\n",
    "        self.P = 0\n",
    "        self.upadeAll()\n",
    "    \n",
    "    def getP(self):\n",
    "        return self.P\n",
    "    \n",
    "    def getS(self):\n",
    "        return self.S\n",
    "    \n",
    "    def upadeAll(self):\n",
    "        self.S = 3.14*self.R**2\n",
    "        self.P = 2*3.14*self.R\n",
    "        \n",
    "    def change(self, new_r):\n",
    "        self.R = new_r\n",
    "        self.upadeAll()\n",
    "\n",
    "a = Apskritimas(5)\n",
    "print(a.getP(), a.getS())\n",
    "a.change(10)\n",
    "print(a.getP(), a.getS())"
   ]
  },
  {
   "cell_type": "code",
   "execution_count": 26,
   "metadata": {},
   "outputs": [
    {
     "name": "stdout",
     "output_type": "stream",
     "text": [
      "Plotas: \n",
      "50\n",
      "Perimetras: \n",
      "30\n",
      "Piramides turis:  10.0\n",
      "Kubo turis:  30\n"
     ]
    }
   ],
   "source": [
    "class Rectangle():\n",
    "\n",
    "    def __init__(self, a, b): \n",
    "\n",
    "        self.S = a * b\n",
    "\n",
    "        self.P = 2*(a + b)\n",
    "\n",
    "    def getP(self):      \n",
    "\n",
    "        return self.P\n",
    "\n",
    "    def getS(self):      \n",
    "\n",
    "        return self.S\n",
    "\n",
    "figura = Rectangle(a=10, b=5)\n",
    "\n",
    "print(\"Plotas: \", figura.getS(), \"Perimetras: \",figura.getP(), sep ='\\n' )\n",
    " \n",
    " \n",
    "class Piramide(Rectangle):\n",
    "\n",
    "    def __init__ (self, a, b, h):\n",
    "\n",
    "        super().__init__(a, b) # cia atkeliavo is Rectangle funkcijos, 9 eilute\n",
    "\n",
    "        self.h = h\n",
    "\n",
    "    def get_piramides_turis(self):\n",
    "\n",
    "        Turis = 1/3*self.S*self.h\n",
    "\n",
    "        return Turis\n",
    "\n",
    "figura = Piramide(a= 2, b=3, h=5)\n",
    "\n",
    "print(\"Piramides turis: \", figura.get_piramides_turis())\n",
    "\n",
    "class Kubas(Rectangle):\n",
    "\n",
    "    def __init__ (self, a, b, h):\n",
    "\n",
    "        super().__init__(a, b) # cia atkeliavo is Rectangle funkcijos, 9 eilute\n",
    "\n",
    "        self.a = h\n",
    "\n",
    "    def getKubo_turis(self):\n",
    "\n",
    "        Turis = self.S*self.a\n",
    "\n",
    "        return Turis\n",
    "\n",
    "figura = Kubas(a= 2, b=5, h= 3)\n",
    "\n",
    "print(\"Kubo turis: \", figura.getKubo_turis())"
   ]
  },
  {
   "cell_type": "code",
   "execution_count": 11,
   "metadata": {},
   "outputs": [
    {
     "name": "stdout",
     "output_type": "stream",
     "text": [
      "pavadinimas turi 40 sedimu vietu\n",
      "pavadinimas turi 40 sedimu vietu\n",
      "pavadinimas turi 40 sedimu vietu\n"
     ]
    }
   ],
   "source": [
    "#su paveldėjimu:\n",
    "# Sukurkite klasę Vehicle su tokiais atributais - Pavadinimas, Rida\n",
    "#Sukurkite išvestines klases Car, Bus, Train, \n",
    "# kurie paveldėtų viską iš Vehicle, ir papildomai būtų galima nurodyti \n",
    "# Seats - sėdimų vietų skaičių, ir visi turėtų metoda GetSeats() grąžinantį tekstą: \n",
    "# <Pavadinimas> turi <Seats> sėdimų vietų.\n",
    "\n",
    "# class Vehicle():\n",
    "#     def __init__(self, P, R):\n",
    "#         self.P = P\n",
    "#         self.R = R\n",
    "\n",
    "# class Car(Vehicle):\n",
    "#     def __init__(self, P, R, S):\n",
    "#         super().__init__(P, R)\n",
    "#         self.S = S\n",
    "    \n",
    "#     def GetSeats(self):\n",
    "#         Txt = self.P + 'turi ' + str(self.S) + ' sedimu vietu'\n",
    "#         return Txt\n",
    "\n",
    "# test = Car(P = 'pavadinimas ', R = 5000, S =40)\n",
    "# print(test.GetSeats())\n",
    "\n",
    "# class Bus(Vehicle):\n",
    "#     def __init__(self, P, R, S):\n",
    "#         super().__init__(P, R)\n",
    "#         self.S = S\n",
    "    \n",
    "#     def GetSeats(self):\n",
    "#         Txt = self.P + 'turi ' + str(self.S) + ' sedimu vietu'\n",
    "#         return Txt\n",
    "\n",
    "# test = Bus(P = 'pavadinimas ', R = 5000, S =40)\n",
    "# print(test.GetSeats())\n",
    "\n",
    "# class Train(Vehicle):\n",
    "#     def __init__(self, P, R, S):\n",
    "#         super().__init__(P, R)\n",
    "#         self.S = S\n",
    "    \n",
    "#     def GetSeats(self):\n",
    "#         Txt = self.P + 'turi ' + str(self.S) + ' sedimu vietu'\n",
    "#         return Txt\n",
    "\n",
    "# test = Train(P = 'pavadinimas ', R = 5000, S =40)\n",
    "# print(test.GetSeats())"
   ]
  },
  {
   "cell_type": "code",
   "execution_count": 6,
   "metadata": {},
   "outputs": [
    {
     "name": "stdout",
     "output_type": "stream",
     "text": [
      "['52;0.3666;19.0616\\n', '11;0.8672;9.5391\\n', '55;0.9966;54.8137\\n', '55;0.7318;40.2481\\n', '47;0.6703;31.5026\\n', '71;0.2205;15.6522\\n', '49;0.4725;23.1545\\n', '48;0.5563;26.7004\\n', '82;0.5348;43.8516\\n', '24;0.3462;8.3078\\n', '13;0.784;10.1921\\n', '95;0.348;33.0584\\n', '22;0.8328;18.3206\\n', '95;0.5423;51.5156\\n', '32;0.3351;10.722\\n', '35;0.1916;6.7055\\n', '86;0.1262;10.8526\\n', '90;0.5941;53.47\\n', '8;0.914;7.3119\\n', '21;0.7839;16.4628\\n', '23;0.7763;17.8547\\n', '92;0.8757;80.5658\\n', '38;0.4502;17.1066\\n', '99;0.6906;68.37\\n', '29;0.8418;24.4108\\n', '93;0.1275;11.8609\\n', '53;0.1101;5.8339\\n', '87;0.3211;27.9361\\n', '47;0.5525;25.9672\\n', '38;0.5458;20.7417\\n', '38;0.8458;32.1402\\n', '36;0.6115;22.0154\\n', '83;0.5083;42.1888\\n', '79;0.7373;58.2501\\n', '2;0.9759;1.9518\\n', '18;0.7192;12.9463\\n', '86;0.0424;3.6446\\n', '78;0.4218;32.9034\\n', '51;0.8271;42.1807\\n', '7;0.796;5.5719\\n', '65;0.2074;13.4795\\n', '9;0.0712;0.6406\\n', '50;0.0602;3.0117\\n', '59;0.1218;7.1866\\n', '91;0.5095;46.3658\\n', '39;0.4785;18.662\\n', '36;0.9309;33.5135\\n', '16;0.9365;14.9834\\n', '73;0.918;67.0125\\n', '54;0.8063;43.5409\\n', '79;0.6445;50.9184\\n', '47;0.2458;11.5529\\n', '97;0.891;86.4277\\n', '0;0.447;0.0\\n', '18;0.4852;8.7331\\n', '54;0.2035;10.9905\\n', '93;0.8647;80.4135\\n', '79;0.0794;6.2735\\n', '62;0.8848;54.8547\\n', '63;0.632;39.8134\\n', '22;0.2339;5.146\\n', '49;0.5989;29.3444\\n', '19;0.3103;5.8948\\n', '43;0.6658;28.6315\\n', '65;0.2537;16.4886\\n', '0;0.141;0.0\\n', '80;0.034;2.7227\\n', '70;0.845;59.1502\\n', '95;0.2386;22.6687\\n', '58;0.9328;54.1016\\n', '47;0.8425;39.5996\\n', '89;0.4205;37.4252\\n', '99;0.6455;63.9074\\n', '94;0.4627;43.4957\\n', '70;0.3674;25.7203\\n', '41;0.0327;1.339\\n', '60;0.1313;7.8757\\n', '18;0.6409;11.5358\\n', '12;0.8725;10.4701\\n', '3;0.6112;1.8335\\n', '28;0.9838;27.5461\\n', '50;0.1139;5.6974\\n', '33;0.5738;18.9364\\n', '52;0.8379;43.5727\\n', '99;0.5597;55.4141\\n', '41;0.7883;32.3216\\n', '1;0.4241;0.4241\\n', '58;0.511;29.6396\\n', '60;0.876;52.5573\\n', '5;0.45;2.2501\\n', '3;0.0977;0.293\\n', '44;0.7697;33.8663\\n', '83;0.5361;44.4997\\n', '51;0.671;34.2191\\n', '58;0.8126;47.1291\\n', '27;0.0196;0.5292\\n', '71;0.8812;62.5665\\n', '96;0.1953;18.7448\\n', '18;0.9794;17.63\\n', '83;0.84;69.716']\n",
      "[52.0, 11.0, 55.0, 55.0, 47.0, 71.0, 49.0, 48.0, 82.0, 24.0, 13.0, 95.0, 22.0, 95.0, 32.0, 35.0, 86.0, 90.0, 8.0, 21.0, 23.0, 92.0, 38.0, 99.0, 29.0, 93.0, 53.0, 87.0, 47.0, 38.0, 38.0, 36.0, 83.0, 79.0, 2.0, 18.0, 86.0, 78.0, 51.0, 7.0, 65.0, 9.0, 50.0, 59.0, 91.0, 39.0, 36.0, 16.0, 73.0, 54.0, 79.0, 47.0, 97.0, 0.0, 18.0, 54.0, 93.0, 79.0, 62.0, 63.0, 22.0, 49.0, 19.0, 43.0, 65.0, 0.0, 80.0, 70.0, 95.0, 58.0, 47.0, 89.0, 99.0, 94.0, 70.0, 41.0, 60.0, 18.0, 12.0, 3.0, 28.0, 50.0, 33.0, 52.0, 99.0, 41.0, 1.0, 58.0, 60.0, 5.0, 3.0, 44.0, 83.0, 51.0, 58.0, 27.0, 71.0, 96.0, 18.0, 83.0]\n",
      "[0.3666, 0.8672, 0.9966, 0.7318, 0.6703, 0.2205, 0.4725, 0.5563, 0.5348, 0.3462, 0.784, 0.348, 0.8328, 0.5423, 0.3351, 0.1916, 0.1262, 0.5941, 0.914, 0.7839, 0.7763, 0.8757, 0.4502, 0.6906, 0.8418, 0.1275, 0.1101, 0.3211, 0.5525, 0.5458, 0.8458, 0.6115, 0.5083, 0.7373, 0.9759, 0.7192, 0.0424, 0.4218, 0.8271, 0.796, 0.2074, 0.0712, 0.0602, 0.1218, 0.5095, 0.4785, 0.9309, 0.9365, 0.918, 0.8063, 0.6445, 0.2458, 0.891, 0.447, 0.4852, 0.2035, 0.8647, 0.0794, 0.8848, 0.632, 0.2339, 0.5989, 0.3103, 0.6658, 0.2537, 0.141, 0.034, 0.845, 0.2386, 0.9328, 0.8425, 0.4205, 0.6455, 0.4627, 0.3674, 0.0327, 0.1313, 0.6409, 0.8725, 0.6112, 0.9838, 0.1139, 0.5738, 0.8379, 0.5597, 0.7883, 0.4241, 0.511, 0.876, 0.45, 0.0977, 0.7697, 0.5361, 0.671, 0.8126, 0.0196, 0.8812, 0.1953, 0.9794, 0.84]\n",
      "[19.0616, 9.5391, 54.8137, 40.2481, 31.5026, 15.6522, 23.1545, 26.7004, 43.8516, 8.3078, 10.1921, 33.0584, 18.3206, 51.5156, 10.722, 6.7055, 10.8526, 53.47, 7.3119, 16.4628, 17.8547, 80.5658, 17.1066, 68.37, 24.4108, 11.8609, 5.8339, 27.9361, 25.9672, 20.7417, 32.1402, 22.0154, 42.1888, 58.2501, 1.9518, 12.9463, 3.6446, 32.9034, 42.1807, 5.5719, 13.4795, 0.6406, 3.0117, 7.1866, 46.3658, 18.662, 33.5135, 14.9834, 67.0125, 43.5409, 50.9184, 11.5529, 86.4277, 0.0, 8.7331, 10.9905, 80.4135, 6.2735, 54.8547, 39.8134, 5.146, 29.3444, 5.8948, 28.6315, 16.4886, 0.0, 2.7227, 59.1502, 22.6687, 54.1016, 39.5996, 37.4252, 63.9074, 43.4957, 25.7203, 1.339, 7.8757, 11.5358, 10.4701, 1.8335, 27.5461, 5.6974, 18.9364, 43.5727, 55.4141, 32.3216, 0.4241, 29.6396, 52.5573, 2.2501, 0.293, 33.8663, 44.4997, 34.2191, 47.1291, 0.5292, 62.5665, 18.7448, 17.63, 69.716]\n",
      "(51.47, 0.546122, 27.091621)\n",
      "(0.0, 0.0196, 0.0)\n",
      "(99.0, 0.9966, 86.4277)\n"
     ]
    }
   ],
   "source": [
    "#parašykite klasę TxtAnalyzer, kuriai kreipimosi metu galima būtų nurodyti failo pavadinimą ir stulpelių skirtuką.\n",
    "#klasė sukūrimo metu turi nuskaityti failą, stulpelius skaičių suskirstyti į sąrašus ir juos priskirti atributams X, Y ir Z.\n",
    "#Realizuokite metodus, kurie grąžintų X, Y, Z sąrašų vidurkius, minimalias ir maksimalias vertes. Pythone yra min, max, sum funkcijos\n",
    "\n",
    "class TxtAnalyzer():\n",
    "    def __init__(self, pav, skirt):\n",
    "        self.pavadinimas = pav \n",
    "        self.skirtukas = skirt\n",
    "        self.x = []\n",
    "        self.y = [] \n",
    "        self.z = []\n",
    "        pass\n",
    "    \n",
    "    def TxtReader(self):\n",
    "        fname = self.pavadinimas\n",
    "        f = open (fname, mode='r', encoding='utf-8')\n",
    "        tekstas = f.readlines()\n",
    "        print(tekstas)\n",
    "        f.close()\n",
    "\n",
    "        for x in tekstas:\n",
    "            self.x.append(float(x.split(self.skirtukas)[0]))\n",
    "            self.y.append(float(x.split(self.skirtukas)[1]))\n",
    "            self.z.append(float(x.split(self.skirtukas)[2]))\n",
    "        print(self.x)\n",
    "        print(self.y)\n",
    "        print(self.z)\n",
    "\n",
    "    def getVidurkis(self):\n",
    "        vidurkisX = sum(self.x)/len(self.x)\n",
    "        vidurkisY = sum(self.y)/len(self.y)\n",
    "        vidurkisZ = sum(self.z)/len(self.z)\n",
    "        return vidurkisX, vidurkisY, vidurkisZ\n",
    "    \n",
    "    def getMin(self):\n",
    "        minX = min(self.x)\n",
    "        minY = min(self.y)\n",
    "        minZ = min(self.z)\n",
    "        return minX, minY, minZ\n",
    "    \n",
    "    def getMax(self):\n",
    "        maxX = max(self.x)\n",
    "        maxY = max(self.y)\n",
    "        maxZ = max(self.z)\n",
    "        return maxX, maxY, maxZ\n",
    "\n",
    "\n",
    "z = TxtAnalyzer('data0.txt', ';')\n",
    "z.TxtReader()\n",
    "print(z.getVidurkis())\n",
    "print(z.getMin())\n",
    "print(z.getMax())"
   ]
  },
  {
   "cell_type": "code",
   "execution_count": 7,
   "metadata": {},
   "outputs": [
    {
     "name": "stdout",
     "output_type": "stream",
     "text": [
      "X: \n",
      "Ave: 51.47\n",
      "Min: 0.0\n",
      "Max: 99.0\n",
      "\n",
      "Y: \n",
      "Ave: 0.546122\n",
      "Min: 0.0196\n",
      "Max: 0.9966\n",
      "\n",
      "Z: \n",
      "Ave: 27.091621\n",
      "Min: 0.0\n",
      "Max: 86.4277\n"
     ]
    }
   ],
   "source": [
    "class TxtAnalyzer:\n",
    "    def __init__(self, fileName, dell=';'):\n",
    "        self.fileName = fileName\n",
    "        self.dell = dell\n",
    "        self.X, self.Y, self.Z = self.readFile()\n",
    "    def readFile(self):\n",
    "        X, Y, Z = [], [], []\n",
    "        try:\n",
    "             with open(self.fileName, 'r') as file:\n",
    "                for line in file:\n",
    "                    values = line.strip().split(self.dell)\n",
    "                    if len(values) == 3:\n",
    "                        X.append(float(values[0]))\n",
    "                        Y.append(float(values[1]))\n",
    "                        Z.append(float(values[2]))\n",
    "        except FileNotFoundError:\n",
    "            print(\"File not found!\")\n",
    "        return X, Y, Z\n",
    "    def Ave(self, data):\n",
    "        if data:\n",
    "            return sum(data)/len(data)\n",
    "        else:\n",
    "            return None\n",
    "    def Min(self, data):\n",
    "        if data:\n",
    "            return min(data)\n",
    "        else:\n",
    "            return None\n",
    "    def Max(self, data):\n",
    "        if data:\n",
    "            return max(data)\n",
    "        else:\n",
    "            return None\n",
    "        \n",
    "fileName = \"data0.txt\"  \n",
    "analyzer = TxtAnalyzer(fileName)\n",
    "print(\"X: \")\n",
    "print(\"Ave:\", analyzer.Ave(analyzer.X))\n",
    "print(\"Min:\", analyzer.Min(analyzer.X))\n",
    "print(\"Max:\", analyzer.Max(analyzer.X))\n",
    "print(\"\\nY: \")\n",
    "print(\"Ave:\", analyzer.Ave(analyzer.Y))\n",
    "print(\"Min:\", analyzer.Min(analyzer.Y))\n",
    "print(\"Max:\", analyzer.Max(analyzer.Y))\n",
    "print(\"\\nZ: \")\n",
    "print(\"Ave:\", analyzer.Ave(analyzer.Z))\n",
    "print(\"Min:\", analyzer.Min(analyzer.Z))\n",
    "print(\"Max:\", analyzer.Max(analyzer.Z))"
   ]
  },
  {
   "cell_type": "code",
   "execution_count": 8,
   "metadata": {},
   "outputs": [
    {
     "name": "stdout",
     "output_type": "stream",
     "text": [
      "[0.25, 1.25, 2.25, 3.25, 4.25]\n"
     ]
    }
   ],
   "source": [
    "x = [1,2,3,4,5]\n",
    "y = []\n",
    "\n",
    "for skaicius in x:\n",
    "    y.append(skaicius-0.75)\n",
    "print(y)"
   ]
  },
  {
   "cell_type": "code",
   "execution_count": 11,
   "metadata": {},
   "outputs": [
    {
     "name": "stdout",
     "output_type": "stream",
     "text": [
      "[0.25, 1.25, 2.25, 3.25, 4.25]\n"
     ]
    }
   ],
   "source": [
    "x = [1,2,3,4,5]\n",
    "y = [i-0.75 for i in x]\n",
    "print(y)"
   ]
  },
  {
   "cell_type": "code",
   "execution_count": 10,
   "metadata": {},
   "outputs": [],
   "source": [
    "import numpy as np"
   ]
  },
  {
   "cell_type": "code",
   "execution_count": 14,
   "metadata": {},
   "outputs": [
    {
     "name": "stdout",
     "output_type": "stream",
     "text": [
      "[0 2 4 6 8]\n",
      "<class 'numpy.ndarray'>\n"
     ]
    }
   ],
   "source": [
    "# array - masyvai\n",
    "x = np.arange(0,10,2) #kaip ir range = galima nurodyti zingsni\n",
    "print(x)\n",
    "print(type(x))"
   ]
  },
  {
   "cell_type": "code",
   "execution_count": 15,
   "metadata": {},
   "outputs": [
    {
     "name": "stdout",
     "output_type": "stream",
     "text": [
      "[-0.75  1.25  3.25  5.25  7.25]\n"
     ]
    }
   ],
   "source": [
    "y = x-0.75\n",
    "print(y)"
   ]
  },
  {
   "cell_type": "code",
   "execution_count": null,
   "metadata": {},
   "outputs": [],
   "source": [
    "np.average()\n",
    "np.min()\n",
    "np.mean()\n",
    "np.median()"
   ]
  },
  {
   "cell_type": "code",
   "execution_count": 17,
   "metadata": {},
   "outputs": [
    {
     "name": "stdout",
     "output_type": "stream",
     "text": [
      "[1, 2, 3, 4, 5, 6, 7, 8, 9, 10]\n"
     ]
    }
   ],
   "source": [
    "a_list =[i for i in range(1,11)]\n",
    "print(a_list)"
   ]
  },
  {
   "cell_type": "code",
   "execution_count": 19,
   "metadata": {},
   "outputs": [
    {
     "name": "stdout",
     "output_type": "stream",
     "text": [
      "[ 1.75  2.75  3.75  4.75  5.75  6.75  7.75  8.75  9.75 10.75]\n"
     ]
    }
   ],
   "source": [
    "a_array = np.asarray(a_list) #konvertuoja nurodytus duomenis i skaiciu masyva (sarasas -> masyvas)\n",
    "print(a_array+0.75)"
   ]
  },
  {
   "cell_type": "code",
   "execution_count": 21,
   "metadata": {},
   "outputs": [
    {
     "name": "stdout",
     "output_type": "stream",
     "text": [
      "[ 1  8 15]\n"
     ]
    }
   ],
   "source": [
    "x = [1,2,3]\n",
    "y = [1,4,5]\n",
    "x_np = np.asarray(x)\n",
    "y_np = np.asarray(y)\n",
    "c = x_np*y_np\n",
    "print(c)"
   ]
  },
  {
   "cell_type": "code",
   "execution_count": 24,
   "metadata": {},
   "outputs": [
    {
     "data": {
      "text/plain": [
       "5"
      ]
     },
     "execution_count": 24,
     "metadata": {},
     "output_type": "execute_result"
    }
   ],
   "source": [
    "np.min(x)\n",
    "np.max(y_np)"
   ]
  },
  {
   "cell_type": "code",
   "execution_count": 34,
   "metadata": {},
   "outputs": [
    {
     "name": "stdout",
     "output_type": "stream",
     "text": [
      "[1 7 5 9 2 6 5 9 0 7 7 2 9 0 3 5 9 3 9 1 8 0 4 2 2 8 7 5 0 1 4 8 5 4 5 6 5\n",
      " 9 6 7 9 4 0 4 2 1 0 3 4 0 1 7 9 5 8 8 4 0 0 1 2 2 7 9 7 9 7 8 9 6 3 0 6 1\n",
      " 5 3 2 4 5 6 3 0 4 7 6 9 3 8 2 3 3 3 4 4 6 0 2 0 9 9]\n"
     ]
    }
   ],
   "source": [
    "atsitiktinis = np.random.randint(0,10, 100) #(skaiciai nuo 0 iki 10; bus 100 elementu; reik nurodyti ribas)\n",
    "print(atsitiktinis)"
   ]
  },
  {
   "cell_type": "code",
   "execution_count": 38,
   "metadata": {},
   "outputs": [
    {
     "name": "stdout",
     "output_type": "stream",
     "text": [
      "[0.21933604 0.39516753 0.36056771 0.03627433 0.28538904 0.20364993\n",
      " 0.2191842  0.57711043 0.14155506 0.43347217 0.26990941 0.65599401\n",
      " 0.43587547 0.95899793 0.1902091  0.24284896 0.27484464 0.20834747\n",
      " 0.5747631  0.60549163 0.66585043 0.84540581 0.11468923 0.84707716\n",
      " 0.79630937 0.44250696 0.76480734 0.85446903 0.62871991 0.29548167\n",
      " 0.43839419 0.24397501 0.36955237 0.18537973 0.44969173 0.34622903\n",
      " 0.31836944 0.55321732 0.33278443 0.13103531 0.24657014 0.58458043\n",
      " 0.58061944 0.05148045 0.8898333  0.50772914 0.68753264 0.84269948\n",
      " 0.9411297  0.10600481 0.83672693 0.64549106 0.68404682 0.00576173\n",
      " 0.05318665 0.45678865 0.40571314 0.34125348 0.33126074 0.16324295\n",
      " 0.52347873 0.39712731 0.76253723 0.14799474 0.39646796 0.94587953\n",
      " 0.34083233 0.68637307 0.44710454 0.68007582 0.77427687 0.78159008\n",
      " 0.91115052 0.68018223 0.07890134 0.1617061  0.57670268 0.3912888\n",
      " 0.58972519 0.61201198 0.29825284 0.39709094 0.62530174 0.42755318\n",
      " 0.79280073 0.44213921 0.85582724 0.12607373 0.45858232 0.8798258\n",
      " 0.35889995 0.89489039 0.85298515 0.07965588 0.29727088 0.26653142\n",
      " 0.48346821 0.42334648 0.30866331 0.42306791]\n"
     ]
    }
   ],
   "source": [
    "atsitiktinis_float = np.random.rand(100) #(ribos nuo 0 iki 1, niekada nebus kitaip)\n",
    "print(atsitiktinis_float)"
   ]
  },
  {
   "cell_type": "code",
   "execution_count": 74,
   "metadata": {},
   "outputs": [
    {
     "name": "stdout",
     "output_type": "stream",
     "text": [
      "5.03\n",
      "4.989191969001539\n",
      "5.0 1 9\n"
     ]
    }
   ],
   "source": [
    "xas = np.random.randint(1,10,100)\n",
    "svoriai = np.random.rand(100)\n",
    "# mean ir average\n",
    "vidurkis = np.mean(xas)\n",
    "print(vidurkis)\n",
    "sv_vid = np.average(xas, weights=svoriai)\n",
    "print(sv_vid)\n",
    "#median()\n",
    "medx  = np.median(xas)\n",
    "print(medx, np.min(xas), np.max(xas))"
   ]
  },
  {
   "cell_type": "code",
   "execution_count": 82,
   "metadata": {},
   "outputs": [
    {
     "name": "stdout",
     "output_type": "stream",
     "text": [
      "[ 0.          0.71428571  1.42857143  2.14285714  2.85714286  3.57142857\n",
      "  4.28571429  5.          5.71428571  6.42857143  7.14285714  7.85714286\n",
      "  8.57142857  9.28571429 10.        ]\n"
     ]
    }
   ],
   "source": [
    "l = np.linspace(0,10,15)\n",
    "print(l)"
   ]
  },
  {
   "cell_type": "code",
   "execution_count": 88,
   "metadata": {},
   "outputs": [
    {
     "name": "stdout",
     "output_type": "stream",
     "text": [
      "0\n",
      "4.5\n",
      "9\n"
     ]
    }
   ],
   "source": [
    "# asarray, arange, min, max, mean, average (funkcija, kuriai galima nurodyti vertinius koeficientus), median\n",
    "n_np = np.arange(0,10)\n",
    "# kaip metodai: \n",
    "minn = n_np.min()\n",
    "print(minn)\n",
    "print(n_np.mean()) #basic aritmetinis vidurkis \n",
    "\n",
    "print(n_np.max())"
   ]
  },
  {
   "cell_type": "code",
   "execution_count": 13,
   "metadata": {},
   "outputs": [],
   "source": [
    "%load_ext autoreload #turi buti ivykdytos pries importavimus\n",
    "%autoreload 2\n",
    "import modulis"
   ]
  },
  {
   "cell_type": "code",
   "execution_count": 15,
   "metadata": {},
   "outputs": [],
   "source": [
    "import modulis"
   ]
  },
  {
   "cell_type": "code",
   "execution_count": 16,
   "metadata": {},
   "outputs": [
    {
     "name": "stdout",
     "output_type": "stream",
     "text": [
      "70\n"
     ]
    }
   ],
   "source": [
    "print(modulis.A)"
   ]
  },
  {
   "cell_type": "code",
   "execution_count": 17,
   "metadata": {},
   "outputs": [
    {
     "name": "stdout",
     "output_type": "stream",
     "text": [
      "As esu nauja printA() funkcija\n",
      "Dar vienas pakeitimas\n"
     ]
    }
   ],
   "source": [
    "modulis.printA()"
   ]
  },
  {
   "cell_type": "code",
   "execution_count": 18,
   "metadata": {},
   "outputs": [
    {
     "name": "stdout",
     "output_type": "stream",
     "text": [
      "pavadinimas turi 40 sedimu vietu\n",
      "pavadinimas turi 40 sedimu vietu\n",
      "pavadinimas turi 40 sedimu vietu\n"
     ]
    }
   ],
   "source": [
    "# iškelkite savo anksčiau rašytas Vehicle, Car, etc klases\n",
    "# į modulį\n",
    "# ir patikrinkite klasių veikimą\n",
    "# sukurdami kintamuosius ir patikrindami jų veikimą\n",
    "\n",
    "test = modulis.Car(P = 'pavadinimas ', R = 5000, S =40)\n",
    "print(test.GetSeats())\n",
    "\n",
    "test = modulis.Bus(P = 'pavadinimas ', R = 5000, S =40)\n",
    "print(test.GetSeats())\n",
    "\n",
    "test = modulis.Train(P = 'pavadinimas ', R = 5000, S =40)\n",
    "print(test.GetSeats())"
   ]
  },
  {
   "cell_type": "code",
   "execution_count": 19,
   "metadata": {},
   "outputs": [
    {
     "ename": "FileNotFoundError",
     "evalue": "[Errno 2] No such file or directory: 'REF_D_1k_FW_2.05.dat'",
     "output_type": "error",
     "traceback": [
      "\u001b[1;31m---------------------------------------------------------------------------\u001b[0m",
      "\u001b[1;31mFileNotFoundError\u001b[0m                         Traceback (most recent call last)",
      "Cell \u001b[1;32mIn[19], line 44\u001b[0m\n\u001b[0;32m     35\u001b[0m         \u001b[38;5;66;03m# def getPMax(self):\u001b[39;00m\n\u001b[0;32m     36\u001b[0m         \u001b[38;5;66;03m#     Pmax = max(self.P)\u001b[39;00m\n\u001b[0;32m     37\u001b[0m         \u001b[38;5;66;03m#     return Pmax\u001b[39;00m\n\u001b[1;32m   (...)\u001b[0m\n\u001b[0;32m     40\u001b[0m         \u001b[38;5;66;03m#     PCE = Pmax / 1000 *100\u001b[39;00m\n\u001b[0;32m     41\u001b[0m         \u001b[38;5;66;03m#     return PCE\u001b[39;00m\n\u001b[0;32m     43\u001b[0m z \u001b[38;5;241m=\u001b[39m TxtAnalyzer(\u001b[38;5;124m'\u001b[39m\u001b[38;5;124mREF_D_1k_FW_2.05.dat\u001b[39m\u001b[38;5;124m'\u001b[39m, \u001b[38;5;124m'\u001b[39m\u001b[38;5;124m;\u001b[39m\u001b[38;5;124m'\u001b[39m)\n\u001b[1;32m---> 44\u001b[0m \u001b[43mz\u001b[49m\u001b[38;5;241;43m.\u001b[39;49m\u001b[43mTxtReader\u001b[49m\u001b[43m(\u001b[49m\u001b[43m)\u001b[49m\n\u001b[0;32m     45\u001b[0m \u001b[38;5;66;03m# print(z.getVidurkis())\u001b[39;00m\n\u001b[0;32m     46\u001b[0m \u001b[38;5;66;03m# print(z.getMin())\u001b[39;00m\n\u001b[0;32m     47\u001b[0m \u001b[38;5;66;03m# print(z.getMax())\u001b[39;00m\n",
      "Cell \u001b[1;32mIn[19], line 20\u001b[0m, in \u001b[0;36mTxtAnalyzer.TxtReader\u001b[1;34m(self)\u001b[0m\n\u001b[0;32m     18\u001b[0m \u001b[38;5;28;01mdef\u001b[39;00m \u001b[38;5;21mTxtReader\u001b[39m(\u001b[38;5;28mself\u001b[39m):\n\u001b[0;32m     19\u001b[0m     fname \u001b[38;5;241m=\u001b[39m \u001b[38;5;28mself\u001b[39m\u001b[38;5;241m.\u001b[39mpavadinimas\n\u001b[1;32m---> 20\u001b[0m     f \u001b[38;5;241m=\u001b[39m \u001b[38;5;28;43mopen\u001b[39;49m\u001b[43m \u001b[49m\u001b[43m(\u001b[49m\u001b[43mfname\u001b[49m\u001b[43m,\u001b[49m\u001b[43m \u001b[49m\u001b[43mmode\u001b[49m\u001b[38;5;241;43m=\u001b[39;49m\u001b[38;5;124;43m'\u001b[39;49m\u001b[38;5;124;43mr\u001b[39;49m\u001b[38;5;124;43m'\u001b[39;49m\u001b[43m,\u001b[49m\u001b[43m \u001b[49m\u001b[43mencoding\u001b[49m\u001b[38;5;241;43m=\u001b[39;49m\u001b[38;5;124;43m'\u001b[39;49m\u001b[38;5;124;43mutf-8\u001b[39;49m\u001b[38;5;124;43m'\u001b[39;49m\u001b[43m)\u001b[49m\n\u001b[0;32m     21\u001b[0m     tekstas \u001b[38;5;241m=\u001b[39m f\u001b[38;5;241m.\u001b[39mreadlines()\n\u001b[0;32m     22\u001b[0m     \u001b[38;5;28mprint\u001b[39m(tekstas)\n",
      "File \u001b[1;32m~\\AppData\\Local\\Packages\\PythonSoftwareFoundation.Python.3.12_qbz5n2kfra8p0\\LocalCache\\local-packages\\Python312\\site-packages\\IPython\\core\\interactiveshell.py:324\u001b[0m, in \u001b[0;36m_modified_open\u001b[1;34m(file, *args, **kwargs)\u001b[0m\n\u001b[0;32m    317\u001b[0m \u001b[38;5;28;01mif\u001b[39;00m file \u001b[38;5;129;01min\u001b[39;00m {\u001b[38;5;241m0\u001b[39m, \u001b[38;5;241m1\u001b[39m, \u001b[38;5;241m2\u001b[39m}:\n\u001b[0;32m    318\u001b[0m     \u001b[38;5;28;01mraise\u001b[39;00m \u001b[38;5;167;01mValueError\u001b[39;00m(\n\u001b[0;32m    319\u001b[0m         \u001b[38;5;124mf\u001b[39m\u001b[38;5;124m\"\u001b[39m\u001b[38;5;124mIPython won\u001b[39m\u001b[38;5;124m'\u001b[39m\u001b[38;5;124mt let you open fd=\u001b[39m\u001b[38;5;132;01m{\u001b[39;00mfile\u001b[38;5;132;01m}\u001b[39;00m\u001b[38;5;124m by default \u001b[39m\u001b[38;5;124m\"\u001b[39m\n\u001b[0;32m    320\u001b[0m         \u001b[38;5;124m\"\u001b[39m\u001b[38;5;124mas it is likely to crash IPython. If you know what you are doing, \u001b[39m\u001b[38;5;124m\"\u001b[39m\n\u001b[0;32m    321\u001b[0m         \u001b[38;5;124m\"\u001b[39m\u001b[38;5;124myou can use builtins\u001b[39m\u001b[38;5;124m'\u001b[39m\u001b[38;5;124m open.\u001b[39m\u001b[38;5;124m\"\u001b[39m\n\u001b[0;32m    322\u001b[0m     )\n\u001b[1;32m--> 324\u001b[0m \u001b[38;5;28;01mreturn\u001b[39;00m \u001b[43mio_open\u001b[49m\u001b[43m(\u001b[49m\u001b[43mfile\u001b[49m\u001b[43m,\u001b[49m\u001b[43m \u001b[49m\u001b[38;5;241;43m*\u001b[39;49m\u001b[43margs\u001b[49m\u001b[43m,\u001b[49m\u001b[43m \u001b[49m\u001b[38;5;241;43m*\u001b[39;49m\u001b[38;5;241;43m*\u001b[39;49m\u001b[43mkwargs\u001b[49m\u001b[43m)\u001b[49m\n",
      "\u001b[1;31mFileNotFoundError\u001b[0m: [Errno 2] No such file or directory: 'REF_D_1k_FW_2.05.dat'"
     ]
    }
   ],
   "source": [
    "#sukurkite failus nuskaitančią klasę, ji turi būti aprašyta jūsų kuriamame modulyje;\n",
    "#ta klasė turi nuskaityti pateiktą failą, ir suskaidyti stulpelius į sąrašus:\n",
    "#sąrašai I, U, j, P, duomenys iš juos iš atitinkamų taip pat pavadintų stulpelių\n",
    "#realizuokite tai, jog klasė rastų tokį dydį - maksimalų P, suskaičiuotų tokį dydį \n",
    "# pce = Pmax / 1000 * 100%;\n",
    "#šie dydžiai turi būti pasiekiamį arba kaip atributas, arba galite įdėti metodą jam gauti\n",
    "\n",
    "class TxtAnalyzer():\n",
    "    def __init__(self, pav, skirt):\n",
    "        self.pavadinimas = pav \n",
    "        self.skirtukas = skirt\n",
    "        self.I = []\n",
    "        self.U = [] \n",
    "        self.J = []\n",
    "        self.P = []\n",
    "        pass\n",
    "    \n",
    "    def TxtReader(self):\n",
    "        fname = self.pavadinimas\n",
    "        f = open (fname, mode='r', encoding='utf-8')\n",
    "        tekstas = f.readlines()\n",
    "        print(tekstas)\n",
    "        f.close()\n",
    "\n",
    "        for eilute in tekstas [1::]:\n",
    "            self.I.append(float(eilute.split(self.skirtukas)[0]))\n",
    "            self.U.append(float(eilute.split(self.skirtukas)[1]))\n",
    "            self.J.append(float(eilute.split(self.skirtukas)[2]))\n",
    "            self.P.append(float(eilute.split(self.skirtukas)[3].remove('\\n','')))\n",
    "        print(self.I)\n",
    "        print(self.U)\n",
    "        print(self.J)\n",
    "        print(self.P)\n",
    "\n",
    "        # def getPMax(self):\n",
    "        #     Pmax = max(self.P)\n",
    "        #     return Pmax\n",
    "        \n",
    "        # def getPCE(self):\n",
    "        #     PCE = Pmax / 1000 *100\n",
    "        #     return PCE\n",
    "\n",
    "z = TxtAnalyzer('REF_D_1k_FW_2.05.dat', ';')\n",
    "z.TxtReader()\n",
    "# print(z.getVidurkis())\n",
    "# print(z.getMin())\n",
    "# print(z.getMax())"
   ]
  },
  {
   "cell_type": "code",
   "execution_count": null,
   "metadata": {},
   "outputs": [],
   "source": [
    "#Bonus, kas atliko - pabandykite realizuoti radimą tokių verčių: j kai U = 0 (arba close to zero), U, \n",
    "# kai j =0 (arba close to zero), jie turi specialius žymėjimus jsc ir Uoc."
   ]
  },
  {
   "cell_type": "code",
   "execution_count": 19,
   "metadata": {},
   "outputs": [
    {
     "ename": "FileNotFoundError",
     "evalue": "[Errno 2] No such file or directory: 'REF_D_5k_FW_2.03.dat'",
     "output_type": "error",
     "traceback": [
      "\u001b[1;31m---------------------------------------------------------------------------\u001b[0m",
      "\u001b[1;31mFileNotFoundError\u001b[0m                         Traceback (most recent call last)",
      "Cell \u001b[1;32mIn[19], line 39\u001b[0m\n\u001b[0;32m     36\u001b[0m         \u001b[38;5;28;01mreturn\u001b[39;00m PCE\n\u001b[0;32m     38\u001b[0m sarasas \u001b[38;5;241m=\u001b[39m keturiolika_failu(\u001b[38;5;124m'\u001b[39m\u001b[38;5;124mREF_D_5k_FW_2.03.dat\u001b[39m\u001b[38;5;124m'\u001b[39m, \u001b[38;5;124m'\u001b[39m\u001b[38;5;124m;\u001b[39m\u001b[38;5;124m'\u001b[39m) \u001b[38;5;66;03m#pasitikrinam ar nuskaito info is failo\u001b[39;00m\n\u001b[1;32m---> 39\u001b[0m \u001b[43msarasas\u001b[49m\u001b[38;5;241;43m.\u001b[39;49m\u001b[43mdataReader\u001b[49m\u001b[43m(\u001b[49m\u001b[43m)\u001b[49m\n\u001b[0;32m     40\u001b[0m \u001b[38;5;28mprint\u001b[39m(sarasas\u001b[38;5;241m.\u001b[39mgetPCE())\n",
      "Cell \u001b[1;32mIn[19], line 16\u001b[0m, in \u001b[0;36mketuriolika_failu.dataReader\u001b[1;34m(self)\u001b[0m\n\u001b[0;32m     14\u001b[0m \u001b[38;5;28;01mdef\u001b[39;00m \u001b[38;5;21mdataReader\u001b[39m(\u001b[38;5;28mself\u001b[39m):\n\u001b[0;32m     15\u001b[0m     fname \u001b[38;5;241m=\u001b[39m \u001b[38;5;28mself\u001b[39m\u001b[38;5;241m.\u001b[39mPavadinimas\n\u001b[1;32m---> 16\u001b[0m     file \u001b[38;5;241m=\u001b[39m \u001b[38;5;28;43mopen\u001b[39;49m\u001b[43m(\u001b[49m\u001b[43mfname\u001b[49m\u001b[43m,\u001b[49m\u001b[43m \u001b[49m\u001b[43mmode\u001b[49m\u001b[38;5;241;43m=\u001b[39;49m\u001b[38;5;124;43m'\u001b[39;49m\u001b[38;5;124;43mr\u001b[39;49m\u001b[38;5;124;43m'\u001b[39;49m\u001b[43m,\u001b[49m\u001b[43m \u001b[49m\u001b[43mencoding\u001b[49m\u001b[38;5;241;43m=\u001b[39;49m\u001b[43m \u001b[49m\u001b[38;5;124;43m'\u001b[39;49m\u001b[38;5;124;43mutf-8\u001b[39;49m\u001b[38;5;124;43m'\u001b[39;49m\u001b[43m)\u001b[49m\n\u001b[0;32m     17\u001b[0m     sarasas \u001b[38;5;241m=\u001b[39m file\u001b[38;5;241m.\u001b[39mreadlines() \u001b[38;5;66;03m# suformuoja teksta kaip eiluciu sarasa\u001b[39;00m\n\u001b[0;32m     18\u001b[0m     file\u001b[38;5;241m.\u001b[39mclose()\n",
      "File \u001b[1;32m~\\AppData\\Local\\Packages\\PythonSoftwareFoundation.Python.3.12_qbz5n2kfra8p0\\LocalCache\\local-packages\\Python312\\site-packages\\IPython\\core\\interactiveshell.py:324\u001b[0m, in \u001b[0;36m_modified_open\u001b[1;34m(file, *args, **kwargs)\u001b[0m\n\u001b[0;32m    317\u001b[0m \u001b[38;5;28;01mif\u001b[39;00m file \u001b[38;5;129;01min\u001b[39;00m {\u001b[38;5;241m0\u001b[39m, \u001b[38;5;241m1\u001b[39m, \u001b[38;5;241m2\u001b[39m}:\n\u001b[0;32m    318\u001b[0m     \u001b[38;5;28;01mraise\u001b[39;00m \u001b[38;5;167;01mValueError\u001b[39;00m(\n\u001b[0;32m    319\u001b[0m         \u001b[38;5;124mf\u001b[39m\u001b[38;5;124m\"\u001b[39m\u001b[38;5;124mIPython won\u001b[39m\u001b[38;5;124m'\u001b[39m\u001b[38;5;124mt let you open fd=\u001b[39m\u001b[38;5;132;01m{\u001b[39;00mfile\u001b[38;5;132;01m}\u001b[39;00m\u001b[38;5;124m by default \u001b[39m\u001b[38;5;124m\"\u001b[39m\n\u001b[0;32m    320\u001b[0m         \u001b[38;5;124m\"\u001b[39m\u001b[38;5;124mas it is likely to crash IPython. If you know what you are doing, \u001b[39m\u001b[38;5;124m\"\u001b[39m\n\u001b[0;32m    321\u001b[0m         \u001b[38;5;124m\"\u001b[39m\u001b[38;5;124myou can use builtins\u001b[39m\u001b[38;5;124m'\u001b[39m\u001b[38;5;124m open.\u001b[39m\u001b[38;5;124m\"\u001b[39m\n\u001b[0;32m    322\u001b[0m     )\n\u001b[1;32m--> 324\u001b[0m \u001b[38;5;28;01mreturn\u001b[39;00m \u001b[43mio_open\u001b[49m\u001b[43m(\u001b[49m\u001b[43mfile\u001b[49m\u001b[43m,\u001b[49m\u001b[43m \u001b[49m\u001b[38;5;241;43m*\u001b[39;49m\u001b[43margs\u001b[49m\u001b[43m,\u001b[49m\u001b[43m \u001b[49m\u001b[38;5;241;43m*\u001b[39;49m\u001b[38;5;241;43m*\u001b[39;49m\u001b[43mkwargs\u001b[49m\u001b[43m)\u001b[49m\n",
      "\u001b[1;31mFileNotFoundError\u001b[0m: [Errno 2] No such file or directory: 'REF_D_5k_FW_2.03.dat'"
     ]
    }
   ],
   "source": [
    "#sukurkite failus nuskaitančią klasę, ji turi būti aprašyta jūsų kuriamame modulyje;\n",
    "#ta klasė turi nuskaityti pateiktą failą, ir suskaidyti stulpelius į sąrašus:\n",
    "#sąrašai I, U, j, P, duomenys iš juos iš atitinkamų taip pat pavadintų stulpelių\n",
    "#realizuokite tai, jog klasė rastų tokį dydį - maksimalų P, suskaičiuotų tokį dydį pce = Pmax / 1000 * 100%;\n",
    "#šie dydžiai turi būti pasiekiamį arba kaip atributas, arba galite įdėti metodą jam gauti\n",
    "\n",
    "class keturiolika_failu():\n",
    "    def __init__(self, Pavadinimas, Skirtukas):\n",
    "        self.Pavadinimas = Pavadinimas\n",
    "        self.Skirtukas = Skirtukas\n",
    "        self.I = []\n",
    "        self.U = []\n",
    "        self.j = []\n",
    "    def dataReader(self):\n",
    "        fname = self.Pavadinimas\n",
    "        file = open(fname, mode='r', encoding= 'utf-8')\n",
    "        sarasas = file.readlines() # suformuoja teksta kaip eiluciu sarasa\n",
    "        file.close()\n",
    "        print(sarasas) # pasitikrinam ar veikia\n",
    "        for eilute in sarasas[1::]:\n",
    "            self.I.append(float(eilute.split(self.Skirtukas)[0]))\n",
    "            self.U.append(float(eilute.split(self.Skirtukas)[1]))           \n",
    "            self.j.append(float(eilute.split(self.Skirtukas)[2]))\n",
    "            self.p.append(float(eilute.split(self.Skirtukas)[3].replace('\\n', '')))\n",
    "        print(self.I)\n",
    "        print(self.U) \n",
    "        print(self.j) \n",
    "        print(self.p) \n",
    "    def getPmax(self):\n",
    "        Pmax = (max(self.p))\n",
    "        return Pmax\n",
    "    \n",
    "    def getPCE(self):\n",
    "        Pmax= self.getPmax()\n",
    "        PCE = round((Pmax / 1000 * 100),2)\n",
    "        return PCE\n",
    "    \n",
    "sarasas = keturiolika_failu('REF_D_5k_FW_2.03.dat', ';') #pasitikrinam ar nuskaito info is failo\n",
    "sarasas.dataReader()\n",
    "print(sarasas.getPCE())"
   ]
  },
  {
   "cell_type": "code",
   "execution_count": 7,
   "metadata": {},
   "outputs": [
    {
     "ename": "FileNotFoundError",
     "evalue": "[Errno 2] No such file or directory: 'REF_D_1k_FW_2.05.dat'",
     "output_type": "error",
     "traceback": [
      "\u001b[1;31m---------------------------------------------------------------------------\u001b[0m",
      "\u001b[1;31mFileNotFoundError\u001b[0m                         Traceback (most recent call last)",
      "Cell \u001b[1;32mIn[7], line 46\u001b[0m\n\u001b[0;32m     42\u001b[0m         \u001b[38;5;28;01mreturn\u001b[39;00m PCE\n\u001b[0;32m     45\u001b[0m z \u001b[38;5;241m=\u001b[39m TxtAnalyzer(\u001b[38;5;124m'\u001b[39m\u001b[38;5;124mREF_D_1k_FW_2.05.dat\u001b[39m\u001b[38;5;124m'\u001b[39m, \u001b[38;5;124m'\u001b[39m\u001b[38;5;124m;\u001b[39m\u001b[38;5;124m'\u001b[39m)\n\u001b[1;32m---> 46\u001b[0m \u001b[43mz\u001b[49m\u001b[38;5;241;43m.\u001b[39;49m\u001b[43mTxtReader\u001b[49m\u001b[43m(\u001b[49m\u001b[43m)\u001b[49m\n\u001b[0;32m     47\u001b[0m \u001b[38;5;28mprint\u001b[39m(z\u001b[38;5;241m.\u001b[39mgetPCE())\n",
      "Cell \u001b[1;32mIn[7], line 20\u001b[0m, in \u001b[0;36mTxtAnalyzer.TxtReader\u001b[1;34m(self)\u001b[0m\n\u001b[0;32m     18\u001b[0m \u001b[38;5;28;01mdef\u001b[39;00m \u001b[38;5;21mTxtReader\u001b[39m(\u001b[38;5;28mself\u001b[39m):\n\u001b[0;32m     19\u001b[0m     fname \u001b[38;5;241m=\u001b[39m \u001b[38;5;28mself\u001b[39m\u001b[38;5;241m.\u001b[39mpavadinimas\n\u001b[1;32m---> 20\u001b[0m     f \u001b[38;5;241m=\u001b[39m \u001b[38;5;28;43mopen\u001b[39;49m\u001b[43m \u001b[49m\u001b[43m(\u001b[49m\u001b[43mfname\u001b[49m\u001b[43m,\u001b[49m\u001b[43m \u001b[49m\u001b[43mmode\u001b[49m\u001b[38;5;241;43m=\u001b[39;49m\u001b[38;5;124;43m'\u001b[39;49m\u001b[38;5;124;43mr\u001b[39;49m\u001b[38;5;124;43m'\u001b[39;49m\u001b[43m,\u001b[49m\u001b[43m \u001b[49m\u001b[43mencoding\u001b[49m\u001b[38;5;241;43m=\u001b[39;49m\u001b[38;5;124;43m'\u001b[39;49m\u001b[38;5;124;43mutf-8\u001b[39;49m\u001b[38;5;124;43m'\u001b[39;49m\u001b[43m)\u001b[49m\n\u001b[0;32m     21\u001b[0m     tekstas \u001b[38;5;241m=\u001b[39m f\u001b[38;5;241m.\u001b[39mreadlines()\n\u001b[0;32m     22\u001b[0m     \u001b[38;5;28mprint\u001b[39m(tekstas)\n",
      "File \u001b[1;32m~\\AppData\\Local\\Packages\\PythonSoftwareFoundation.Python.3.12_qbz5n2kfra8p0\\LocalCache\\local-packages\\Python312\\site-packages\\IPython\\core\\interactiveshell.py:324\u001b[0m, in \u001b[0;36m_modified_open\u001b[1;34m(file, *args, **kwargs)\u001b[0m\n\u001b[0;32m    317\u001b[0m \u001b[38;5;28;01mif\u001b[39;00m file \u001b[38;5;129;01min\u001b[39;00m {\u001b[38;5;241m0\u001b[39m, \u001b[38;5;241m1\u001b[39m, \u001b[38;5;241m2\u001b[39m}:\n\u001b[0;32m    318\u001b[0m     \u001b[38;5;28;01mraise\u001b[39;00m \u001b[38;5;167;01mValueError\u001b[39;00m(\n\u001b[0;32m    319\u001b[0m         \u001b[38;5;124mf\u001b[39m\u001b[38;5;124m\"\u001b[39m\u001b[38;5;124mIPython won\u001b[39m\u001b[38;5;124m'\u001b[39m\u001b[38;5;124mt let you open fd=\u001b[39m\u001b[38;5;132;01m{\u001b[39;00mfile\u001b[38;5;132;01m}\u001b[39;00m\u001b[38;5;124m by default \u001b[39m\u001b[38;5;124m\"\u001b[39m\n\u001b[0;32m    320\u001b[0m         \u001b[38;5;124m\"\u001b[39m\u001b[38;5;124mas it is likely to crash IPython. If you know what you are doing, \u001b[39m\u001b[38;5;124m\"\u001b[39m\n\u001b[0;32m    321\u001b[0m         \u001b[38;5;124m\"\u001b[39m\u001b[38;5;124myou can use builtins\u001b[39m\u001b[38;5;124m'\u001b[39m\u001b[38;5;124m open.\u001b[39m\u001b[38;5;124m\"\u001b[39m\n\u001b[0;32m    322\u001b[0m     )\n\u001b[1;32m--> 324\u001b[0m \u001b[38;5;28;01mreturn\u001b[39;00m \u001b[43mio_open\u001b[49m\u001b[43m(\u001b[49m\u001b[43mfile\u001b[49m\u001b[43m,\u001b[49m\u001b[43m \u001b[49m\u001b[38;5;241;43m*\u001b[39;49m\u001b[43margs\u001b[49m\u001b[43m,\u001b[49m\u001b[43m \u001b[49m\u001b[38;5;241;43m*\u001b[39;49m\u001b[38;5;241;43m*\u001b[39;49m\u001b[43mkwargs\u001b[49m\u001b[43m)\u001b[49m\n",
      "\u001b[1;31mFileNotFoundError\u001b[0m: [Errno 2] No such file or directory: 'REF_D_1k_FW_2.05.dat'"
     ]
    }
   ],
   "source": [
    "#sukurkite failus nuskaitančią klasę, ji turi būti aprašyta jūsų kuriamame modulyje;\n",
    "#ta klasė turi nuskaityti pateiktą failą, ir suskaidyti stulpelius į sąrašus:\n",
    "#sąrašai I, U, j, P, duomenys iš juos iš atitinkamų taip pat pavadintų stulpelių\n",
    "#realizuokite tai, jog klasė rastų tokį dydį - maksimalų P, suskaičiuotų tokį dydį \n",
    "# pce = Pmax / 1000 * 100%;\n",
    "#šie dydžiai turi būti pasiekiamį arba kaip atributas, arba galite įdėti metodą jam gauti\n",
    "\n",
    "class TxtAnalyzer():\n",
    "    def __init__(self, pav, skirt):\n",
    "        self.pavadinimas = pav \n",
    "        self.skirtukas = skirt\n",
    "        self.I = []\n",
    "        self.U = [] \n",
    "        self.J = []\n",
    "        self.P = []\n",
    "        pass\n",
    "    \n",
    "    def TxtReader(self):\n",
    "        fname = self.pavadinimas\n",
    "        f = open (fname, mode='r', encoding='utf-8')\n",
    "        tekstas = f.readlines()\n",
    "        print(tekstas)\n",
    "        f.close()\n",
    "\n",
    "        for eilute in tekstas [1::]:\n",
    "            self.I.append(float(eilute.split(self.skirtukas)[0]))\n",
    "            self.U.append(float(eilute.split(self.skirtukas)[1]))\n",
    "            self.J.append(float(eilute.split(self.skirtukas)[2]))\n",
    "            self.P.append(float(eilute.split(self.skirtukas)[3].replace('\\n', '')))\n",
    "        print(self.I)\n",
    "        print(self.U)\n",
    "        print(self.J)\n",
    "        print(self.P)\n",
    "\n",
    "    def getPmax(self):\n",
    "        Pmax = max((self.P))\n",
    "        return Pmax\n",
    "        \n",
    "    def getPCE(self):\n",
    "        Pmax= self.getPmax()\n",
    "        PCE = round((Pmax / 1000 *100),2)\n",
    "        return PCE\n",
    "    \n",
    "\n",
    "z = TxtAnalyzer('REF_D_1k_FW_2.05.dat', ';')\n",
    "z.TxtReader()\n",
    "print(z.getPCE())"
   ]
  },
  {
   "cell_type": "code",
   "execution_count": null,
   "metadata": {},
   "outputs": [],
   "source": [
    "# nuskaitymas visų failų pvz: \n",
    "\n",
    "# import glob\n",
    "# import os\n",
    "# dir_path = f\"{os.getcwd()}\\\\*\"\n",
    "# for file_path in glob.glob(dir_path):\n",
    "#     if file_path.endswith(\".dat\"):\n",
    "#         data = m.Duomenys(file_path)\n",
    "#         print(\"P: \", data.P)"
   ]
  },
  {
   "cell_type": "code",
   "execution_count": 8,
   "metadata": {},
   "outputs": [
    {
     "ename": "FileNotFoundError",
     "evalue": "[Errno 2] No such file or directory: 'REF_D_5k_FW_2.03.dat'",
     "output_type": "error",
     "traceback": [
      "\u001b[1;31m---------------------------------------------------------------------------\u001b[0m",
      "\u001b[1;31mFileNotFoundError\u001b[0m                         Traceback (most recent call last)",
      "Cell \u001b[1;32mIn[8], line 29\u001b[0m\n\u001b[0;32m     26\u001b[0m         PCE \u001b[38;5;241m=\u001b[39m \u001b[38;5;28mround\u001b[39m((Pmax \u001b[38;5;241m/\u001b[39m \u001b[38;5;241m1000\u001b[39m \u001b[38;5;241m*\u001b[39m \u001b[38;5;241m100\u001b[39m),\u001b[38;5;241m2\u001b[39m)\n\u001b[0;32m     27\u001b[0m         \u001b[38;5;28;01mreturn\u001b[39;00m PCE\n\u001b[1;32m---> 29\u001b[0m sarasas \u001b[38;5;241m=\u001b[39m \u001b[43mketuriolika_failu\u001b[49m\u001b[43m(\u001b[49m\u001b[38;5;124;43m'\u001b[39;49m\u001b[38;5;124;43mREF_D_5k_FW_2.03.dat\u001b[39;49m\u001b[38;5;124;43m'\u001b[39;49m\u001b[43m,\u001b[49m\u001b[38;5;124;43m'\u001b[39;49m\u001b[38;5;124;43m;\u001b[39;49m\u001b[38;5;124;43m'\u001b[39;49m\u001b[43m)\u001b[49m\n\u001b[0;32m     30\u001b[0m \u001b[38;5;66;03m# sarasas.__dataReader()\u001b[39;00m\n\u001b[0;32m     31\u001b[0m \u001b[38;5;28mprint\u001b[39m(sarasas\u001b[38;5;241m.\u001b[39mgetPCE())\n",
      "Cell \u001b[1;32mIn[8], line 9\u001b[0m, in \u001b[0;36mketuriolika_failu.__init__\u001b[1;34m(self, Pavadinimas, Skirtukas)\u001b[0m\n\u001b[0;32m      7\u001b[0m \u001b[38;5;28mself\u001b[39m\u001b[38;5;241m.\u001b[39mj \u001b[38;5;241m=\u001b[39m []\n\u001b[0;32m      8\u001b[0m \u001b[38;5;28mself\u001b[39m\u001b[38;5;241m.\u001b[39mp \u001b[38;5;241m=\u001b[39m []\n\u001b[1;32m----> 9\u001b[0m \u001b[38;5;28;43mself\u001b[39;49m\u001b[38;5;241;43m.\u001b[39;49m\u001b[43m__dataReader\u001b[49m\u001b[43m(\u001b[49m\u001b[43m)\u001b[49m\n",
      "Cell \u001b[1;32mIn[8], line 12\u001b[0m, in \u001b[0;36mketuriolika_failu.__dataReader\u001b[1;34m(self)\u001b[0m\n\u001b[0;32m     10\u001b[0m \u001b[38;5;28;01mdef\u001b[39;00m \u001b[38;5;21m__dataReader\u001b[39m(\u001b[38;5;28mself\u001b[39m):\n\u001b[0;32m     11\u001b[0m     fname \u001b[38;5;241m=\u001b[39m \u001b[38;5;28mself\u001b[39m\u001b[38;5;241m.\u001b[39mPavadinimas\n\u001b[1;32m---> 12\u001b[0m     file \u001b[38;5;241m=\u001b[39m \u001b[38;5;28;43mopen\u001b[39;49m\u001b[43m(\u001b[49m\u001b[43mfname\u001b[49m\u001b[43m,\u001b[49m\u001b[43m \u001b[49m\u001b[43mmode\u001b[49m\u001b[38;5;241;43m=\u001b[39;49m\u001b[38;5;124;43m'\u001b[39;49m\u001b[38;5;124;43mr\u001b[39;49m\u001b[38;5;124;43m'\u001b[39;49m\u001b[43m,\u001b[49m\u001b[43m \u001b[49m\u001b[43mencoding\u001b[49m\u001b[38;5;241;43m=\u001b[39;49m\u001b[43m \u001b[49m\u001b[38;5;124;43m'\u001b[39;49m\u001b[38;5;124;43mutf-8\u001b[39;49m\u001b[38;5;124;43m'\u001b[39;49m\u001b[43m)\u001b[49m\n\u001b[0;32m     13\u001b[0m     sarasas \u001b[38;5;241m=\u001b[39m file\u001b[38;5;241m.\u001b[39mreadlines()\n\u001b[0;32m     14\u001b[0m     file\u001b[38;5;241m.\u001b[39mclose()\n",
      "File \u001b[1;32m~\\AppData\\Local\\Packages\\PythonSoftwareFoundation.Python.3.12_qbz5n2kfra8p0\\LocalCache\\local-packages\\Python312\\site-packages\\IPython\\core\\interactiveshell.py:324\u001b[0m, in \u001b[0;36m_modified_open\u001b[1;34m(file, *args, **kwargs)\u001b[0m\n\u001b[0;32m    317\u001b[0m \u001b[38;5;28;01mif\u001b[39;00m file \u001b[38;5;129;01min\u001b[39;00m {\u001b[38;5;241m0\u001b[39m, \u001b[38;5;241m1\u001b[39m, \u001b[38;5;241m2\u001b[39m}:\n\u001b[0;32m    318\u001b[0m     \u001b[38;5;28;01mraise\u001b[39;00m \u001b[38;5;167;01mValueError\u001b[39;00m(\n\u001b[0;32m    319\u001b[0m         \u001b[38;5;124mf\u001b[39m\u001b[38;5;124m\"\u001b[39m\u001b[38;5;124mIPython won\u001b[39m\u001b[38;5;124m'\u001b[39m\u001b[38;5;124mt let you open fd=\u001b[39m\u001b[38;5;132;01m{\u001b[39;00mfile\u001b[38;5;132;01m}\u001b[39;00m\u001b[38;5;124m by default \u001b[39m\u001b[38;5;124m\"\u001b[39m\n\u001b[0;32m    320\u001b[0m         \u001b[38;5;124m\"\u001b[39m\u001b[38;5;124mas it is likely to crash IPython. If you know what you are doing, \u001b[39m\u001b[38;5;124m\"\u001b[39m\n\u001b[0;32m    321\u001b[0m         \u001b[38;5;124m\"\u001b[39m\u001b[38;5;124myou can use builtins\u001b[39m\u001b[38;5;124m'\u001b[39m\u001b[38;5;124m open.\u001b[39m\u001b[38;5;124m\"\u001b[39m\n\u001b[0;32m    322\u001b[0m     )\n\u001b[1;32m--> 324\u001b[0m \u001b[38;5;28;01mreturn\u001b[39;00m \u001b[43mio_open\u001b[49m\u001b[43m(\u001b[49m\u001b[43mfile\u001b[49m\u001b[43m,\u001b[49m\u001b[43m \u001b[49m\u001b[38;5;241;43m*\u001b[39;49m\u001b[43margs\u001b[49m\u001b[43m,\u001b[49m\u001b[43m \u001b[49m\u001b[38;5;241;43m*\u001b[39;49m\u001b[38;5;241;43m*\u001b[39;49m\u001b[43mkwargs\u001b[49m\u001b[43m)\u001b[49m\n",
      "\u001b[1;31mFileNotFoundError\u001b[0m: [Errno 2] No such file or directory: 'REF_D_5k_FW_2.03.dat'"
     ]
    }
   ],
   "source": [
    "class keturiolika_failu():\n",
    "    def __init__(self, Pavadinimas, Skirtukas):\n",
    "        self.Pavadinimas = Pavadinimas\n",
    "        self.Skirtukas = Skirtukas\n",
    "        self.I = []\n",
    "        self.U = []\n",
    "        self.j = []\n",
    "        self.p = []\n",
    "        self.__dataReader() # kreipiasi i dataReader; __ padar privaciu ir naudojami tik klases viduje\n",
    "    def __dataReader(self):\n",
    "        fname = self.Pavadinimas\n",
    "        file = open(fname, mode='r', encoding= 'utf-8')\n",
    "        sarasas = file.readlines()\n",
    "        file.close()\n",
    "        for eilute in sarasas[1::]:\n",
    "            self.I.append(float(eilute.split(self.Skirtukas)[0]))\n",
    "            self.U.append(float(eilute.split(self.Skirtukas)[1]))           \n",
    "            self.j.append(float(eilute.split(self.Skirtukas)[2]))\n",
    "            self.p.append(float(eilute.split(self.Skirtukas)[3].replace('\\n', '')))\n",
    "    def getPmax(self):\n",
    "        Pmax = (max(self.p))\n",
    "        return Pmax\n",
    "    \n",
    "    def getPCE(self):\n",
    "        Pmax= self.getPmax()\n",
    "        PCE = round((Pmax / 1000 * 100),2)\n",
    "        return PCE\n",
    "    \n",
    "sarasas = keturiolika_failu('REF_D_5k_FW_2.03.dat',';')\n",
    "# sarasas.__dataReader()\n",
    "print(sarasas.getPCE())"
   ]
  },
  {
   "cell_type": "code",
   "execution_count": 11,
   "metadata": {},
   "outputs": [],
   "source": [
    "import pandas as pd"
   ]
  },
  {
   "cell_type": "code",
   "execution_count": 10,
   "metadata": {},
   "outputs": [
    {
     "name": "stdout",
     "output_type": "stream",
     "text": [
      "Defaulting to user installation because normal site-packages is not writeable\n",
      "Collecting pandas\n",
      "  Using cached pandas-2.2.1-cp312-cp312-win_amd64.whl.metadata (19 kB)\n",
      "Requirement already satisfied: numpy<2,>=1.26.0 in c:\\users\\gabri\\appdata\\local\\packages\\pythonsoftwarefoundation.python.3.12_qbz5n2kfra8p0\\localcache\\local-packages\\python312\\site-packages (from pandas) (1.26.4)\n",
      "Requirement already satisfied: python-dateutil>=2.8.2 in c:\\users\\gabri\\appdata\\local\\packages\\pythonsoftwarefoundation.python.3.12_qbz5n2kfra8p0\\localcache\\local-packages\\python312\\site-packages (from pandas) (2.9.0.post0)\n",
      "Collecting pytz>=2020.1 (from pandas)\n",
      "  Downloading pytz-2024.1-py2.py3-none-any.whl.metadata (22 kB)\n",
      "Collecting tzdata>=2022.7 (from pandas)\n",
      "  Downloading tzdata-2024.1-py2.py3-none-any.whl.metadata (1.4 kB)\n",
      "Requirement already satisfied: six>=1.5 in c:\\users\\gabri\\appdata\\local\\packages\\pythonsoftwarefoundation.python.3.12_qbz5n2kfra8p0\\localcache\\local-packages\\python312\\site-packages (from python-dateutil>=2.8.2->pandas) (1.16.0)\n",
      "Downloading pandas-2.2.1-cp312-cp312-win_amd64.whl (11.5 MB)\n",
      "   ---------------------------------------- 0.0/11.5 MB ? eta -:--:--\n",
      "   ---------------------------------------- 0.0/11.5 MB 445.2 kB/s eta 0:00:26\n",
      "   ---------------------------------------- 0.1/11.5 MB 1.2 MB/s eta 0:00:10\n",
      "    --------------------------------------- 0.2/11.5 MB 1.6 MB/s eta 0:00:08\n",
      "   - -------------------------------------- 0.3/11.5 MB 1.9 MB/s eta 0:00:06\n",
      "   - -------------------------------------- 0.5/11.5 MB 2.1 MB/s eta 0:00:06\n",
      "   -- ------------------------------------- 0.6/11.5 MB 2.2 MB/s eta 0:00:06\n",
      "   -- ------------------------------------- 0.7/11.5 MB 2.3 MB/s eta 0:00:05\n",
      "   -- ------------------------------------- 0.8/11.5 MB 2.3 MB/s eta 0:00:05\n",
      "   --- ------------------------------------ 1.0/11.5 MB 2.3 MB/s eta 0:00:05\n",
      "   --- ------------------------------------ 1.1/11.5 MB 2.4 MB/s eta 0:00:05\n",
      "   ---- ----------------------------------- 1.2/11.5 MB 2.5 MB/s eta 0:00:05\n",
      "   ---- ----------------------------------- 1.4/11.5 MB 2.5 MB/s eta 0:00:05\n",
      "   ----- ---------------------------------- 1.5/11.5 MB 2.6 MB/s eta 0:00:04\n",
      "   ----- ---------------------------------- 1.6/11.5 MB 2.6 MB/s eta 0:00:04\n",
      "   ------ --------------------------------- 1.8/11.5 MB 2.6 MB/s eta 0:00:04\n",
      "   ------ --------------------------------- 2.0/11.5 MB 2.7 MB/s eta 0:00:04\n",
      "   ------- -------------------------------- 2.1/11.5 MB 2.7 MB/s eta 0:00:04\n",
      "   -------- ------------------------------- 2.3/11.5 MB 2.8 MB/s eta 0:00:04\n",
      "   -------- ------------------------------- 2.5/11.5 MB 2.9 MB/s eta 0:00:04\n",
      "   --------- ------------------------------ 2.7/11.5 MB 2.9 MB/s eta 0:00:04\n",
      "   ---------- ----------------------------- 2.9/11.5 MB 3.0 MB/s eta 0:00:03\n",
      "   ---------- ----------------------------- 3.1/11.5 MB 3.1 MB/s eta 0:00:03\n",
      "   ----------- ---------------------------- 3.3/11.5 MB 3.1 MB/s eta 0:00:03\n",
      "   ------------ --------------------------- 3.5/11.5 MB 3.2 MB/s eta 0:00:03\n",
      "   ------------ --------------------------- 3.7/11.5 MB 3.2 MB/s eta 0:00:03\n",
      "   ------------- -------------------------- 4.0/11.5 MB 3.3 MB/s eta 0:00:03\n",
      "   --------------- ------------------------ 4.3/11.5 MB 3.5 MB/s eta 0:00:03\n",
      "   --------------- ------------------------ 4.5/11.5 MB 3.5 MB/s eta 0:00:02\n",
      "   ---------------- ----------------------- 4.9/11.5 MB 3.6 MB/s eta 0:00:02\n",
      "   ----------------- ---------------------- 5.2/11.5 MB 3.7 MB/s eta 0:00:02\n",
      "   ------------------ --------------------- 5.4/11.5 MB 3.7 MB/s eta 0:00:02\n",
      "   ------------------- -------------------- 5.6/11.5 MB 3.8 MB/s eta 0:00:02\n",
      "   -------------------- ------------------- 5.8/11.5 MB 3.8 MB/s eta 0:00:02\n",
      "   --------------------- ------------------ 6.1/11.5 MB 3.8 MB/s eta 0:00:02\n",
      "   ---------------------- ----------------- 6.3/11.5 MB 3.9 MB/s eta 0:00:02\n",
      "   ----------------------- ---------------- 6.6/11.5 MB 4.0 MB/s eta 0:00:02\n",
      "   ------------------------ --------------- 7.0/11.5 MB 4.0 MB/s eta 0:00:02\n",
      "   ------------------------- -------------- 7.3/11.5 MB 4.1 MB/s eta 0:00:02\n",
      "   -------------------------- ------------- 7.5/11.5 MB 4.2 MB/s eta 0:00:01\n",
      "   --------------------------- ------------ 8.0/11.5 MB 4.3 MB/s eta 0:00:01\n",
      "   ---------------------------- ----------- 8.2/11.5 MB 4.3 MB/s eta 0:00:01\n",
      "   ----------------------------- ---------- 8.5/11.5 MB 4.4 MB/s eta 0:00:01\n",
      "   ------------------------------ --------- 8.7/11.5 MB 4.4 MB/s eta 0:00:01\n",
      "   ------------------------------- -------- 9.1/11.5 MB 4.4 MB/s eta 0:00:01\n",
      "   ------------------------------- -------- 9.1/11.5 MB 4.4 MB/s eta 0:00:01\n",
      "   -------------------------------- ------- 9.4/11.5 MB 4.4 MB/s eta 0:00:01\n",
      "   --------------------------------- ------ 9.7/11.5 MB 4.4 MB/s eta 0:00:01\n",
      "   ---------------------------------- ----- 10.0/11.5 MB 4.5 MB/s eta 0:00:01\n",
      "   ----------------------------------- ---- 10.2/11.5 MB 4.5 MB/s eta 0:00:01\n",
      "   ------------------------------------ --- 10.5/11.5 MB 4.7 MB/s eta 0:00:01\n",
      "   ------------------------------------- -- 10.9/11.5 MB 4.9 MB/s eta 0:00:01\n",
      "   -------------------------------------- - 11.1/11.5 MB 5.0 MB/s eta 0:00:01\n",
      "   ---------------------------------------  11.4/11.5 MB 5.2 MB/s eta 0:00:01\n",
      "   ---------------------------------------- 11.5/11.5 MB 5.2 MB/s eta 0:00:00\n",
      "Downloading pytz-2024.1-py2.py3-none-any.whl (505 kB)\n",
      "   ---------------------------------------- 0.0/505.5 kB ? eta -:--:--\n",
      "   --------------------- ------------------ 276.5/505.5 kB 8.6 MB/s eta 0:00:01\n",
      "   ---------------------------------------- 505.5/505.5 kB 6.3 MB/s eta 0:00:00\n",
      "Downloading tzdata-2024.1-py2.py3-none-any.whl (345 kB)\n",
      "   ---------------------------------------- 0.0/345.4 kB ? eta -:--:--\n",
      "   ---------------------------- ----------- 245.8/345.4 kB 7.4 MB/s eta 0:00:01\n",
      "   ---------------------------------------- 345.4/345.4 kB 5.3 MB/s eta 0:00:00\n",
      "Installing collected packages: pytz, tzdata, pandas\n",
      "Successfully installed pandas-2.2.1 pytz-2024.1 tzdata-2024.1\n",
      "Note: you may need to restart the kernel to use updated packages.\n"
     ]
    }
   ],
   "source": [
    "pip install pandas"
   ]
  },
  {
   "cell_type": "code",
   "execution_count": 12,
   "metadata": {},
   "outputs": [
    {
     "name": "stdout",
     "output_type": "stream",
     "text": [
      "Defaulting to user installation because normal site-packages is not writeable\n",
      "Requirement already satisfied: matplotlib in c:\\users\\gabri\\appdata\\local\\packages\\pythonsoftwarefoundation.python.3.12_qbz5n2kfra8p0\\localcache\\local-packages\\python312\\site-packages (3.8.3)\n",
      "Requirement already satisfied: contourpy>=1.0.1 in c:\\users\\gabri\\appdata\\local\\packages\\pythonsoftwarefoundation.python.3.12_qbz5n2kfra8p0\\localcache\\local-packages\\python312\\site-packages (from matplotlib) (1.2.0)\n",
      "Requirement already satisfied: cycler>=0.10 in c:\\users\\gabri\\appdata\\local\\packages\\pythonsoftwarefoundation.python.3.12_qbz5n2kfra8p0\\localcache\\local-packages\\python312\\site-packages (from matplotlib) (0.12.1)\n",
      "Requirement already satisfied: fonttools>=4.22.0 in c:\\users\\gabri\\appdata\\local\\packages\\pythonsoftwarefoundation.python.3.12_qbz5n2kfra8p0\\localcache\\local-packages\\python312\\site-packages (from matplotlib) (4.50.0)\n",
      "Requirement already satisfied: kiwisolver>=1.3.1 in c:\\users\\gabri\\appdata\\local\\packages\\pythonsoftwarefoundation.python.3.12_qbz5n2kfra8p0\\localcache\\local-packages\\python312\\site-packages (from matplotlib) (1.4.5)\n",
      "Requirement already satisfied: numpy<2,>=1.21 in c:\\users\\gabri\\appdata\\local\\packages\\pythonsoftwarefoundation.python.3.12_qbz5n2kfra8p0\\localcache\\local-packages\\python312\\site-packages (from matplotlib) (1.26.4)\n",
      "Requirement already satisfied: packaging>=20.0 in c:\\users\\gabri\\appdata\\local\\packages\\pythonsoftwarefoundation.python.3.12_qbz5n2kfra8p0\\localcache\\local-packages\\python312\\site-packages (from matplotlib) (24.0)\n",
      "Requirement already satisfied: pillow>=8 in c:\\users\\gabri\\appdata\\local\\packages\\pythonsoftwarefoundation.python.3.12_qbz5n2kfra8p0\\localcache\\local-packages\\python312\\site-packages (from matplotlib) (10.2.0)\n",
      "Requirement already satisfied: pyparsing>=2.3.1 in c:\\users\\gabri\\appdata\\local\\packages\\pythonsoftwarefoundation.python.3.12_qbz5n2kfra8p0\\localcache\\local-packages\\python312\\site-packages (from matplotlib) (3.1.2)\n",
      "Requirement already satisfied: python-dateutil>=2.7 in c:\\users\\gabri\\appdata\\local\\packages\\pythonsoftwarefoundation.python.3.12_qbz5n2kfra8p0\\localcache\\local-packages\\python312\\site-packages (from matplotlib) (2.9.0.post0)\n",
      "Requirement already satisfied: six>=1.5 in c:\\users\\gabri\\appdata\\local\\packages\\pythonsoftwarefoundation.python.3.12_qbz5n2kfra8p0\\localcache\\local-packages\\python312\\site-packages (from python-dateutil>=2.7->matplotlib) (1.16.0)\n",
      "Note: you may need to restart the kernel to use updated packages.\n"
     ]
    }
   ],
   "source": [
    "pip install matplotlib"
   ]
  },
  {
   "cell_type": "code",
   "execution_count": 13,
   "metadata": {},
   "outputs": [],
   "source": [
    "import matplotlib.pyplot as plt"
   ]
  },
  {
   "cell_type": "code",
   "execution_count": 2,
   "metadata": {},
   "outputs": [
    {
     "name": "stdout",
     "output_type": "stream",
     "text": [
      "Jonas Jonaitis\n",
      "Pazymiu vidurkis: 8.0 Didziausias pazymys: 10 Maziausias pazymys: 6\n",
      "Antanas Antanaitis\n",
      "Pazymiu vidurkis: 7.0 Didziausias pazymys: 8 Maziausias pazymys: 6\n",
      "Bendras Jono Jonaicio pazymiu ir egzaminu vidurkis: 8.1\n",
      "Bendras Antano Antanaicio pazymiu ir egzaminu vidurkis: 6.6\n",
      "7.5\n"
     ]
    }
   ],
   "source": [
    "# Sukurkite Mokinys klasę, kuri turės mokinio vardą, pavardę ir sąrašą pažymių. Įtraukite metodus,\n",
    "# kurie skaičiuotų vidurkį, didžiausią ir mažiausią pažymį.\n",
    "\n",
    "class Mokinys():\n",
    "    def __init__(self, V, P, sarasas):\n",
    "        self.vardas = V\n",
    "        self.pavarde = P \n",
    "        self.sarasas = sarasas\n",
    "    def getVardas(self):\n",
    "        return self.vardas\n",
    "    def getPavarde(self):\n",
    "        return self.pavarde\n",
    "    def getVid(self):\n",
    "        vidurkis = sum(self.sarasas)/len(self.sarasas)\n",
    "        return vidurkis\n",
    "    def getMax(self):\n",
    "        Max = max(self.sarasas)\n",
    "        return Max\n",
    "    def getMin(self):\n",
    "        Min = min(self.sarasas)\n",
    "        return Min\n",
    "\n",
    "mokinys1 = Mokinys('Jonas', 'Jonaitis', [10,8,6,7,9,8])\n",
    "print(mokinys1.getVardas(), mokinys1.getPavarde())\n",
    "print('Pazymiu vidurkis:', mokinys1.getVid(), 'Didziausias pazymys:', mokinys1.getMax(), 'Maziausias pazymys:', mokinys1.getMin())\n",
    "\n",
    "mokinys2 = Mokinys('Antanas', 'Antanaitis', [8,8,5,7,6,8])\n",
    "print(mokinys2.getVardas(), mokinys2.getPavarde())\n",
    "print('Pazymiu vidurkis:', mokinys2.getVid(), 'Didziausias pazymys:', mokinys2.getMax(), 'Maziausias pazymys:', mokinys1.getMin())\n",
    "\n",
    "# Sukurkite Abiturientas klasę, kuri paveldi Mokinys klasę ir prideda papildomą funkcionalumą, pvz.,\n",
    "# gebėjimą pridėti egzamino rezultatus ir skaičiuoti bendrą vidurkį, įskaitant ir egzamino rezultatus.\n",
    "\n",
    "class Abiturientas(Mokinys):\n",
    "    def __init__(self, V, P, sarasas, egz):\n",
    "        super().__init__(V, P, sarasas)\n",
    "        self.egz = egz\n",
    "    \n",
    "    def getEgz(self):\n",
    "        return self.egz\n",
    "    def getVidB(self):\n",
    "        visi = self.sarasas + self.egz\n",
    "        self.visi = visi\n",
    "        VidB = sum(self.visi)/len(self.visi)\n",
    "        return VidB\n",
    "\n",
    "mokinys1 = Abiturientas('Jonas', 'Jonaitis', [10,8,6,7,9,8], [10,6,8,9])\n",
    "print('Bendras Jono Jonaicio pazymiu ir egzaminu vidurkis:', mokinys1.getVidB())\n",
    "mokinys2 = Abiturientas('Antanas', 'Antanaitis', [8,8,5,7,6,8], [5,6,5,8])\n",
    "print('Bendras Antano Antanaicio pazymiu ir egzaminu vidurkis:', mokinys2.getVidB())\n",
    "\n",
    "# Sukurkite Mokykla klasę, kuri turės sąrašą Mokinys objektų. Įtraukite metodus, kurie leistų pridėti\n",
    "# naują mokinį, pašalinti mokinį, bei skaičiuoti visos mokyklos mokinių pažymių vidurkius.\n",
    "\n",
    "class Mokykla():\n",
    "    def __init__(self):\n",
    "        self.Mokiniai = []\n",
    "    def addMokinys(self, mokinys):\n",
    "        self.Mokiniai.append(mokinys)\n",
    "    def removeMokinys(self, mokinys):\n",
    "        self.Mokiniai.remove(mokinys)\n",
    "    def visuMokiniuVidurkis(self):\n",
    "        VisuMokiniuPazymiai = []\n",
    "        for mokinys in self.Mokiniai:\n",
    "            VisuMokiniuPazymiai.extend(mokinys.sarasas) #extend leidzia sujungti skirtingus sarasus, prasiplecia sarasas, esantis prie extend\n",
    "        VisuMokiniuVidurkis = sum(VisuMokiniuPazymiai)/len(VisuMokiniuPazymiai)\n",
    "        return VisuMokiniuVidurkis\n",
    "    \n",
    "mokykla = Mokykla()\n",
    "mokinys3 = Mokinys('Petras', 'Petraitis', [10,8,7,6,9,5])\n",
    "mokykla.addMokinys(mokinys1)\n",
    "mokykla.addMokinys(mokinys2)\n",
    "mokykla.addMokinys(mokinys3)\n",
    "\n",
    "print(mokykla.visuMokiniuVidurkis())\n",
    "\n",
    "#extend alternatyva\n",
    "#VisuMokiniuPazymiai = VisuMokiniuPazymiai + mokinys.pazymiai\n",
    "\n",
    "# Atnaujinkite Mokinys klasę taip, kad pažymių sąrašas būtų privatus. Sukurkite metodus, kurie\n",
    "# leistų saugiai pridėti ir gauti pažymius, užtikrinant, kad negalima būtų pridėti netinkamų pažymių\n",
    "# (pvz., neigiamų ar didesnių nei 10).\n",
    "\n",
    "# Klasės turi būti aprašytos jūsų kuriamame modulyje.\n",
    "# Klases tikrinimui importuokite taip, kad \n",
    "# NEREIKĖTŲ modulio pavadinimo prieš klasę naudoti."
   ]
  },
  {
   "cell_type": "code",
   "execution_count": 1,
   "metadata": {},
   "outputs": [],
   "source": [
    "from modulis import Mokinys, Abiturientas, Mokykla"
   ]
  }
 ],
 "metadata": {
  "kernelspec": {
   "display_name": "Python 3",
   "language": "python",
   "name": "python3"
  },
  "language_info": {
   "codemirror_mode": {
    "name": "ipython",
    "version": 3
   },
   "file_extension": ".py",
   "mimetype": "text/x-python",
   "name": "python",
   "nbconvert_exporter": "python",
   "pygments_lexer": "ipython3",
   "version": "3.12.3"
  }
 },
 "nbformat": 4,
 "nbformat_minor": 2
}
