{
 "cells": [
  {
   "cell_type": "code",
   "execution_count": 1,
   "metadata": {},
   "outputs": [
    {
     "name": "stdout",
     "output_type": "stream",
     "text": [
      "Testas\n"
     ]
    }
   ],
   "source": [
    "print('Testas')"
   ]
  },
  {
   "cell_type": "code",
   "execution_count": 4,
   "metadata": {},
   "outputs": [
    {
     "name": "stdout",
     "output_type": "stream",
     "text": [
      "<class 'str'>\n",
      "<class 'int'>\n",
      "<class 'list'>\n"
     ]
    }
   ],
   "source": [
    "# klasės ir objektinis programavimas\n",
    "s = 'tekstas'\n",
    "sk = 7\n",
    "sar = []\n",
    "print(type(s), type(sk), type(sar), sep ='\\n')\n"
   ]
  },
  {
   "cell_type": "code",
   "execution_count": 34,
   "metadata": {},
   "outputs": [],
   "source": [
    "Name = \"Petriukas\"\n",
    "class Asmuo():  #metodas yra funkcija klases viduje\n",
    "    def __init__(self, name):  #visuose klases metoduose privalomai turi buti zodis (self)\n",
    "        self.Name = name #klases atributas (tiesiog kintamasis, esantis klases viduje)\n",
    "        pass \n",
    "\n",
    "    def getName(self):\n",
    "        return self.Name\n",
    "    \n",
    "    def setName(self, new_name):\n",
    "        self.Name = new_name"
   ]
  },
  {
   "cell_type": "code",
   "execution_count": 35,
   "metadata": {},
   "outputs": [
    {
     "name": "stdout",
     "output_type": "stream",
     "text": [
      "<class '__main__.Asmuo'>\n",
      "<class '__main__.Asmuo'>\n"
     ]
    }
   ],
   "source": [
    "a1 = Asmuo('Jonukas')\n",
    "a2 = Asmuo('Petriukas')\n",
    "print(type(a1), type(a2), sep='\\n')"
   ]
  },
  {
   "cell_type": "code",
   "execution_count": 36,
   "metadata": {},
   "outputs": [
    {
     "name": "stdout",
     "output_type": "stream",
     "text": [
      "Jonukas\n",
      "Vardenis\n"
     ]
    }
   ],
   "source": [
    "print(a1.getName())\n",
    "a1.setName('Vardenis')\n",
    "print(a1.getName())"
   ]
  },
  {
   "cell_type": "code",
   "execution_count": 44,
   "metadata": {},
   "outputs": [],
   "source": [
    "def calculateAge():\n",
    "    return \"Cha!!!\"\n",
    "\n",
    "\n",
    "class Asmuo():  #metodas yra funkcija klases viduje\n",
    "    def __init__(self, name, gm):  #visuose klases metoduose privalomai turi buti zodis (self)\n",
    "        self.Name = name #klases atributas (tiesiog kintamasis, esantis klases viduje)\n",
    "        self.BYear = gm\n",
    "        self.Age = self.calculateAge() #kaip kreiptis i metoda is kito metodo\n",
    "        pass \n",
    "\n",
    "    def getName(self):\n",
    "        return self.Name\n",
    "    \n",
    "    def setName(self, new_name):\n",
    "        self.Name = new_name\n",
    "    \n",
    "    def calculateAge(self):\n",
    "        return 2024-self.BYear"
   ]
  },
  {
   "cell_type": "code",
   "execution_count": 45,
   "metadata": {},
   "outputs": [
    {
     "name": "stdout",
     "output_type": "stream",
     "text": [
      "28 Vardenis\n"
     ]
    }
   ],
   "source": [
    "a1 = Asmuo('Vardenis', 1996)\n",
    "print(a1.Age, a1.getName())"
   ]
  },
  {
   "cell_type": "code",
   "execution_count": 50,
   "metadata": {},
   "outputs": [],
   "source": [
    "# paveldejimas\n",
    "\n",
    "class Studentas(Asmuo):\n",
    "    def getStatus(self):\n",
    "        return \"Studentas\"\n",
    "\n"
   ]
  },
  {
   "cell_type": "code",
   "execution_count": 51,
   "metadata": {},
   "outputs": [],
   "source": [
    "std1 = Studentas('Une', 1992)"
   ]
  },
  {
   "cell_type": "code",
   "execution_count": 52,
   "metadata": {},
   "outputs": [
    {
     "name": "stdout",
     "output_type": "stream",
     "text": [
      "32 Une\n"
     ]
    }
   ],
   "source": [
    "print(std1.Age, std1.getName())"
   ]
  },
  {
   "cell_type": "code",
   "execution_count": 53,
   "metadata": {},
   "outputs": [
    {
     "data": {
      "text/plain": [
       "'Studentas'"
      ]
     },
     "execution_count": 53,
     "metadata": {},
     "output_type": "execute_result"
    }
   ],
   "source": [
    "std1.getStatus()"
   ]
  },
  {
   "cell_type": "code",
   "execution_count": 57,
   "metadata": {},
   "outputs": [],
   "source": [
    "# sudetingesnis paveldejimo atvejis\n",
    "\n",
    "class Studentas(Asmuo):\n",
    "    def __init__(self, name, gm):\n",
    "        super().__init__(name, gm)\n",
    "        self.Enroll = True\n",
    "\n",
    "std1 = Studentas('Une', 1996)"
   ]
  },
  {
   "cell_type": "code",
   "execution_count": 59,
   "metadata": {},
   "outputs": [
    {
     "name": "stdout",
     "output_type": "stream",
     "text": [
      "28 True\n"
     ]
    }
   ],
   "source": [
    "print(std1.Age, std1.Enroll)"
   ]
  },
  {
   "cell_type": "code",
   "execution_count": 71,
   "metadata": {},
   "outputs": [
    {
     "name": "stdout",
     "output_type": "stream",
     "text": [
      "36\n"
     ]
    }
   ],
   "source": [
    "# aprasykite klase Kvadratas\n",
    "# kreipiantis i klase, reikia nurodyti kvadarato ilgi a.\n",
    "# Klase turi tureti atributa Plotas, kuri\n",
    "# turi apskaiciuoti klases kurimo metu\n",
    "# Plotas = a*a\n",
    "# parasykite metoda, kuris grazintu apskaiciuoto Ploto atributo reiksme\n",
    "\n",
    "class Kvadratas():\n",
    "    def __init__(self, ilgis):\n",
    "        self.Plotas = ilgis*ilgis\n",
    "        pass\n",
    "    \n",
    "    def getPlotas(self):\n",
    "        return self.Plotas\n",
    "    \n",
    "a = Kvadratas(6)\n",
    "print (a.getPlotas())"
   ]
  },
  {
   "cell_type": "code",
   "execution_count": 80,
   "metadata": {},
   "outputs": [
    {
     "name": "stdout",
     "output_type": "stream",
     "text": [
      "35\n",
      "24\n"
     ]
    }
   ],
   "source": [
    "# aprašykite klasę Rectangle\n",
    "# kreipiantis į klasę, reikia nurodyti stačiakampio\n",
    "# kraštines a ir b.\n",
    "# Realizuokite atributą Plotas = a*b\n",
    "# ir metodą, grąžinantį Ploto reikšmę\n",
    "# Taip pat pridėkite metodą, apskaičiuojantį ir grąžinantį\n",
    "# perimetrą P=2(a+b)\n",
    "\n",
    "class Rectangle():\n",
    "    def __init__(self, a, b):\n",
    "        self.Plotas = a*b\n",
    "        self.Perimetras = 2*(a+b) \n",
    "        pass\n",
    "    \n",
    "    def getPlotas(self):\n",
    "        return self.Plotas\n",
    "    \n",
    "    def getPerimetras(self):\n",
    "        return self.Perimetras\n",
    "\n",
    "x = Rectangle(5,7)\n",
    "print(x.getPlotas())\n",
    "print(x.getPerimetras())\n",
    "\n"
   ]
  },
  {
   "cell_type": "code",
   "execution_count": 81,
   "metadata": {},
   "outputs": [
    {
     "name": "stdout",
     "output_type": "stream",
     "text": [
      "180\n"
     ]
    }
   ],
   "source": [
    "class Kubas():\n",
    "    def __init__(self, a, b, c):\n",
    "        self.Pav = a*b*c\n",
    "        pass\n",
    "\n",
    "    def getPav(self):\n",
    "        return self.Pav\n",
    "\n",
    "ats = Kubas(4,5,9)\n",
    "print(ats.getPav())\n"
   ]
  },
  {
   "cell_type": "code",
   "execution_count": 99,
   "metadata": {},
   "outputs": [
    {
     "name": "stdout",
     "output_type": "stream",
     "text": [
      "904.3199999999999\n",
      "452.16\n"
     ]
    }
   ],
   "source": [
    "#Sukurkite klasę Rutulys\n",
    "#kuriai galėtumėte nurodyti Rutulio spindulį r.\n",
    "#Sukurkite metodus, skirtus rasti jo Tūriui ir paviršiaus plotui;\n",
    "#Taip pat metodą, kuriuo jūs pakeistumėte spindulio r reikšmę.\n",
    "\n",
    "class Rutulys():\n",
    "    def __init__(self, r):\n",
    "        self.r = r\n",
    "        self.Turis = (4/3)*3.14*(r**3)\n",
    "        self.Plotas =  4*3.14*(r**2)\n",
    "    def getTuris(self):\n",
    "        return self.Turis\n",
    "    def getPlotas(self):\n",
    "        return self.Plotas\n",
    "    def changer(self, new_r):\n",
    "         self.r = new_r\n",
    "        \n",
    "r = int(input('Iveskite spinduli r'))    \n",
    "ats = Rutulys(r)\n",
    "print(ats.getTuris())\n",
    "print(ats.getPlotas())"
   ]
  },
  {
   "cell_type": "code",
   "execution_count": 103,
   "metadata": {},
   "outputs": [
    {
     "name": "stdout",
     "output_type": "stream",
     "text": [
      "452.16\n",
      "904.3199999999999\n",
      "615.44\n",
      "1436.0266666666666\n"
     ]
    }
   ],
   "source": [
    "class Rutulys():\n",
    "    def __init__ (self, r):\n",
    "        self.r = r\n",
    "           \n",
    "    def getPav_Plotas(self):\n",
    "        Pav_Plotas = 4*3.14*self.r**2\n",
    "        return Pav_Plotas\n",
    "\n",
    "    def getTūris(self):\n",
    "        Tūris = 4/3*3.14*self.r**3\n",
    "        return Tūris\n",
    "    \n",
    "    def changer(self, new_r):\n",
    "        self.r = new_r\n",
    "        \n",
    "r = int(input(\"Įveskite spindulį r\"))\n",
    "    \n",
    "rutulys  = Rutulys(r)\n",
    "print(rutulys.getPav_Plotas())\n",
    "print(rutulys.getTūris())\n",
    "\n",
    "r = int(input(\"Įveskite spindulį r\"))\n",
    "rutulys.changer(r)\n",
    "\n",
    "print(rutulys.getPav_Plotas())\n",
    "print(rutulys.getTūris())"
   ]
  },
  {
   "cell_type": "code",
   "execution_count": 1,
   "metadata": {},
   "outputs": [
    {
     "name": "stdout",
     "output_type": "stream",
     "text": [
      "Cia mokymosi uzduoties pavyzdys\n"
     ]
    }
   ],
   "source": [
    "#susikurkite su Notepadu tekstinį failą su bet kokiu tekstu\n",
    "#parašykite klasę TxtReader, kuriai kreipimosimetu būtų nurodomas tekstinio failo pavadinimas;\n",
    "#klasės sukūrimo metu tas tekstinis failas turi būti nuskaitomas\n",
    "#ir nuskaitytas tekstas turi būti priskirtas atributui Text\n",
    "#parašykite metodą getText(), kuri grąžintų atributo text reikšmę\n",
    "\n",
    "class TxtReader():\n",
    "    def __init__(self, txt):\n",
    "        fname = 'pvz.txt'\n",
    "        f = open (fname, mode='r', encoding='utf-8')\n",
    "        txt = f.read()\n",
    "        f.close()\n",
    "        self.Text = txt\n",
    "        pass\n",
    "\n",
    "    def getText(self):\n",
    "        return self.Text\n",
    "\n",
    "ats = TxtReader('pvz.txt')\n",
    "print(ats.getText())"
   ]
  },
  {
   "cell_type": "code",
   "execution_count": 104,
   "metadata": {},
   "outputs": [],
   "source": [
    "#parašykite klasę TxtAnalyzer, kuriai kreipimosi metu galima būtų nurodyti \n",
    "# failo pavadinimą ir stulpelių skirtuką.\n",
    "#klasė sukūrimo metu turi nuskaityti failą, stulpelius skaičių suskirstyti \n",
    "# į sąrašus ir juos priskirti atributams X, Y ir Z.\n",
    "#Realizuokite metodus, kurie grąžintų X, Y, Z sąrašų vidurkius, \n",
    "# minimalias ir maksimalias vertes. Pythone yra min, max, sum funkcijos;\n",
    "\n",
    "class TxtAnalyzer():\n",
    "    def __init__(self, f, st):\n",
    "        fname = 'data0.txt'\n",
    "        f = open (fname, mode='r', encoding='utf-8')\n",
    "        txt = f.read()\n",
    "        f.close()\n",
    "        self.Text = txt\n",
    "        "
   ]
  },
  {
   "cell_type": "code",
   "execution_count": 112,
   "metadata": {},
   "outputs": [
    {
     "name": "stdout",
     "output_type": "stream",
     "text": [
      "35\n",
      "24\n"
     ]
    }
   ],
   "source": [
    "#užduotis su paveldjimu:\n",
    "#parašykite klasę Rectangle, kurioje būtų ilgio ir pločio atributai, \n",
    "# bei du metodai - getS - plotui ir getP -erimetrui rasti\n",
    "#Sukurkite išvestinę (child) klasę Kubas, kuri papildomai turėtų Tūrio skaičiavimo metodą\n",
    "#• Klasę Piramidė - išvestinė klasė (child class). Pridėkite\n",
    "# papildomą funkcionalumą - metodą, argumentus piramidės\n",
    "# tūrio skaičiavimui.\n",
    "\n",
    "class Rectangle ():\n",
    "    def __init__(self, a, b):\n",
    "        self.Plotas = a*b\n",
    "        self.Perimetras = 2*(a+b) \n",
    "        pass\n",
    "    def getS(self):\n",
    "        return self.Plotas\n",
    "    \n",
    "    def getP(self):\n",
    "        return self.Perimetras\n",
    "\n",
    "x = Rectangle(5,7)\n",
    "print(x.getS())\n",
    "print(x.getP())\n",
    "\n",
    "class Kubas(Rectangle):\n",
    "    def getV(self):\n",
    "        return a**3\n",
    "\n",
    "class Piramide(Rectangle):\n",
    "    def getT(self):\n",
    "        return \n"
   ]
  },
  {
   "cell_type": "code",
   "execution_count": 107,
   "metadata": {},
   "outputs": [
    {
     "name": "stdout",
     "output_type": "stream",
     "text": [
      "12.56\n",
      "37.68\n",
      "15.700000000000001\n",
      "43.96\n"
     ]
    }
   ],
   "source": [
    "#Parašykite klasę Apskritimas, kuriai glite nurodyti apskritimo spindulį r.\n",
    "# Erealizuokite du metodus getS ir getP, plotui ir perimetrui gražinti. \n",
    "#taip pat pridėkite metodą, skirtą spindulio keitimui\n",
    "# P=2*pi*r\n",
    "# S=pi*r^2\n",
    "\n",
    "class Apskritimas():\n",
    "    def __init__ (self, r):\n",
    "        self.r = r       \n",
    "    def getS(self):\n",
    "        self.Plotas = 3.14*(r^2)\n",
    "        return self.Plotas\n",
    "    def getP(self):\n",
    "        self.Perimetras = 2*3.14*r\n",
    "        return self.Perimetras\n",
    "    def changer(self, new_r):\n",
    "        self.r = new_r\n",
    "        \n",
    "r = int(input(\"Įveskite spindulį r\"))\n",
    "apskritimas  = Apskritimas(r)\n",
    "print(apskritimas.getS())\n",
    "print(apskritimas.getP())\n",
    "\n",
    "r = int(input(\"Įveskite spindulį r\"))\n",
    "apskritimas.changer(r)\n",
    "print(apskritimas.getS())\n",
    "print(apskritimas.getP())"
   ]
  },
  {
   "cell_type": "code",
   "execution_count": 108,
   "metadata": {},
   "outputs": [
    {
     "name": "stdout",
     "output_type": "stream",
     "text": [
      "157.0\n",
      "31.400000000000002\n",
      "628.0\n",
      "62.800000000000004\n"
     ]
    }
   ],
   "source": [
    "#advanced Apskritimas:\n",
    "#padarykite taip, jog klasė Apskritimas turėtų atributus S ir P, plotui ir perimetrui, \n",
    "# ir kad atnaujinus spindulį r, automatiškai pasikeistų S ir P atributų reikšmės, o getS, \n",
    "# getP metodai, kaip ir anksčiau grąžintų S ir P atributų reikšmes.\n",
    "class Apskritimas():\n",
    "    def __init__(self, r):\n",
    "        self.r = r\n",
    "        self.S = 2*3.14*r**2\n",
    "        self.P = 2*3.14*r\n",
    "        \n",
    "    def getS(self):\n",
    "        return self.S\n",
    "    \n",
    "    def getP (self):\n",
    "        return self.P\n",
    "    \n",
    "    def change (self, new_r):\n",
    "        self.r = new_r\n",
    "        self.S = 2*3.14*new_r**2\n",
    "        self.P = 2*3.14*new_r\n",
    "    \n",
    "aps = Apskritimas(5)\n",
    "print(aps.getS())\n",
    "print(aps.getP())\n",
    "aps.change(10)\n",
    "print(aps.getS())\n",
    "print(aps.getP())"
   ]
  },
  {
   "cell_type": "code",
   "execution_count": 109,
   "metadata": {},
   "outputs": [
    {
     "name": "stdout",
     "output_type": "stream",
     "text": [
      "78.5 31.400000000000002\n",
      "314.0 62.800000000000004\n"
     ]
    }
   ],
   "source": [
    "# #Parašykite klasę Apskritimas, kuriai glite nurodyti apskritimo spindulį r.\n",
    "# Erealizuokite du metodus getS ir getP, plotui ir perimetrui gražinti. \n",
    "# #taip pat pridėkite metodą, skirtą spindulio keitimui \n",
    "\n",
    "class Apskritimas:\n",
    "    def __init__(self, r):\n",
    "        self.r = r\n",
    "        self.performCalc()\n",
    "    def getS(self):\n",
    "        return 3.14 * self.r**2\n",
    "    def getP(self):\n",
    "        return 2 * 3.14 * self.r\n",
    "    def setR(self, r):\n",
    "        if r < 0:\n",
    "            raise ValueError(\"Spindulys negali buti maziau uz 0!\")\n",
    "        self.r = round(r, 2) # apvalinimas iki 2 sk po kablelio kaip pvz\n",
    "        self.performCalc()\n",
    "    def performCalc(self):\n",
    "        self.plotas = self.getS()\n",
    "        self.perimetras = self.getP()\n",
    "\n",
    "a5 = Apskritimas(5)\n",
    "print(a5.getS(), a5.getP()) \n",
    "\n",
    "a5.setR(10)\n",
    "print(a5.getS(), a5.getP())"
   ]
  },
  {
   "cell_type": "code",
   "execution_count": 110,
   "metadata": {},
   "outputs": [
    {
     "name": "stdout",
     "output_type": "stream",
     "text": [
      "31.400000000000002 78.5\n",
      "62.800000000000004 314.0\n"
     ]
    }
   ],
   "source": [
    "class Apskritimas():\n",
    "    def __init__(self, r):\n",
    "        self.R = r\n",
    "        self.S = 0\n",
    "        self.P = 0\n",
    "        self.upadeAll()\n",
    "    \n",
    "    def getP(self):\n",
    "        return self.P\n",
    "    \n",
    "    def getS(self):\n",
    "        return self.S\n",
    "    \n",
    "    def upadeAll(self):\n",
    "        self.S = 3.14*self.R**2\n",
    "        self.P = 2*3.14*self.R\n",
    "        \n",
    "    def change(self, new_r):\n",
    "        self.R = new_r\n",
    "        self.upadeAll()\n",
    "\n",
    "a = Apskritimas(5)\n",
    "print(a.getP(), a.getS())\n",
    "a.change(10)\n",
    "print(a.getP(), a.getS())"
   ]
  },
  {
   "cell_type": "code",
   "execution_count": 1,
   "metadata": {},
   "outputs": [
    {
     "name": "stdout",
     "output_type": "stream",
     "text": [
      "Plotas: \n",
      "50\n",
      "Perimetras: \n",
      "30\n",
      "Piramides turis:  10.0\n",
      "Kubo turis:  30\n"
     ]
    }
   ],
   "source": [
    "class Rectangle():\n",
    "\n",
    "    def __init__(self, a, b): \n",
    "\n",
    "        self.S = a * b\n",
    "\n",
    "        self.P = 2*(a + b)\n",
    "\n",
    "    def getP(self):      \n",
    "\n",
    "        return self.P\n",
    "\n",
    "    def getS(self):      \n",
    "\n",
    "        return self.S\n",
    "\n",
    "figura = Rectangle(a=10, b=5)\n",
    "\n",
    "print(\"Plotas: \", figura.getS(), \"Perimetras: \",figura.getP(), sep ='\\n' )\n",
    " \n",
    " \n",
    "class Piramide(Rectangle):\n",
    "\n",
    "    def __init__ (self, a, b, h):\n",
    "\n",
    "        super().__init__(a, b) # cia atkeliavo is Rectangle funkcijos, 9 eilute\n",
    "\n",
    "        self.h = h\n",
    "\n",
    "    def get_piramides_turis(self):\n",
    "\n",
    "        Turis = 1/3*self.S*self.h\n",
    "\n",
    "        return Turis\n",
    "\n",
    "figura = Piramide(a= 2, b=3, h=5)\n",
    "\n",
    "print(\"Piramides turis: \", figura.get_piramides_turis())\n",
    "\n",
    "class Kubas(Rectangle):\n",
    "\n",
    "    def __init__ (self, a, b, h):\n",
    "\n",
    "        super().__init__(a, b) # cia atkeliavo is Rectangle funkcijos, 9 eilute\n",
    "\n",
    "        self.a = h\n",
    "\n",
    "    def getKubo_turis(self):\n",
    "\n",
    "        Turis = self.S*self.a\n",
    "\n",
    "        return Turis\n",
    "\n",
    "figura = Kubas(a= 2, b=5, h= 3)\n",
    "\n",
    "print(\"Kubo turis: \", figura.getKubo_turis())"
   ]
  },
  {
   "cell_type": "code",
   "execution_count": 2,
   "metadata": {},
   "outputs": [
    {
     "name": "stdout",
     "output_type": "stream",
     "text": [
      "pavadinimas turi 40 sedimu vietu\n",
      "pavadinimas turi 40 sedimu vietu\n",
      "pavadinimas turi 40 sedimu vietu\n"
     ]
    }
   ],
   "source": [
    "#su paveldėjimu:\n",
    "# Sukurkite klasę Vehicle su tokiais atributais - Pavadinimas, Rida\n",
    "#Sukurkite išvestines klases Car, Bus, Train, \n",
    "# kurie paveldėtų viską iš Vehicle, ir papildomai būtų galima nurodyti \n",
    "# Seats - sėdimų vietų skaičių, ir visi turėtų metoda GetSeats() grąžinantį tekstą: \n",
    "# <Pavadinimas> turi <Seats> sėdimų vietų.\n",
    "\n",
    "class Vehicle():\n",
    "    def __init__(self, P, R):\n",
    "        self.P = P\n",
    "        self.R = R\n",
    "\n",
    "class Car(Vehicle):\n",
    "    def __init__(self, P, R, S):\n",
    "        super().__init__(P, R)\n",
    "        self.S = S\n",
    "    \n",
    "    def GetSeats(self):\n",
    "        Txt = self.P + 'turi ' + str(self.S) + ' sedimu vietu'\n",
    "        return Txt\n",
    "\n",
    "test = Car(P = 'pavadinimas ', R = 5000, S =40)\n",
    "print(test.GetSeats())\n",
    "\n",
    "class Bus(Vehicle):\n",
    "    def __init__(self, P, R, S):\n",
    "        super().__init__(P, R)\n",
    "        self.S = S\n",
    "    \n",
    "    def GetSeats(self):\n",
    "        Txt = self.P + 'turi ' + str(self.S) + ' sedimu vietu'\n",
    "        return Txt\n",
    "\n",
    "test = Bus(P = 'pavadinimas ', R = 5000, S =40)\n",
    "print(test.GetSeats())\n",
    "\n",
    "class Train(Vehicle):\n",
    "    def __init__(self, P, R, S):\n",
    "        super().__init__(P, R)\n",
    "        self.S = S\n",
    "    \n",
    "    def GetSeats(self):\n",
    "        Txt = self.P + 'turi ' + str(self.S) + ' sedimu vietu'\n",
    "        return Txt\n",
    "\n",
    "test = Train(P = 'pavadinimas ', R = 5000, S =40)\n",
    "print(test.GetSeats())"
   ]
  },
  {
   "cell_type": "code",
   "execution_count": 14,
   "metadata": {},
   "outputs": [
    {
     "name": "stdout",
     "output_type": "stream",
     "text": [
      "['52;0.3666;19.0616\\n', '11;0.8672;9.5391\\n', '55;0.9966;54.8137\\n', '55;0.7318;40.2481\\n', '47;0.6703;31.5026\\n', '71;0.2205;15.6522\\n', '49;0.4725;23.1545\\n', '48;0.5563;26.7004\\n', '82;0.5348;43.8516\\n', '24;0.3462;8.3078\\n', '13;0.784;10.1921\\n', '95;0.348;33.0584\\n', '22;0.8328;18.3206\\n', '95;0.5423;51.5156\\n', '32;0.3351;10.722\\n', '35;0.1916;6.7055\\n', '86;0.1262;10.8526\\n', '90;0.5941;53.47\\n', '8;0.914;7.3119\\n', '21;0.7839;16.4628\\n', '23;0.7763;17.8547\\n', '92;0.8757;80.5658\\n', '38;0.4502;17.1066\\n', '99;0.6906;68.37\\n', '29;0.8418;24.4108\\n', '93;0.1275;11.8609\\n', '53;0.1101;5.8339\\n', '87;0.3211;27.9361\\n', '47;0.5525;25.9672\\n', '38;0.5458;20.7417\\n', '38;0.8458;32.1402\\n', '36;0.6115;22.0154\\n', '83;0.5083;42.1888\\n', '79;0.7373;58.2501\\n', '2;0.9759;1.9518\\n', '18;0.7192;12.9463\\n', '86;0.0424;3.6446\\n', '78;0.4218;32.9034\\n', '51;0.8271;42.1807\\n', '7;0.796;5.5719\\n', '65;0.2074;13.4795\\n', '9;0.0712;0.6406\\n', '50;0.0602;3.0117\\n', '59;0.1218;7.1866\\n', '91;0.5095;46.3658\\n', '39;0.4785;18.662\\n', '36;0.9309;33.5135\\n', '16;0.9365;14.9834\\n', '73;0.918;67.0125\\n', '54;0.8063;43.5409\\n', '79;0.6445;50.9184\\n', '47;0.2458;11.5529\\n', '97;0.891;86.4277\\n', '0;0.447;0.0\\n', '18;0.4852;8.7331\\n', '54;0.2035;10.9905\\n', '93;0.8647;80.4135\\n', '79;0.0794;6.2735\\n', '62;0.8848;54.8547\\n', '63;0.632;39.8134\\n', '22;0.2339;5.146\\n', '49;0.5989;29.3444\\n', '19;0.3103;5.8948\\n', '43;0.6658;28.6315\\n', '65;0.2537;16.4886\\n', '0;0.141;0.0\\n', '80;0.034;2.7227\\n', '70;0.845;59.1502\\n', '95;0.2386;22.6687\\n', '58;0.9328;54.1016\\n', '47;0.8425;39.5996\\n', '89;0.4205;37.4252\\n', '99;0.6455;63.9074\\n', '94;0.4627;43.4957\\n', '70;0.3674;25.7203\\n', '41;0.0327;1.339\\n', '60;0.1313;7.8757\\n', '18;0.6409;11.5358\\n', '12;0.8725;10.4701\\n', '3;0.6112;1.8335\\n', '28;0.9838;27.5461\\n', '50;0.1139;5.6974\\n', '33;0.5738;18.9364\\n', '52;0.8379;43.5727\\n', '99;0.5597;55.4141\\n', '41;0.7883;32.3216\\n', '1;0.4241;0.4241\\n', '58;0.511;29.6396\\n', '60;0.876;52.5573\\n', '5;0.45;2.2501\\n', '3;0.0977;0.293\\n', '44;0.7697;33.8663\\n', '83;0.5361;44.4997\\n', '51;0.671;34.2191\\n', '58;0.8126;47.1291\\n', '27;0.0196;0.5292\\n', '71;0.8812;62.5665\\n', '96;0.1953;18.7448\\n', '18;0.9794;17.63\\n', '83;0.84;69.716']\n",
      "[52.0, 11.0, 55.0, 55.0, 47.0, 71.0, 49.0, 48.0, 82.0, 24.0, 13.0, 95.0, 22.0, 95.0, 32.0, 35.0, 86.0, 90.0, 8.0, 21.0, 23.0, 92.0, 38.0, 99.0, 29.0, 93.0, 53.0, 87.0, 47.0, 38.0, 38.0, 36.0, 83.0, 79.0, 2.0, 18.0, 86.0, 78.0, 51.0, 7.0, 65.0, 9.0, 50.0, 59.0, 91.0, 39.0, 36.0, 16.0, 73.0, 54.0, 79.0, 47.0, 97.0, 0.0, 18.0, 54.0, 93.0, 79.0, 62.0, 63.0, 22.0, 49.0, 19.0, 43.0, 65.0, 0.0, 80.0, 70.0, 95.0, 58.0, 47.0, 89.0, 99.0, 94.0, 70.0, 41.0, 60.0, 18.0, 12.0, 3.0, 28.0, 50.0, 33.0, 52.0, 99.0, 41.0, 1.0, 58.0, 60.0, 5.0, 3.0, 44.0, 83.0, 51.0, 58.0, 27.0, 71.0, 96.0, 18.0, 83.0]\n",
      "[0.3666, 0.8672, 0.9966, 0.7318, 0.6703, 0.2205, 0.4725, 0.5563, 0.5348, 0.3462, 0.784, 0.348, 0.8328, 0.5423, 0.3351, 0.1916, 0.1262, 0.5941, 0.914, 0.7839, 0.7763, 0.8757, 0.4502, 0.6906, 0.8418, 0.1275, 0.1101, 0.3211, 0.5525, 0.5458, 0.8458, 0.6115, 0.5083, 0.7373, 0.9759, 0.7192, 0.0424, 0.4218, 0.8271, 0.796, 0.2074, 0.0712, 0.0602, 0.1218, 0.5095, 0.4785, 0.9309, 0.9365, 0.918, 0.8063, 0.6445, 0.2458, 0.891, 0.447, 0.4852, 0.2035, 0.8647, 0.0794, 0.8848, 0.632, 0.2339, 0.5989, 0.3103, 0.6658, 0.2537, 0.141, 0.034, 0.845, 0.2386, 0.9328, 0.8425, 0.4205, 0.6455, 0.4627, 0.3674, 0.0327, 0.1313, 0.6409, 0.8725, 0.6112, 0.9838, 0.1139, 0.5738, 0.8379, 0.5597, 0.7883, 0.4241, 0.511, 0.876, 0.45, 0.0977, 0.7697, 0.5361, 0.671, 0.8126, 0.0196, 0.8812, 0.1953, 0.9794, 0.84]\n",
      "[19.0616, 9.5391, 54.8137, 40.2481, 31.5026, 15.6522, 23.1545, 26.7004, 43.8516, 8.3078, 10.1921, 33.0584, 18.3206, 51.5156, 10.722, 6.7055, 10.8526, 53.47, 7.3119, 16.4628, 17.8547, 80.5658, 17.1066, 68.37, 24.4108, 11.8609, 5.8339, 27.9361, 25.9672, 20.7417, 32.1402, 22.0154, 42.1888, 58.2501, 1.9518, 12.9463, 3.6446, 32.9034, 42.1807, 5.5719, 13.4795, 0.6406, 3.0117, 7.1866, 46.3658, 18.662, 33.5135, 14.9834, 67.0125, 43.5409, 50.9184, 11.5529, 86.4277, 0.0, 8.7331, 10.9905, 80.4135, 6.2735, 54.8547, 39.8134, 5.146, 29.3444, 5.8948, 28.6315, 16.4886, 0.0, 2.7227, 59.1502, 22.6687, 54.1016, 39.5996, 37.4252, 63.9074, 43.4957, 25.7203, 1.339, 7.8757, 11.5358, 10.4701, 1.8335, 27.5461, 5.6974, 18.9364, 43.5727, 55.4141, 32.3216, 0.4241, 29.6396, 52.5573, 2.2501, 0.293, 33.8663, 44.4997, 34.2191, 47.1291, 0.5292, 62.5665, 18.7448, 17.63, 69.716]\n"
     ]
    }
   ],
   "source": [
    "#parašykite klasę TxtAnalyzer, kuriai kreipimosi metu galima būtų nurodyti failo pavadinimą ir stulpelių skirtuką.\n",
    "#klasė sukūrimo metu turi nuskaityti failą, stulpelius skaičių suskirstyti į sąrašus ir juos priskirti atributams X, Y ir Z.\n",
    "#Realizuokite metodus, kurie grąžintų X, Y, Z sąrašų vidurkius, minimalias ir maksimalias vertes. Pythone yra min, max, sum funkcijos\n",
    "\n",
    "class TxtAnalyzer():\n",
    "    def __init__(self, pav, skirt):\n",
    "        self.pavadinimas = pav \n",
    "        self.skirtukas = skirt\n",
    "        self.x = []\n",
    "        self.y = [] \n",
    "        self.z = []\n",
    "        pass\n",
    "    \n",
    "    def TxtReader(self):\n",
    "        fname = self.pavadinimas\n",
    "        f = open (fname, mode='r', encoding='utf-8')\n",
    "        tekstas = f.readlines()\n",
    "        print(tekstas)\n",
    "        f.close()\n",
    "\n",
    "        for x in tekstas:\n",
    "            self.x.append(float(x.split(self.skirtukas)[0]))\n",
    "            self.y.append(float(x.split(self.skirtukas)[1]))\n",
    "            self.z.append(float(x.split(self.skirtukas)[2]))\n",
    "        print(self.x)\n",
    "        print(self.y)\n",
    "        print(self.z)\n",
    "\n",
    "z = TxtAnalyzer('data0.txt', ';')\n",
    "z.TxtReader()   "
   ]
  }
 ],
 "metadata": {
  "kernelspec": {
   "display_name": "Python 3",
   "language": "python",
   "name": "python3"
  },
  "language_info": {
   "codemirror_mode": {
    "name": "ipython",
    "version": 3
   },
   "file_extension": ".py",
   "mimetype": "text/x-python",
   "name": "python",
   "nbconvert_exporter": "python",
   "pygments_lexer": "ipython3",
   "version": "3.12.2"
  }
 },
 "nbformat": 4,
 "nbformat_minor": 2
}
