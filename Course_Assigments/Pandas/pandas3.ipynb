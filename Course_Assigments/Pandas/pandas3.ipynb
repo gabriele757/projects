{
 "cells": [
  {
   "cell_type": "code",
   "execution_count": 306,
   "metadata": {},
   "outputs": [],
   "source": [
    "import pandas as pd\n",
    "import numpy as np\n",
    "import matplotlib.pyplot as plt"
   ]
  },
  {
   "cell_type": "code",
   "execution_count": 307,
   "metadata": {},
   "outputs": [],
   "source": [
    "import warnings\n",
    "warnings.filterwarnings('ignore')"
   ]
  },
  {
   "cell_type": "code",
   "execution_count": 308,
   "metadata": {},
   "outputs": [
    {
     "name": "stdout",
     "output_type": "stream",
     "text": [
      "2014 ir 2018 metais apklaustu moteru skaiciaus pokytis: 1678\n",
      "2014 ir 2018 metais apklaustu vyru skaiciaus pokytis: 110\n"
     ]
    }
   ],
   "source": [
    "#Nuskaitykite DUS2014csv ir DUS2018.csv į pandas lenteles\n",
    "# .query(), .value_counts():\n",
    "# Kiek dalyvavo vyrų, moterų apklausoje kiekvienais metais. Suraskite pokytį,\n",
    "# rezultatus išspausdinkite\n",
    "dus14 = pd.read_csv('DUS2014.csv')\n",
    "dus18 = pd.read_csv('DUS2018.csv')\n",
    "dus14small = dus14[['lytis','amzius','issilavinimas','bdu_spalio']]\n",
    "dus18small = dus18[['lytis','amzius','issilavinimas','bdu_spalio']]\n",
    "\n",
    "mot14 = dus14small[dus14small['lytis'] == 'F']\n",
    "motsk14 = mot14['lytis'].value_counts().values[0]\n",
    "vyr14 = dus14small[dus14small['lytis'] == 'M']\n",
    "vyrsk14 = vyr14['lytis'].value_counts().values[0]\n",
    "\n",
    "mot18 = dus18small[dus18small['lytis'] == 'F']\n",
    "motsk18 = mot18['lytis'].value_counts().values[0]\n",
    "vyr18 = dus18small[dus18small['lytis'] == 'M']\n",
    "vyrsk18 = vyr18['lytis'].value_counts().values[0]\n",
    "\n",
    "motsk_pokytis = motsk14 - motsk18\n",
    "vyrsk_pokytis = vyrsk14 - vyrsk18\n",
    "\n",
    "print ('2014 ir 2018 metais apklaustu moteru skaiciaus pokytis:', motsk_pokytis)\n",
    "print ('2014 ir 2018 metais apklaustu vyru skaiciaus pokytis:', vyrsk_pokytis)"
   ]
  },
  {
   "cell_type": "code",
   "execution_count": 309,
   "metadata": {},
   "outputs": [
    {
     "data": {
      "text/html": [
       "<div>\n",
       "<style scoped>\n",
       "    .dataframe tbody tr th:only-of-type {\n",
       "        vertical-align: middle;\n",
       "    }\n",
       "\n",
       "    .dataframe tbody tr th {\n",
       "        vertical-align: top;\n",
       "    }\n",
       "\n",
       "    .dataframe thead th {\n",
       "        text-align: right;\n",
       "    }\n",
       "</style>\n",
       "<table border=\"1\" class=\"dataframe\">\n",
       "  <thead>\n",
       "    <tr style=\"text-align: right;\">\n",
       "      <th></th>\n",
       "      <th>lytis</th>\n",
       "      <th>amzius</th>\n",
       "      <th>issilavinimas</th>\n",
       "      <th>bdu_spalio</th>\n",
       "    </tr>\n",
       "  </thead>\n",
       "  <tbody>\n",
       "    <tr>\n",
       "      <th>0</th>\n",
       "      <td>F</td>\n",
       "      <td>40-49</td>\n",
       "      <td>G2</td>\n",
       "      <td>460</td>\n",
       "    </tr>\n",
       "    <tr>\n",
       "      <th>1</th>\n",
       "      <td>M</td>\n",
       "      <td>50-59</td>\n",
       "      <td>G2</td>\n",
       "      <td>1487</td>\n",
       "    </tr>\n",
       "    <tr>\n",
       "      <th>2</th>\n",
       "      <td>M</td>\n",
       "      <td>40-49</td>\n",
       "      <td>G2</td>\n",
       "      <td>1500</td>\n",
       "    </tr>\n",
       "    <tr>\n",
       "      <th>3</th>\n",
       "      <td>M</td>\n",
       "      <td>50-59</td>\n",
       "      <td>G2</td>\n",
       "      <td>1500</td>\n",
       "    </tr>\n",
       "    <tr>\n",
       "      <th>4</th>\n",
       "      <td>F</td>\n",
       "      <td>40-49</td>\n",
       "      <td>G2</td>\n",
       "      <td>400</td>\n",
       "    </tr>\n",
       "    <tr>\n",
       "      <th>5</th>\n",
       "      <td>F</td>\n",
       "      <td>40-49</td>\n",
       "      <td>G2</td>\n",
       "      <td>400</td>\n",
       "    </tr>\n",
       "    <tr>\n",
       "      <th>6</th>\n",
       "      <td>F</td>\n",
       "      <td>14-29</td>\n",
       "      <td>G2</td>\n",
       "      <td>400</td>\n",
       "    </tr>\n",
       "    <tr>\n",
       "      <th>7</th>\n",
       "      <td>M</td>\n",
       "      <td>50-59</td>\n",
       "      <td>G2</td>\n",
       "      <td>400</td>\n",
       "    </tr>\n",
       "    <tr>\n",
       "      <th>8</th>\n",
       "      <td>F</td>\n",
       "      <td>50-59</td>\n",
       "      <td>G2</td>\n",
       "      <td>400</td>\n",
       "    </tr>\n",
       "    <tr>\n",
       "      <th>9</th>\n",
       "      <td>F</td>\n",
       "      <td>30-39</td>\n",
       "      <td>G2</td>\n",
       "      <td>400</td>\n",
       "    </tr>\n",
       "    <tr>\n",
       "      <th>10</th>\n",
       "      <td>F</td>\n",
       "      <td>40-49</td>\n",
       "      <td>G2</td>\n",
       "      <td>407</td>\n",
       "    </tr>\n",
       "    <tr>\n",
       "      <th>11</th>\n",
       "      <td>F</td>\n",
       "      <td>30-39</td>\n",
       "      <td>G2</td>\n",
       "      <td>440</td>\n",
       "    </tr>\n",
       "    <tr>\n",
       "      <th>12</th>\n",
       "      <td>F</td>\n",
       "      <td>60+</td>\n",
       "      <td>G2</td>\n",
       "      <td>225</td>\n",
       "    </tr>\n",
       "    <tr>\n",
       "      <th>13</th>\n",
       "      <td>F</td>\n",
       "      <td>40-49</td>\n",
       "      <td>G2</td>\n",
       "      <td>116</td>\n",
       "    </tr>\n",
       "    <tr>\n",
       "      <th>14</th>\n",
       "      <td>F</td>\n",
       "      <td>14-29</td>\n",
       "      <td>G3</td>\n",
       "      <td>511</td>\n",
       "    </tr>\n",
       "  </tbody>\n",
       "</table>\n",
       "</div>"
      ],
      "text/plain": [
       "   lytis amzius issilavinimas  bdu_spalio\n",
       "0      F  40-49            G2         460\n",
       "1      M  50-59            G2        1487\n",
       "2      M  40-49            G2        1500\n",
       "3      M  50-59            G2        1500\n",
       "4      F  40-49            G2         400\n",
       "5      F  40-49            G2         400\n",
       "6      F  14-29            G2         400\n",
       "7      M  50-59            G2         400\n",
       "8      F  50-59            G2         400\n",
       "9      F  30-39            G2         400\n",
       "10     F  40-49            G2         407\n",
       "11     F  30-39            G2         440\n",
       "12     F    60+            G2         225\n",
       "13     F  40-49            G2         116\n",
       "14     F  14-29            G3         511"
      ]
     },
     "execution_count": 309,
     "metadata": {},
     "output_type": "execute_result"
    }
   ],
   "source": [
    "dus18small.head(15)"
   ]
  },
  {
   "cell_type": "code",
   "execution_count": 310,
   "metadata": {},
   "outputs": [
    {
     "name": "stdout",
     "output_type": "stream",
     "text": [
      "amzius\n",
      "50-59    10056\n",
      "40-49     9421\n",
      "14-29     9368\n",
      "30-39     9282\n",
      "60+       5037\n",
      "Name: count, dtype: int64\n"
     ]
    }
   ],
   "source": [
    "# kiek 2018 metais buvo respondentų iš kiekvienos amžiaus grupės?\n",
    "\n",
    "amziausgrupes = dus18small['amzius'].value_counts()\n",
    "print(amziausgrupes)"
   ]
  },
  {
   "cell_type": "code",
   "execution_count": 311,
   "metadata": {},
   "outputs": [
    {
     "name": "stdout",
     "output_type": "stream",
     "text": [
      "Vidutinis atlyginimas pagal amziaus grupes:\n",
      "50-59 856.0671241050119\n",
      "40-49 980.8554293599406\n",
      "14-29 865.5633005977796\n",
      "30-39 1088.9557207498383\n",
      "60+ 784.542386341076\n"
     ]
    }
   ],
   "source": [
    "# Suraskite vidutinius atlyginimus kiekvienai amžiaus grupei (2018 metams)\n",
    "# hint:as for ciklas moka eiti per array vertes, kurias gausite su .index arba .values atributais\n",
    "\n",
    "amziausgrupes = dus18small['amzius'].value_counts().index\n",
    "\n",
    "print('Vidutinis atlyginimas pagal amziaus grupes:')\n",
    "for amzius in amziausgrupes:\n",
    "    atr = dus18small.query('amzius == @amzius')\n",
    "    vid = atr['bdu_spalio'].mean()\n",
    "    print(amzius, vid)\n"
   ]
  },
  {
   "cell_type": "code",
   "execution_count": 312,
   "metadata": {},
   "outputs": [
    {
     "name": "stdout",
     "output_type": "stream",
     "text": [
      "Vyrai uzdirba daugiau uz moteris ant 17.974370561948064 %\n",
      "Vyrai uzdirba daugiau nei bendras atlyginimas ant 9.427035640478195 %\n",
      "Moterys uzdirba maziau nei bendras atlyginimas ant 10.241785240496341 %\n"
     ]
    }
   ],
   "source": [
    "# Palyginkite, kiek procentais daugiau uždirbo vyrai už moteris 2018 metais?\n",
    "# Kiek procentais vyrai uždirba daugiau, nei bendras atlyginimų vidurkis?\n",
    "# Kiek procentais moterys uždirba mažiau, nei bendras atlyginimų vidurkis?\n",
    "# imkite bdu_spalio\n",
    "\n",
    "f18 = dus18small[dus18small['lytis'] == 'F']\n",
    "m18 = dus18small[dus18small['lytis'] == 'M']\n",
    "f18vid = f18['bdu_spalio'].mean()\n",
    "m18vid = m18['bdu_spalio'].mean()\n",
    "\n",
    "# skirtumas1 = m18vid-f18vid\n",
    "# sk_vyrmot = (f18vid+m18vid)/2\n",
    "skirtumas_proc = (f18vid*100/m18vid-100)*-1\n",
    "print('Vyrai uzdirba daugiau uz moteris ant', skirtumas_proc, '%')\n",
    "\n",
    "bendr_vid = dus18small['bdu_spalio'].mean()\n",
    "\n",
    "vyrai_daugiau_bendr = m18vid*100/bendr_vid-100\n",
    "print('Vyrai uzdirba daugiau nei bendras atlyginimas ant', vyrai_daugiau_bendr, '%')\n",
    "\n",
    "mot_maziau_bendr = (f18vid*100/bendr_vid-100)*-1\n",
    "print('Moterys uzdirba maziau nei bendras atlyginimas ant', mot_maziau_bendr, '%')"
   ]
  },
  {
   "cell_type": "code",
   "execution_count": 313,
   "metadata": {},
   "outputs": [],
   "source": [
    "# print(\"Kiek procentais daugiau uždirbo vyrai už moteris 2018 metais %\", (Men2018ave/Women2018ave - 1)*100)\n",
    "# print(\"Kiek procentais vyrai uždirba daugiau, nei bendras atlyginimų vidurkis %\", (Men2018ave/BduMenAndWomen - 1)*100)\n",
    "# print(\"Kiek procentais moterys uždirba mažiau, nei bendras atlyginimų vidurkis %\", (Women2018ave/BduMenAndWomen - 1)*100)"
   ]
  },
  {
   "cell_type": "code",
   "execution_count": 314,
   "metadata": {},
   "outputs": [
    {
     "name": "stdout",
     "output_type": "stream",
     "text": [
      "3301.46678555506\n"
     ]
    }
   ],
   "source": [
    "# Nuskaitykite aruodas.csv failą\n",
    "# Pridėkite prie DataFrame'o naują stulpelį \"KainaS\", kur būtų skaičiai (float'ai) iš stulpelio \"€/S\"\n",
    "# tam panaudokite savo sukurtą funkciją, kuri tekstą verstų į float'us\n",
    "# bei .apply() metodą\n",
    "# Suraskite vidutinę kv. m. kainą.\n",
    "\n",
    "ard = pd.read_csv('aruodas.csv')\n",
    "\n",
    "ard['KainaS'] = ard['€/S']\n",
    "\n",
    "kainos = []\n",
    "def kainos(x):\n",
    "    kainos = float(x[:-4])\n",
    "    return kainos\n",
    "\n",
    "ard['KainaS'] = ard['€/S'].apply(kainos)\n",
    "\n",
    "vid = ard['KainaS'].mean()\n",
    "print(vid)"
   ]
  },
  {
   "cell_type": "code",
   "execution_count": 315,
   "metadata": {},
   "outputs": [
    {
     "data": {
      "text/html": [
       "<div>\n",
       "<style scoped>\n",
       "    .dataframe tbody tr th:only-of-type {\n",
       "        vertical-align: middle;\n",
       "    }\n",
       "\n",
       "    .dataframe tbody tr th {\n",
       "        vertical-align: top;\n",
       "    }\n",
       "\n",
       "    .dataframe thead th {\n",
       "        text-align: right;\n",
       "    }\n",
       "</style>\n",
       "<table border=\"1\" class=\"dataframe\">\n",
       "  <thead>\n",
       "    <tr style=\"text-align: right;\">\n",
       "      <th></th>\n",
       "      <th>Unnamed: 0</th>\n",
       "      <th>Linkas</th>\n",
       "      <th>Adresas</th>\n",
       "      <th>Kaina</th>\n",
       "      <th>€/S</th>\n",
       "      <th>Aukštas</th>\n",
       "      <th>Plotas</th>\n",
       "      <th>Kambariai</th>\n",
       "      <th>KainaS</th>\n",
       "    </tr>\n",
       "  </thead>\n",
       "  <tbody>\n",
       "    <tr>\n",
       "      <th>0</th>\n",
       "      <td>0</td>\n",
       "      <td>https://www.aruodas.lt/butai-vilniuje-lazdynel...</td>\n",
       "      <td>Lazdynėliai, Žaibo g.</td>\n",
       "      <td>155 000 €</td>\n",
       "      <td>3690€/m²</td>\n",
       "      <td>4/4</td>\n",
       "      <td>42.00</td>\n",
       "      <td>2</td>\n",
       "      <td>3690.0</td>\n",
       "    </tr>\n",
       "    <tr>\n",
       "      <th>1</th>\n",
       "      <td>1</td>\n",
       "      <td>https://www.aruodas.lt/butai-vilniuje-pasilaic...</td>\n",
       "      <td>Pašilaičiai, Pavilnionių g.</td>\n",
       "      <td>125 880 €</td>\n",
       "      <td>2977€/m²</td>\n",
       "      <td>4/4</td>\n",
       "      <td>42.28</td>\n",
       "      <td>2</td>\n",
       "      <td>2977.0</td>\n",
       "    </tr>\n",
       "    <tr>\n",
       "      <th>2</th>\n",
       "      <td>2</td>\n",
       "      <td>https://www.aruodas.lt/butai-vilniuje-lazdynel...</td>\n",
       "      <td>Lazdynėliai, Žaibo g.</td>\n",
       "      <td>166 000 €</td>\n",
       "      <td>3773€/m²</td>\n",
       "      <td>2/4</td>\n",
       "      <td>44.00</td>\n",
       "      <td>2</td>\n",
       "      <td>3773.0</td>\n",
       "    </tr>\n",
       "    <tr>\n",
       "      <th>3</th>\n",
       "      <td>3</td>\n",
       "      <td>https://www.aruodas.lt/butai-vilniuje-pasilaic...</td>\n",
       "      <td>Pašilaičiai, Perkūnkiemio g.</td>\n",
       "      <td>109 900 €</td>\n",
       "      <td>3283€/m²</td>\n",
       "      <td>7/12</td>\n",
       "      <td>33.48</td>\n",
       "      <td>1</td>\n",
       "      <td>3283.0</td>\n",
       "    </tr>\n",
       "    <tr>\n",
       "      <th>4</th>\n",
       "      <td>4</td>\n",
       "      <td>https://www.aruodas.lt/butai-vilniuje-pilaitej...</td>\n",
       "      <td>Pilaitė, Pilkalnio g.</td>\n",
       "      <td>137 000 €</td>\n",
       "      <td>3703€/m²</td>\n",
       "      <td>4/4</td>\n",
       "      <td>37.00</td>\n",
       "      <td>2</td>\n",
       "      <td>3703.0</td>\n",
       "    </tr>\n",
       "  </tbody>\n",
       "</table>\n",
       "</div>"
      ],
      "text/plain": [
       "   Unnamed: 0                                             Linkas  \\\n",
       "0           0  https://www.aruodas.lt/butai-vilniuje-lazdynel...   \n",
       "1           1  https://www.aruodas.lt/butai-vilniuje-pasilaic...   \n",
       "2           2  https://www.aruodas.lt/butai-vilniuje-lazdynel...   \n",
       "3           3  https://www.aruodas.lt/butai-vilniuje-pasilaic...   \n",
       "4           4  https://www.aruodas.lt/butai-vilniuje-pilaitej...   \n",
       "\n",
       "                        Adresas      Kaina       €/S Aukštas  Plotas  \\\n",
       "0         Lazdynėliai, Žaibo g.  155 000 €  3690€/m²     4/4   42.00   \n",
       "1   Pašilaičiai, Pavilnionių g.  125 880 €  2977€/m²     4/4   42.28   \n",
       "2         Lazdynėliai, Žaibo g.  166 000 €  3773€/m²     2/4   44.00   \n",
       "3  Pašilaičiai, Perkūnkiemio g.  109 900 €  3283€/m²    7/12   33.48   \n",
       "4         Pilaitė, Pilkalnio g.  137 000 €  3703€/m²     4/4   37.00   \n",
       "\n",
       "   Kambariai  KainaS  \n",
       "0          2  3690.0  \n",
       "1          2  2977.0  \n",
       "2          2  3773.0  \n",
       "3          1  3283.0  \n",
       "4          2  3703.0  "
      ]
     },
     "execution_count": 315,
     "metadata": {},
     "output_type": "execute_result"
    }
   ],
   "source": [
    "ard.head()"
   ]
  },
  {
   "cell_type": "code",
   "execution_count": 316,
   "metadata": {},
   "outputs": [
    {
     "data": {
      "text/html": [
       "<div>\n",
       "<style scoped>\n",
       "    .dataframe tbody tr th:only-of-type {\n",
       "        vertical-align: middle;\n",
       "    }\n",
       "\n",
       "    .dataframe tbody tr th {\n",
       "        vertical-align: top;\n",
       "    }\n",
       "\n",
       "    .dataframe thead th {\n",
       "        text-align: right;\n",
       "    }\n",
       "</style>\n",
       "<table border=\"1\" class=\"dataframe\">\n",
       "  <thead>\n",
       "    <tr style=\"text-align: right;\">\n",
       "      <th></th>\n",
       "      <th>INCIDENT_KEY</th>\n",
       "      <th>OCCUR_DATE</th>\n",
       "      <th>OCCUR_TIME</th>\n",
       "      <th>BORO</th>\n",
       "      <th>PRECINCT</th>\n",
       "      <th>JURISDICTION_CODE</th>\n",
       "      <th>LOCATION_DESC</th>\n",
       "      <th>STATISTICAL_MURDER_FLAG</th>\n",
       "      <th>PERP_AGE_GROUP</th>\n",
       "      <th>PERP_SEX</th>\n",
       "      <th>PERP_RACE</th>\n",
       "      <th>VIC_AGE_GROUP</th>\n",
       "      <th>VIC_SEX</th>\n",
       "      <th>VIC_RACE</th>\n",
       "      <th>Latitude</th>\n",
       "      <th>Longitude</th>\n",
       "    </tr>\n",
       "  </thead>\n",
       "  <tbody>\n",
       "    <tr>\n",
       "      <th>0</th>\n",
       "      <td>201575314</td>\n",
       "      <td>2019-08-23</td>\n",
       "      <td>2024-04-12 22:10:00</td>\n",
       "      <td>QUEENS</td>\n",
       "      <td>103</td>\n",
       "      <td>0.0</td>\n",
       "      <td>NaN</td>\n",
       "      <td>False</td>\n",
       "      <td>NaN</td>\n",
       "      <td>NaN</td>\n",
       "      <td>NaN</td>\n",
       "      <td>25-44</td>\n",
       "      <td>M</td>\n",
       "      <td>BLACK</td>\n",
       "      <td>40.697805</td>\n",
       "      <td>-73.808141</td>\n",
       "    </tr>\n",
       "    <tr>\n",
       "      <th>1</th>\n",
       "      <td>205748546</td>\n",
       "      <td>2019-11-27</td>\n",
       "      <td>2024-04-12 15:54:00</td>\n",
       "      <td>BRONX</td>\n",
       "      <td>40</td>\n",
       "      <td>0.0</td>\n",
       "      <td>NaN</td>\n",
       "      <td>False</td>\n",
       "      <td>&lt;18</td>\n",
       "      <td>M</td>\n",
       "      <td>BLACK</td>\n",
       "      <td>25-44</td>\n",
       "      <td>F</td>\n",
       "      <td>BLACK</td>\n",
       "      <td>40.818700</td>\n",
       "      <td>-73.918571</td>\n",
       "    </tr>\n",
       "  </tbody>\n",
       "</table>\n",
       "</div>"
      ],
      "text/plain": [
       "   INCIDENT_KEY OCCUR_DATE          OCCUR_TIME    BORO  PRECINCT  \\\n",
       "0     201575314 2019-08-23 2024-04-12 22:10:00  QUEENS       103   \n",
       "1     205748546 2019-11-27 2024-04-12 15:54:00   BRONX        40   \n",
       "\n",
       "   JURISDICTION_CODE LOCATION_DESC  STATISTICAL_MURDER_FLAG PERP_AGE_GROUP  \\\n",
       "0                0.0           NaN                    False            NaN   \n",
       "1                0.0           NaN                    False            <18   \n",
       "\n",
       "  PERP_SEX PERP_RACE VIC_AGE_GROUP VIC_SEX VIC_RACE   Latitude  Longitude  \n",
       "0      NaN       NaN         25-44       M    BLACK  40.697805 -73.808141  \n",
       "1        M     BLACK         25-44       F    BLACK  40.818700 -73.918571  "
      ]
     },
     "execution_count": 316,
     "metadata": {},
     "output_type": "execute_result"
    }
   ],
   "source": [
    "nypd = pd.read_csv('NYPD_Shooting.csv', sep=';', parse_dates=['OCCUR_DATE', 'OCCUR_TIME'])\n",
    "nypd.head(2)"
   ]
  },
  {
   "cell_type": "code",
   "execution_count": 317,
   "metadata": {},
   "outputs": [
    {
     "data": {
      "text/html": [
       "<div>\n",
       "<style scoped>\n",
       "    .dataframe tbody tr th:only-of-type {\n",
       "        vertical-align: middle;\n",
       "    }\n",
       "\n",
       "    .dataframe tbody tr th {\n",
       "        vertical-align: top;\n",
       "    }\n",
       "\n",
       "    .dataframe thead th {\n",
       "        text-align: right;\n",
       "    }\n",
       "</style>\n",
       "<table border=\"1\" class=\"dataframe\">\n",
       "  <thead>\n",
       "    <tr style=\"text-align: right;\">\n",
       "      <th></th>\n",
       "      <th>DATA</th>\n",
       "      <th>INCIDENT_KEY</th>\n",
       "      <th>BORO</th>\n",
       "      <th>PRECINCT</th>\n",
       "      <th>JURISDICTION_CODE</th>\n",
       "      <th>LOCATION_DESC</th>\n",
       "      <th>STATISTICAL_MURDER_FLAG</th>\n",
       "      <th>PERP_AGE_GROUP</th>\n",
       "      <th>PERP_SEX</th>\n",
       "      <th>PERP_RACE</th>\n",
       "      <th>VIC_AGE_GROUP</th>\n",
       "      <th>VIC_SEX</th>\n",
       "      <th>VIC_RACE</th>\n",
       "      <th>Latitude</th>\n",
       "      <th>Longitude</th>\n",
       "    </tr>\n",
       "  </thead>\n",
       "  <tbody>\n",
       "    <tr>\n",
       "      <th>0</th>\n",
       "      <td>2019-08-23 22:10:00</td>\n",
       "      <td>201575314</td>\n",
       "      <td>QUEENS</td>\n",
       "      <td>103</td>\n",
       "      <td>0.0</td>\n",
       "      <td>NaN</td>\n",
       "      <td>False</td>\n",
       "      <td>NaN</td>\n",
       "      <td>NaN</td>\n",
       "      <td>NaN</td>\n",
       "      <td>25-44</td>\n",
       "      <td>M</td>\n",
       "      <td>BLACK</td>\n",
       "      <td>40.697805</td>\n",
       "      <td>-73.808141</td>\n",
       "    </tr>\n",
       "    <tr>\n",
       "      <th>1</th>\n",
       "      <td>2019-11-27 15:54:00</td>\n",
       "      <td>205748546</td>\n",
       "      <td>BRONX</td>\n",
       "      <td>40</td>\n",
       "      <td>0.0</td>\n",
       "      <td>NaN</td>\n",
       "      <td>False</td>\n",
       "      <td>&lt;18</td>\n",
       "      <td>M</td>\n",
       "      <td>BLACK</td>\n",
       "      <td>25-44</td>\n",
       "      <td>F</td>\n",
       "      <td>BLACK</td>\n",
       "      <td>40.818700</td>\n",
       "      <td>-73.918571</td>\n",
       "    </tr>\n",
       "    <tr>\n",
       "      <th>2</th>\n",
       "      <td>2019-02-02 19:40:00</td>\n",
       "      <td>193118596</td>\n",
       "      <td>MANHATTAN</td>\n",
       "      <td>23</td>\n",
       "      <td>0.0</td>\n",
       "      <td>NaN</td>\n",
       "      <td>False</td>\n",
       "      <td>18-24</td>\n",
       "      <td>M</td>\n",
       "      <td>WHITE HISPANIC</td>\n",
       "      <td>18-24</td>\n",
       "      <td>M</td>\n",
       "      <td>BLACK HISPANIC</td>\n",
       "      <td>40.791916</td>\n",
       "      <td>-73.945480</td>\n",
       "    </tr>\n",
       "  </tbody>\n",
       "</table>\n",
       "</div>"
      ],
      "text/plain": [
       "                 DATA  INCIDENT_KEY       BORO  PRECINCT  JURISDICTION_CODE  \\\n",
       "0 2019-08-23 22:10:00     201575314     QUEENS       103                0.0   \n",
       "1 2019-11-27 15:54:00     205748546      BRONX        40                0.0   \n",
       "2 2019-02-02 19:40:00     193118596  MANHATTAN        23                0.0   \n",
       "\n",
       "  LOCATION_DESC  STATISTICAL_MURDER_FLAG PERP_AGE_GROUP PERP_SEX  \\\n",
       "0           NaN                    False            NaN      NaN   \n",
       "1           NaN                    False            <18        M   \n",
       "2           NaN                    False          18-24        M   \n",
       "\n",
       "        PERP_RACE VIC_AGE_GROUP VIC_SEX        VIC_RACE   Latitude  Longitude  \n",
       "0             NaN         25-44       M           BLACK  40.697805 -73.808141  \n",
       "1           BLACK         25-44       F           BLACK  40.818700 -73.918571  \n",
       "2  WHITE HISPANIC         18-24       M  BLACK HISPANIC  40.791916 -73.945480  "
      ]
     },
     "execution_count": 317,
     "metadata": {},
     "output_type": "execute_result"
    }
   ],
   "source": [
    "nypd = pd.read_csv('NYPD_Shooting.csv', sep=';', parse_dates={'DATA':['OCCUR_DATE', 'OCCUR_TIME']})\n",
    "nypd.head(3)"
   ]
  },
  {
   "cell_type": "code",
   "execution_count": 318,
   "metadata": {},
   "outputs": [
    {
     "data": {
      "text/html": [
       "<div>\n",
       "<style scoped>\n",
       "    .dataframe tbody tr th:only-of-type {\n",
       "        vertical-align: middle;\n",
       "    }\n",
       "\n",
       "    .dataframe tbody tr th {\n",
       "        vertical-align: top;\n",
       "    }\n",
       "\n",
       "    .dataframe thead th {\n",
       "        text-align: right;\n",
       "    }\n",
       "</style>\n",
       "<table border=\"1\" class=\"dataframe\">\n",
       "  <thead>\n",
       "    <tr style=\"text-align: right;\">\n",
       "      <th></th>\n",
       "      <th>DATA</th>\n",
       "      <th>BORO</th>\n",
       "      <th>STATISTICAL_MURDER_FLAG</th>\n",
       "    </tr>\n",
       "  </thead>\n",
       "  <tbody>\n",
       "    <tr>\n",
       "      <th>0</th>\n",
       "      <td>2019-08-23 22:10:00</td>\n",
       "      <td>QUEENS</td>\n",
       "      <td>False</td>\n",
       "    </tr>\n",
       "    <tr>\n",
       "      <th>1</th>\n",
       "      <td>2019-11-27 15:54:00</td>\n",
       "      <td>BRONX</td>\n",
       "      <td>False</td>\n",
       "    </tr>\n",
       "  </tbody>\n",
       "</table>\n",
       "</div>"
      ],
      "text/plain": [
       "                 DATA    BORO  STATISTICAL_MURDER_FLAG\n",
       "0 2019-08-23 22:10:00  QUEENS                    False\n",
       "1 2019-11-27 15:54:00   BRONX                    False"
      ]
     },
     "execution_count": 318,
     "metadata": {},
     "output_type": "execute_result"
    }
   ],
   "source": [
    "nypd_small = nypd[['DATA', 'BORO', 'STATISTICAL_MURDER_FLAG']]\n",
    "nypd_small.head(2)"
   ]
  },
  {
   "cell_type": "code",
   "execution_count": 319,
   "metadata": {},
   "outputs": [
    {
     "data": {
      "text/html": [
       "<div>\n",
       "<style scoped>\n",
       "    .dataframe tbody tr th:only-of-type {\n",
       "        vertical-align: middle;\n",
       "    }\n",
       "\n",
       "    .dataframe tbody tr th {\n",
       "        vertical-align: top;\n",
       "    }\n",
       "\n",
       "    .dataframe thead th {\n",
       "        text-align: right;\n",
       "    }\n",
       "</style>\n",
       "<table border=\"1\" class=\"dataframe\">\n",
       "  <thead>\n",
       "    <tr style=\"text-align: right;\">\n",
       "      <th></th>\n",
       "      <th>DATA</th>\n",
       "      <th>BORO</th>\n",
       "      <th>STATISTICAL_MURDER_FLAG</th>\n",
       "      <th>MonthNr</th>\n",
       "      <th>Hour</th>\n",
       "      <th>HR</th>\n",
       "      <th>MthName</th>\n",
       "    </tr>\n",
       "  </thead>\n",
       "  <tbody>\n",
       "    <tr>\n",
       "      <th>0</th>\n",
       "      <td>2019-08-23 22:10:00</td>\n",
       "      <td>QUEENS</td>\n",
       "      <td>False</td>\n",
       "      <td>8</td>\n",
       "      <td>22</td>\n",
       "      <td>22</td>\n",
       "      <td>August</td>\n",
       "    </tr>\n",
       "    <tr>\n",
       "      <th>1</th>\n",
       "      <td>2019-11-27 15:54:00</td>\n",
       "      <td>BRONX</td>\n",
       "      <td>False</td>\n",
       "      <td>11</td>\n",
       "      <td>15</td>\n",
       "      <td>16</td>\n",
       "      <td>November</td>\n",
       "    </tr>\n",
       "    <tr>\n",
       "      <th>2</th>\n",
       "      <td>2019-02-02 19:40:00</td>\n",
       "      <td>MANHATTAN</td>\n",
       "      <td>False</td>\n",
       "      <td>2</td>\n",
       "      <td>19</td>\n",
       "      <td>20</td>\n",
       "      <td>February</td>\n",
       "    </tr>\n",
       "    <tr>\n",
       "      <th>3</th>\n",
       "      <td>2019-10-24 00:52:00</td>\n",
       "      <td>STATEN ISLAND</td>\n",
       "      <td>True</td>\n",
       "      <td>10</td>\n",
       "      <td>0</td>\n",
       "      <td>1</td>\n",
       "      <td>October</td>\n",
       "    </tr>\n",
       "    <tr>\n",
       "      <th>4</th>\n",
       "      <td>2019-08-22 18:03:00</td>\n",
       "      <td>BRONX</td>\n",
       "      <td>False</td>\n",
       "      <td>8</td>\n",
       "      <td>18</td>\n",
       "      <td>18</td>\n",
       "      <td>August</td>\n",
       "    </tr>\n",
       "  </tbody>\n",
       "</table>\n",
       "</div>"
      ],
      "text/plain": [
       "                 DATA           BORO  STATISTICAL_MURDER_FLAG  MonthNr  Hour  \\\n",
       "0 2019-08-23 22:10:00         QUEENS                    False        8    22   \n",
       "1 2019-11-27 15:54:00          BRONX                    False       11    15   \n",
       "2 2019-02-02 19:40:00      MANHATTAN                    False        2    19   \n",
       "3 2019-10-24 00:52:00  STATEN ISLAND                     True       10     0   \n",
       "4 2019-08-22 18:03:00          BRONX                    False        8    18   \n",
       "\n",
       "   HR   MthName  \n",
       "0  22    August  \n",
       "1  16  November  \n",
       "2  20  February  \n",
       "3   1   October  \n",
       "4  18    August  "
      ]
     },
     "execution_count": 319,
     "metadata": {},
     "output_type": "execute_result"
    }
   ],
   "source": [
    "nypd_small['MonthNr'] = nypd_small['DATA'].dt.month\n",
    "nypd_small['Hour'] = nypd_small['DATA'].dt.hour\n",
    "nypd_small['HR'] = nypd_small['DATA'].dt.round('H').dt.hour\n",
    "nypd_small['MthName'] = nypd_small['DATA'].dt.month_name()\n",
    "nypd_small.head()"
   ]
  },
  {
   "cell_type": "code",
   "execution_count": 320,
   "metadata": {},
   "outputs": [],
   "source": [
    "nypd_small['Paros laikas'] = nypd_small['DATA']\n",
    "\n",
    "paroslaikas = []\n",
    "def paroslaikas(x):\n",
    "    if x >= 22 or x < 6:\n",
    "        return 'Naktis'\n",
    "    elif x >= 6 and x < 10:\n",
    "        return 'Rytas'\n",
    "    elif x >= 10 and x < 16:\n",
    "        return 'Diena'\n",
    "    else:\n",
    "        return 'Vakaras'\n",
    "\n",
    "nypd_small['ParosL'] = nypd_small['Hour'].apply(paroslaikas)"
   ]
  },
  {
   "cell_type": "code",
   "execution_count": 321,
   "metadata": {},
   "outputs": [
    {
     "data": {
      "image/png": "[encoded data removed]",
      "text/plain": [
       "<Figure size 1200x450 with 1 Axes>"
      ]
     },
     "metadata": {},
     "output_type": "display_data"
    }
   ],
   "source": [
    "#NYPD failas:\n",
    "#Su vizualizacija:\n",
    "# Kurios valandos, kurie paros metai buvo pavojingiausi susišaudymų prasme?\n",
    "\n",
    "laikas = nypd_small['Hour'].value_counts().sort_index(ascending=True).index\n",
    "sk = nypd_small['Hour'].value_counts().sort_index(ascending=True).values\n",
    "\n",
    "a = laikas\n",
    "b = sk\n",
    "fig, ax = plt.subplots(figsize =[12,4.5])\n",
    "ax.plot(a,b, linestyle=':', color='#ff6163', linewidth=1, marker='*')\n",
    "ax.set_xlabel('Valandos')\n",
    "ax.set_ylabel('Susisaudymu skaicius')\n",
    "ax.set_title('Susisaudymu statistika pagal valandas')\n",
    "ax.set_xticks(laikas)\n",
    "\n",
    "plt.show()"
   ]
  },
  {
   "cell_type": "code",
   "execution_count": 322,
   "metadata": {},
   "outputs": [
    {
     "data": {
      "image/png": "[encoded data removed]",
      "text/plain": [
       "<Figure size 1200x450 with 1 Axes>"
      ]
     },
     "metadata": {},
     "output_type": "display_data"
    }
   ],
   "source": [
    "#NYPD failas:\n",
    "#Su vizualizacija:\n",
    "# Kurios valandos, kurie paros metai buvo pavojingiausi susišaudymų prasme?\n",
    "\n",
    "laikas = nypd_small['ParosL'].value_counts().sort_index(ascending=True).index\n",
    "sk = nypd_small['ParosL'].value_counts().sort_index(ascending=True).values\n",
    "\n",
    "a = laikas\n",
    "b = sk\n",
    "fig, ax = plt.subplots(figsize =[12,4.5])\n",
    "ax.plot(a,b, linestyle=':', color='#ff6163', linewidth=1, marker='*')\n",
    "ax.set_xlabel('Paros laikas')\n",
    "ax.set_ylabel('Susisaudymu skaicius')\n",
    "ax.set_title('Susisaudymu statistika pagal valandas')\n",
    "\n",
    "plt.show()"
   ]
  },
  {
   "cell_type": "code",
   "execution_count": 417,
   "metadata": {},
   "outputs": [
    {
     "data": {
      "image/png": "[encoded data removed]",
      "text/plain": [
       "<Figure size 1200x450 with 1 Axes>"
      ]
     },
     "metadata": {},
     "output_type": "display_data"
    }
   ],
   "source": [
    "#A) Kuriose valandose mirtinų susišaudymų kiekis buvo didžiausias?\n",
    "#B) Kuriose valandose procentinis mirtinų susišaudymų kiekis yra didžiausias?\n",
    "#Ar A ir B valandos sutampa, arne?\n",
    "\n",
    "susisaudymai = nypd_small[nypd_small['STATISTICAL_MURDER_FLAG'] == False]['Hour'].value_counts().sort_index(ascending=True).values\n",
    "mirt_susisaudymai = nypd_small[nypd_small['STATISTICAL_MURDER_FLAG'] == True]['Hour'].value_counts().sort_index(ascending=True).values\n",
    "valandos = nypd_small['Hour'].value_counts().sort_index(ascending=True).index\n",
    "didz_v = nypd_small[nypd_small['STATISTICAL_MURDER_FLAG'] == True]['Hour'].value_counts().idxmax()\n",
    "proc_h = (mirt_susisaudymai/susisaudymai)*100\n",
    "\n",
    "a = valandos\n",
    "b = susisaudymai\n",
    "c = mirt_susisaudymai\n",
    "d = proc_h\n",
    "fig, ax = plt.subplots(figsize =[12,4.5])\n",
    "ax.plot(a,b, label = 'Nemirtini susisaudymai', linestyle=':', color='green', linewidth=1, marker='*')\n",
    "ax.plot(a,c, label = 'Mirtini susisaudymai', linestyle=':', color='red', linewidth=1, marker='*')\n",
    "ax.plot(a,d, label = 'Mirtini susisaudymai procentais', linestyle=':', color='blue', linewidth=1, marker='*')\n",
    "ax.set_xlabel('Paros laikas')\n",
    "ax.set_ylabel('Susisaudymu skaicius')\n",
    "ax.set_title('Susisaudymu statistika pagal valandas')\n",
    "ax.set_xticks(a)\n",
    "ax.legend(loc=[1,1])\n",
    "plt.show()\n"
   ]
  },
  {
   "cell_type": "code",
   "execution_count": 356,
   "metadata": {},
   "outputs": [
    {
     "data": {
      "text/html": [
       "<div>\n",
       "<style scoped>\n",
       "    .dataframe tbody tr th:only-of-type {\n",
       "        vertical-align: middle;\n",
       "    }\n",
       "\n",
       "    .dataframe tbody tr th {\n",
       "        vertical-align: top;\n",
       "    }\n",
       "\n",
       "    .dataframe thead th {\n",
       "        text-align: right;\n",
       "    }\n",
       "</style>\n",
       "<table border=\"1\" class=\"dataframe\">\n",
       "  <thead>\n",
       "    <tr style=\"text-align: right;\">\n",
       "      <th></th>\n",
       "      <th>Entity</th>\n",
       "      <th>Code</th>\n",
       "      <th>Year</th>\n",
       "      <th>Life expectancy</th>\n",
       "    </tr>\n",
       "  </thead>\n",
       "  <tbody>\n",
       "    <tr>\n",
       "      <th>15552</th>\n",
       "      <td>Afghanistan</td>\n",
       "      <td>AFG</td>\n",
       "      <td>2019</td>\n",
       "      <td>64.833</td>\n",
       "    </tr>\n",
       "    <tr>\n",
       "      <th>15553</th>\n",
       "      <td>Africa</td>\n",
       "      <td>NaN</td>\n",
       "      <td>2019</td>\n",
       "      <td>63.170</td>\n",
       "    </tr>\n",
       "    <tr>\n",
       "      <th>15554</th>\n",
       "      <td>Albania</td>\n",
       "      <td>ALB</td>\n",
       "      <td>2019</td>\n",
       "      <td>78.573</td>\n",
       "    </tr>\n",
       "  </tbody>\n",
       "</table>\n",
       "</div>"
      ],
      "text/plain": [
       "            Entity Code  Year  Life expectancy\n",
       "15552  Afghanistan  AFG  2019           64.833\n",
       "15553       Africa  NaN  2019           63.170\n",
       "15554      Albania  ALB  2019           78.573"
      ]
     },
     "execution_count": 356,
     "metadata": {},
     "output_type": "execute_result"
    }
   ],
   "source": [
    "#Su life-exp.csv:\n",
    "#atrinkite su .query() į naują lentelę tik 2019 metų duomenis.\n",
    "# Toliau naudojama tik naujoji lentelė\n",
    "life = pd.read_csv('life-exp.csv')\n",
    "life2019 = life[life['Year'] == 2019]\n",
    "life2019.head(3)"
   ]
  },
  {
   "cell_type": "code",
   "execution_count": 357,
   "metadata": {},
   "outputs": [
    {
     "name": "stdout",
     "output_type": "stream",
     "text": [
      "73.83298925497944\n"
     ]
    }
   ],
   "source": [
    "# Suraskite vidutinę gyvenimo trukmę\n",
    "vid_gt = life2019['Life expectancy'].mean()\n",
    "print(vid_gt)"
   ]
  },
  {
   "cell_type": "code",
   "execution_count": 355,
   "metadata": {},
   "outputs": [
    {
     "data": {
      "text/plain": [
       "Ilgaamziskumas\n",
       "Ilgaamze      138\n",
       "Neilgaamze    105\n",
       "Name: count, dtype: int64"
      ]
     },
     "execution_count": 355,
     "metadata": {},
     "output_type": "execute_result"
    }
   ],
   "source": [
    "# Suskirstykite valstybes į ilgaamžes ir ne\n",
    "# jei gyvenimo trukmė mažiau nei vidurkis - neilgaamžė\n",
    "# jei didesnė - ilgaamžė.\n",
    "# Kiek buvo valstybių ilgaamžių, neilgaamžių?\n",
    "\n",
    "def ilgaamziskumas(life_ex):\n",
    "    if life_ex < vid_gt:\n",
    "        return 'Neilgaamze'\n",
    "    else:\n",
    "        return 'Ilgaamze'\n",
    "\n",
    "life2019['Ilgaamziskumas'] = life2019['Life expectancy'].apply(ilgaamziskumas)\n",
    "life2019['Ilgaamziskumas'].value_counts()"
   ]
  },
  {
   "cell_type": "code",
   "execution_count": 408,
   "metadata": {},
   "outputs": [
    {
     "name": "stdout",
     "output_type": "stream",
     "text": [
      "Lietuvos gyventoju vidutine, minimali ir maksimali gyvenimo trukme:\n",
      "71.0685076923077\n",
      "64.336\n",
      "75.933\n"
     ]
    }
   ],
   "source": [
    "#Su Dar su life-exp.csv:\n",
    "#Nuskaitykite failą\n",
    "#Suraskite vidutinę, minimalią, maksimalią gyvenimo trukmę Lietuvai, \n",
    "# Latvijai, Švedijai, Vokietijai\n",
    "\n",
    "lt = life[life['Entity'] == 'Lithuania']\n",
    "vid = lt['Life expectancy'].mean()\n",
    "min = lt['Life expectancy'].min()\n",
    "max = lt['Life expectancy'].max()\n",
    "print('Lietuvos gyventoju vidutine, minimali ir maksimali gyvenimo trukme:', vid, min, max, sep = '\\n')\n"
   ]
  },
  {
   "cell_type": "code",
   "execution_count": 391,
   "metadata": {},
   "outputs": [
    {
     "name": "stdout",
     "output_type": "stream",
     "text": [
      "Latvijos gyventoju vidutine, minimali ir maksimali gyvenimo trukme:\n",
      "70.25466153846155\n",
      "65.414\n",
      "75.292\n"
     ]
    }
   ],
   "source": [
    "lv = life[life['Entity'] == 'Latvia']\n",
    "vid = lv['Life expectancy'].mean()\n",
    "min = lv['Life expectancy'].min()\n",
    "max = lv['Life expectancy'].max()\n",
    "print('Latvijos gyventoju vidutine, minimali ir maksimali gyvenimo trukme:', vid, min, max, sep = '\\n')"
   ]
  },
  {
   "cell_type": "code",
   "execution_count": 392,
   "metadata": {},
   "outputs": [
    {
     "name": "stdout",
     "output_type": "stream",
     "text": [
      "Svedijos gyventoju vidutine, minimali ir maksimali gyvenimo trukme:\n",
      "77.40807692307692\n",
      "72.446\n",
      "82.797\n"
     ]
    }
   ],
   "source": [
    "sw = life[life['Entity'] == 'Sweden']\n",
    "vid = sw['Life expectancy'].mean()\n",
    "min = sw['Life expectancy'].min()\n",
    "max = sw['Life expectancy'].max()\n",
    "print('Svedijos gyventoju vidutine, minimali ir maksimali gyvenimo trukme:', vid, min, max, sep = '\\n')"
   ]
  },
  {
   "cell_type": "code",
   "execution_count": 393,
   "metadata": {},
   "outputs": [
    {
     "name": "stdout",
     "output_type": "stream",
     "text": [
      "Vokietijos gyventoju vidutine, minimali ir maksimali gyvenimo trukme:\n",
      "74.88489230769231\n",
      "68.265\n",
      "81.326\n"
     ]
    }
   ],
   "source": [
    "gr = life[life['Entity'] == 'Germany']\n",
    "vid = gr['Life expectancy'].mean()\n",
    "min = gr['Life expectancy'].min()\n",
    "max = gr['Life expectancy'].max()\n",
    "print('Vokietijos gyventoju vidutine, minimali ir maksimali gyvenimo trukme:', vid, min, max, sep = '\\n')"
   ]
  },
  {
   "cell_type": "code",
   "execution_count": 395,
   "metadata": {},
   "outputs": [
    {
     "name": "stdout",
     "output_type": "stream",
     "text": [
      "Poland\n",
      "Jusu irasytos valstybes gyventoju vidutine, minimali ir maksimali gyvenimo trukme:\n",
      "71.85746153846152\n",
      "63.996\n",
      "78.73\n"
     ]
    }
   ],
   "source": [
    "# Padarykite, jog vartotojas galėtų įvesti, kokios šalies\n",
    "# duomenis reikia išvesti\n",
    "#Bonus - .plot() vizualizacija tokių duomenų:\n",
    "# gyvenimo trukmė kiekvienais metais Lietuvai ir vartotojo įvestai šaliai\n",
    "\n",
    "x = input('Iveskite valstybes pavadinima angliskai')\n",
    "print(x)\n",
    "ats = life[life['Entity'] == x]\n",
    "vid = ats['Life expectancy'].mean()\n",
    "min = ats['Life expectancy'].min()\n",
    "max = ats['Life expectancy'].max()\n",
    "print('Jusu irasytos valstybes gyventoju vidutine, minimali ir maksimali gyvenimo trukme:', vid, min, max, sep = '\\n')"
   ]
  },
  {
   "cell_type": "code",
   "execution_count": 431,
   "metadata": {},
   "outputs": [
    {
     "data": {
      "text/html": [
       "<div>\n",
       "<style scoped>\n",
       "    .dataframe tbody tr th:only-of-type {\n",
       "        vertical-align: middle;\n",
       "    }\n",
       "\n",
       "    .dataframe tbody tr th {\n",
       "        vertical-align: top;\n",
       "    }\n",
       "\n",
       "    .dataframe thead th {\n",
       "        text-align: right;\n",
       "    }\n",
       "</style>\n",
       "<table border=\"1\" class=\"dataframe\">\n",
       "  <thead>\n",
       "    <tr style=\"text-align: right;\">\n",
       "      <th></th>\n",
       "      <th>index</th>\n",
       "      <th>id</th>\n",
       "      <th>gamintojas</th>\n",
       "      <th>modelis</th>\n",
       "      <th>pagaminimo_data</th>\n",
       "      <th>rida</th>\n",
       "      <th>variklis</th>\n",
       "      <th>kuro_tipas</th>\n",
       "      <th>varantieji_ratai</th>\n",
       "      <th>pavaros</th>\n",
       "      <th>...</th>\n",
       "      <th>service_book</th>\n",
       "      <th>warranty</th>\n",
       "      <th>catalytic_converter</th>\n",
       "      <th>multiple_key_sets</th>\n",
       "      <th>double_wheels</th>\n",
       "      <th>folding_seats</th>\n",
       "      <th>insulated_glass</th>\n",
       "      <th>two_sliding_doors</th>\n",
       "      <th>personal_ventilation</th>\n",
       "      <th>personal_illumination</th>\n",
       "    </tr>\n",
       "  </thead>\n",
       "  <tbody>\n",
       "    <tr>\n",
       "      <th>0</th>\n",
       "      <td>0</td>\n",
       "      <td>ID:22996628</td>\n",
       "      <td>BMW</td>\n",
       "      <td>M5</td>\n",
       "      <td>2005-12</td>\n",
       "      <td>253 000 km</td>\n",
       "      <td>4999 cm³, 507 AG (373kW)</td>\n",
       "      <td>Benzinas</td>\n",
       "      <td>Galiniai</td>\n",
       "      <td>Automatinė</td>\n",
       "      <td>...</td>\n",
       "      <td>0</td>\n",
       "      <td>0</td>\n",
       "      <td>0</td>\n",
       "      <td>0</td>\n",
       "      <td>0</td>\n",
       "      <td>0</td>\n",
       "      <td>0</td>\n",
       "      <td>0</td>\n",
       "      <td>0</td>\n",
       "      <td>0</td>\n",
       "    </tr>\n",
       "  </tbody>\n",
       "</table>\n",
       "<p>1 rows × 115 columns</p>\n",
       "</div>"
      ],
      "text/plain": [
       "   index           id gamintojas modelis pagaminimo_data        rida  \\\n",
       "0      0  ID:22996628        BMW      M5         2005-12  253 000 km   \n",
       "\n",
       "                   variklis kuro_tipas varantieji_ratai     pavaros  ...  \\\n",
       "0  4999 cm³, 507 AG (373kW)   Benzinas         Galiniai  Automatinė  ...   \n",
       "\n",
       "  service_book warranty catalytic_converter multiple_key_sets double_wheels  \\\n",
       "0            0        0                   0                 0             0   \n",
       "\n",
       "  folding_seats insulated_glass two_sliding_doors personal_ventilation  \\\n",
       "0             0               0                 0                    0   \n",
       "\n",
       "  personal_illumination  \n",
       "0                     0  \n",
       "\n",
       "[1 rows x 115 columns]"
      ]
     },
     "execution_count": 431,
     "metadata": {},
     "output_type": "execute_result"
    }
   ],
   "source": [
    "#AUTO.CSV failas:\n",
    "#Raskite vidutinę kainą, ridą visiems automobiliams bei atskirai šiems: BMW, Audi, Toyota, Vokswagen, Ford.\n",
    "#Suskirstykite automobilius pagal santykį su vidutine kaina:\n",
    "# < 0.75 avg - pigūs\n",
    "# 0.75 iki 1.15 avg - vidutiniai, \n",
    "# > 1.15 avg - brangūs\n",
    "# Kiek kiekvienoje grupėje buvo tokių auto?\n",
    "#tai vizualizuokite su bar \n",
    "\n",
    "auto = pd.read_csv('auto.csv', sep ='|')\n",
    "auto.head(1)"
   ]
  },
  {
   "cell_type": "code",
   "execution_count": 446,
   "metadata": {},
   "outputs": [
    {
     "data": {
      "text/html": [
       "<div>\n",
       "<style scoped>\n",
       "    .dataframe tbody tr th:only-of-type {\n",
       "        vertical-align: middle;\n",
       "    }\n",
       "\n",
       "    .dataframe tbody tr th {\n",
       "        vertical-align: top;\n",
       "    }\n",
       "\n",
       "    .dataframe thead th {\n",
       "        text-align: right;\n",
       "    }\n",
       "</style>\n",
       "<table border=\"1\" class=\"dataframe\">\n",
       "  <thead>\n",
       "    <tr style=\"text-align: right;\">\n",
       "      <th></th>\n",
       "      <th>price</th>\n",
       "      <th>gamintojas</th>\n",
       "    </tr>\n",
       "  </thead>\n",
       "  <tbody>\n",
       "    <tr>\n",
       "      <th>0</th>\n",
       "      <td>19 500</td>\n",
       "      <td>BMW</td>\n",
       "    </tr>\n",
       "    <tr>\n",
       "      <th>1</th>\n",
       "      <td>2 700</td>\n",
       "      <td>Mitsubishi</td>\n",
       "    </tr>\n",
       "    <tr>\n",
       "      <th>2</th>\n",
       "      <td>13 490</td>\n",
       "      <td>Seat</td>\n",
       "    </tr>\n",
       "    <tr>\n",
       "      <th>3</th>\n",
       "      <td>14 650</td>\n",
       "      <td>Skoda</td>\n",
       "    </tr>\n",
       "    <tr>\n",
       "      <th>4</th>\n",
       "      <td>38 000</td>\n",
       "      <td>Volvo</td>\n",
       "    </tr>\n",
       "  </tbody>\n",
       "</table>\n",
       "</div>"
      ],
      "text/plain": [
       "    price  gamintojas\n",
       "0  19 500         BMW\n",
       "1   2 700  Mitsubishi\n",
       "2  13 490        Seat\n",
       "3  14 650       Skoda\n",
       "4  38 000       Volvo"
      ]
     },
     "execution_count": 446,
     "metadata": {},
     "output_type": "execute_result"
    }
   ],
   "source": [
    "autosmall = auto[['price', 'gamintojas']]\n",
    "autosmall.head(5)"
   ]
  },
  {
   "cell_type": "code",
   "execution_count": 450,
   "metadata": {},
   "outputs": [
    {
     "ename": "ValueError",
     "evalue": "could not convert string to float: '19 500'",
     "output_type": "error",
     "traceback": [
      "\u001b[1;31m---------------------------------------------------------------------------\u001b[0m",
      "\u001b[1;31mValueError\u001b[0m                                Traceback (most recent call last)",
      "Cell \u001b[1;32mIn[450], line 8\u001b[0m\n\u001b[0;32m      5\u001b[0m     kainos \u001b[38;5;241m=\u001b[39m \u001b[38;5;28mfloat\u001b[39m(x)\u001b[38;5;241m.\u001b[39mreplace(\u001b[38;5;124m'\u001b[39m\u001b[38;5;124m \u001b[39m\u001b[38;5;124m'\u001b[39m, \u001b[38;5;124m'\u001b[39m\u001b[38;5;124m'\u001b[39m)\n\u001b[0;32m      6\u001b[0m     \u001b[38;5;28;01mreturn\u001b[39;00m kainos\n\u001b[1;32m----> 8\u001b[0m autosmall[\u001b[38;5;124m'\u001b[39m\u001b[38;5;124mKainaS\u001b[39m\u001b[38;5;124m'\u001b[39m] \u001b[38;5;241m=\u001b[39m \u001b[43mautosmall\u001b[49m\u001b[43m[\u001b[49m\u001b[38;5;124;43m'\u001b[39;49m\u001b[38;5;124;43mprice\u001b[39;49m\u001b[38;5;124;43m'\u001b[39;49m\u001b[43m]\u001b[49m\u001b[38;5;241;43m.\u001b[39;49m\u001b[43mapply\u001b[49m\u001b[43m(\u001b[49m\u001b[43mkainos\u001b[49m\u001b[43m)\u001b[49m\n",
      "File \u001b[1;32m~\\AppData\\Local\\Packages\\PythonSoftwareFoundation.Python.3.12_qbz5n2kfra8p0\\LocalCache\\local-packages\\Python312\\site-packages\\pandas\\core\\series.py:4915\u001b[0m, in \u001b[0;36mSeries.apply\u001b[1;34m(self, func, convert_dtype, args, by_row, **kwargs)\u001b[0m\n\u001b[0;32m   4780\u001b[0m \u001b[38;5;28;01mdef\u001b[39;00m \u001b[38;5;21mapply\u001b[39m(\n\u001b[0;32m   4781\u001b[0m     \u001b[38;5;28mself\u001b[39m,\n\u001b[0;32m   4782\u001b[0m     func: AggFuncType,\n\u001b[1;32m   (...)\u001b[0m\n\u001b[0;32m   4787\u001b[0m     \u001b[38;5;241m*\u001b[39m\u001b[38;5;241m*\u001b[39mkwargs,\n\u001b[0;32m   4788\u001b[0m ) \u001b[38;5;241m-\u001b[39m\u001b[38;5;241m>\u001b[39m DataFrame \u001b[38;5;241m|\u001b[39m Series:\n\u001b[0;32m   4789\u001b[0m \u001b[38;5;250m    \u001b[39m\u001b[38;5;124;03m\"\"\"\u001b[39;00m\n\u001b[0;32m   4790\u001b[0m \u001b[38;5;124;03m    Invoke function on values of Series.\u001b[39;00m\n\u001b[0;32m   4791\u001b[0m \n\u001b[1;32m   (...)\u001b[0m\n\u001b[0;32m   4906\u001b[0m \u001b[38;5;124;03m    dtype: float64\u001b[39;00m\n\u001b[0;32m   4907\u001b[0m \u001b[38;5;124;03m    \"\"\"\u001b[39;00m\n\u001b[0;32m   4908\u001b[0m     \u001b[38;5;28;01mreturn\u001b[39;00m \u001b[43mSeriesApply\u001b[49m\u001b[43m(\u001b[49m\n\u001b[0;32m   4909\u001b[0m \u001b[43m        \u001b[49m\u001b[38;5;28;43mself\u001b[39;49m\u001b[43m,\u001b[49m\n\u001b[0;32m   4910\u001b[0m \u001b[43m        \u001b[49m\u001b[43mfunc\u001b[49m\u001b[43m,\u001b[49m\n\u001b[0;32m   4911\u001b[0m \u001b[43m        \u001b[49m\u001b[43mconvert_dtype\u001b[49m\u001b[38;5;241;43m=\u001b[39;49m\u001b[43mconvert_dtype\u001b[49m\u001b[43m,\u001b[49m\n\u001b[0;32m   4912\u001b[0m \u001b[43m        \u001b[49m\u001b[43mby_row\u001b[49m\u001b[38;5;241;43m=\u001b[39;49m\u001b[43mby_row\u001b[49m\u001b[43m,\u001b[49m\n\u001b[0;32m   4913\u001b[0m \u001b[43m        \u001b[49m\u001b[43margs\u001b[49m\u001b[38;5;241;43m=\u001b[39;49m\u001b[43margs\u001b[49m\u001b[43m,\u001b[49m\n\u001b[0;32m   4914\u001b[0m \u001b[43m        \u001b[49m\u001b[43mkwargs\u001b[49m\u001b[38;5;241;43m=\u001b[39;49m\u001b[43mkwargs\u001b[49m\u001b[43m,\u001b[49m\n\u001b[1;32m-> 4915\u001b[0m \u001b[43m    \u001b[49m\u001b[43m)\u001b[49m\u001b[38;5;241;43m.\u001b[39;49m\u001b[43mapply\u001b[49m\u001b[43m(\u001b[49m\u001b[43m)\u001b[49m\n",
      "File \u001b[1;32m~\\AppData\\Local\\Packages\\PythonSoftwareFoundation.Python.3.12_qbz5n2kfra8p0\\LocalCache\\local-packages\\Python312\\site-packages\\pandas\\core\\apply.py:1427\u001b[0m, in \u001b[0;36mSeriesApply.apply\u001b[1;34m(self)\u001b[0m\n\u001b[0;32m   1424\u001b[0m     \u001b[38;5;28;01mreturn\u001b[39;00m \u001b[38;5;28mself\u001b[39m\u001b[38;5;241m.\u001b[39mapply_compat()\n\u001b[0;32m   1426\u001b[0m \u001b[38;5;66;03m# self.func is Callable\u001b[39;00m\n\u001b[1;32m-> 1427\u001b[0m \u001b[38;5;28;01mreturn\u001b[39;00m \u001b[38;5;28;43mself\u001b[39;49m\u001b[38;5;241;43m.\u001b[39;49m\u001b[43mapply_standard\u001b[49m\u001b[43m(\u001b[49m\u001b[43m)\u001b[49m\n",
      "File \u001b[1;32m~\\AppData\\Local\\Packages\\PythonSoftwareFoundation.Python.3.12_qbz5n2kfra8p0\\LocalCache\\local-packages\\Python312\\site-packages\\pandas\\core\\apply.py:1507\u001b[0m, in \u001b[0;36mSeriesApply.apply_standard\u001b[1;34m(self)\u001b[0m\n\u001b[0;32m   1501\u001b[0m \u001b[38;5;66;03m# row-wise access\u001b[39;00m\n\u001b[0;32m   1502\u001b[0m \u001b[38;5;66;03m# apply doesn't have a `na_action` keyword and for backward compat reasons\u001b[39;00m\n\u001b[0;32m   1503\u001b[0m \u001b[38;5;66;03m# we need to give `na_action=\"ignore\"` for categorical data.\u001b[39;00m\n\u001b[0;32m   1504\u001b[0m \u001b[38;5;66;03m# TODO: remove the `na_action=\"ignore\"` when that default has been changed in\u001b[39;00m\n\u001b[0;32m   1505\u001b[0m \u001b[38;5;66;03m#  Categorical (GH51645).\u001b[39;00m\n\u001b[0;32m   1506\u001b[0m action \u001b[38;5;241m=\u001b[39m \u001b[38;5;124m\"\u001b[39m\u001b[38;5;124mignore\u001b[39m\u001b[38;5;124m\"\u001b[39m \u001b[38;5;28;01mif\u001b[39;00m \u001b[38;5;28misinstance\u001b[39m(obj\u001b[38;5;241m.\u001b[39mdtype, CategoricalDtype) \u001b[38;5;28;01melse\u001b[39;00m \u001b[38;5;28;01mNone\u001b[39;00m\n\u001b[1;32m-> 1507\u001b[0m mapped \u001b[38;5;241m=\u001b[39m \u001b[43mobj\u001b[49m\u001b[38;5;241;43m.\u001b[39;49m\u001b[43m_map_values\u001b[49m\u001b[43m(\u001b[49m\n\u001b[0;32m   1508\u001b[0m \u001b[43m    \u001b[49m\u001b[43mmapper\u001b[49m\u001b[38;5;241;43m=\u001b[39;49m\u001b[43mcurried\u001b[49m\u001b[43m,\u001b[49m\u001b[43m \u001b[49m\u001b[43mna_action\u001b[49m\u001b[38;5;241;43m=\u001b[39;49m\u001b[43maction\u001b[49m\u001b[43m,\u001b[49m\u001b[43m \u001b[49m\u001b[43mconvert\u001b[49m\u001b[38;5;241;43m=\u001b[39;49m\u001b[38;5;28;43mself\u001b[39;49m\u001b[38;5;241;43m.\u001b[39;49m\u001b[43mconvert_dtype\u001b[49m\n\u001b[0;32m   1509\u001b[0m \u001b[43m\u001b[49m\u001b[43m)\u001b[49m\n\u001b[0;32m   1511\u001b[0m \u001b[38;5;28;01mif\u001b[39;00m \u001b[38;5;28mlen\u001b[39m(mapped) \u001b[38;5;129;01mand\u001b[39;00m \u001b[38;5;28misinstance\u001b[39m(mapped[\u001b[38;5;241m0\u001b[39m], ABCSeries):\n\u001b[0;32m   1512\u001b[0m     \u001b[38;5;66;03m# GH#43986 Need to do list(mapped) in order to get treated as nested\u001b[39;00m\n\u001b[0;32m   1513\u001b[0m     \u001b[38;5;66;03m#  See also GH#25959 regarding EA support\u001b[39;00m\n\u001b[0;32m   1514\u001b[0m     \u001b[38;5;28;01mreturn\u001b[39;00m obj\u001b[38;5;241m.\u001b[39m_constructor_expanddim(\u001b[38;5;28mlist\u001b[39m(mapped), index\u001b[38;5;241m=\u001b[39mobj\u001b[38;5;241m.\u001b[39mindex)\n",
      "File \u001b[1;32m~\\AppData\\Local\\Packages\\PythonSoftwareFoundation.Python.3.12_qbz5n2kfra8p0\\LocalCache\\local-packages\\Python312\\site-packages\\pandas\\core\\base.py:921\u001b[0m, in \u001b[0;36mIndexOpsMixin._map_values\u001b[1;34m(self, mapper, na_action, convert)\u001b[0m\n\u001b[0;32m    918\u001b[0m \u001b[38;5;28;01mif\u001b[39;00m \u001b[38;5;28misinstance\u001b[39m(arr, ExtensionArray):\n\u001b[0;32m    919\u001b[0m     \u001b[38;5;28;01mreturn\u001b[39;00m arr\u001b[38;5;241m.\u001b[39mmap(mapper, na_action\u001b[38;5;241m=\u001b[39mna_action)\n\u001b[1;32m--> 921\u001b[0m \u001b[38;5;28;01mreturn\u001b[39;00m \u001b[43malgorithms\u001b[49m\u001b[38;5;241;43m.\u001b[39;49m\u001b[43mmap_array\u001b[49m\u001b[43m(\u001b[49m\u001b[43marr\u001b[49m\u001b[43m,\u001b[49m\u001b[43m \u001b[49m\u001b[43mmapper\u001b[49m\u001b[43m,\u001b[49m\u001b[43m \u001b[49m\u001b[43mna_action\u001b[49m\u001b[38;5;241;43m=\u001b[39;49m\u001b[43mna_action\u001b[49m\u001b[43m,\u001b[49m\u001b[43m \u001b[49m\u001b[43mconvert\u001b[49m\u001b[38;5;241;43m=\u001b[39;49m\u001b[43mconvert\u001b[49m\u001b[43m)\u001b[49m\n",
      "File \u001b[1;32m~\\AppData\\Local\\Packages\\PythonSoftwareFoundation.Python.3.12_qbz5n2kfra8p0\\LocalCache\\local-packages\\Python312\\site-packages\\pandas\\core\\algorithms.py:1743\u001b[0m, in \u001b[0;36mmap_array\u001b[1;34m(arr, mapper, na_action, convert)\u001b[0m\n\u001b[0;32m   1741\u001b[0m values \u001b[38;5;241m=\u001b[39m arr\u001b[38;5;241m.\u001b[39mastype(\u001b[38;5;28mobject\u001b[39m, copy\u001b[38;5;241m=\u001b[39m\u001b[38;5;28;01mFalse\u001b[39;00m)\n\u001b[0;32m   1742\u001b[0m \u001b[38;5;28;01mif\u001b[39;00m na_action \u001b[38;5;129;01mis\u001b[39;00m \u001b[38;5;28;01mNone\u001b[39;00m:\n\u001b[1;32m-> 1743\u001b[0m     \u001b[38;5;28;01mreturn\u001b[39;00m \u001b[43mlib\u001b[49m\u001b[38;5;241;43m.\u001b[39;49m\u001b[43mmap_infer\u001b[49m\u001b[43m(\u001b[49m\u001b[43mvalues\u001b[49m\u001b[43m,\u001b[49m\u001b[43m \u001b[49m\u001b[43mmapper\u001b[49m\u001b[43m,\u001b[49m\u001b[43m \u001b[49m\u001b[43mconvert\u001b[49m\u001b[38;5;241;43m=\u001b[39;49m\u001b[43mconvert\u001b[49m\u001b[43m)\u001b[49m\n\u001b[0;32m   1744\u001b[0m \u001b[38;5;28;01melse\u001b[39;00m:\n\u001b[0;32m   1745\u001b[0m     \u001b[38;5;28;01mreturn\u001b[39;00m lib\u001b[38;5;241m.\u001b[39mmap_infer_mask(\n\u001b[0;32m   1746\u001b[0m         values, mapper, mask\u001b[38;5;241m=\u001b[39misna(values)\u001b[38;5;241m.\u001b[39mview(np\u001b[38;5;241m.\u001b[39muint8), convert\u001b[38;5;241m=\u001b[39mconvert\n\u001b[0;32m   1747\u001b[0m     )\n",
      "File \u001b[1;32mlib.pyx:2972\u001b[0m, in \u001b[0;36mpandas._libs.lib.map_infer\u001b[1;34m()\u001b[0m\n",
      "Cell \u001b[1;32mIn[450], line 5\u001b[0m, in \u001b[0;36mkainos\u001b[1;34m(x)\u001b[0m\n\u001b[0;32m      4\u001b[0m \u001b[38;5;28;01mdef\u001b[39;00m \u001b[38;5;21mkainos\u001b[39m(x):\n\u001b[1;32m----> 5\u001b[0m     kainos \u001b[38;5;241m=\u001b[39m \u001b[38;5;28;43mfloat\u001b[39;49m\u001b[43m(\u001b[49m\u001b[43mx\u001b[49m\u001b[43m)\u001b[49m\u001b[38;5;241m.\u001b[39mreplace(\u001b[38;5;124m'\u001b[39m\u001b[38;5;124m \u001b[39m\u001b[38;5;124m'\u001b[39m, \u001b[38;5;124m'\u001b[39m\u001b[38;5;124m'\u001b[39m)\n\u001b[0;32m      6\u001b[0m     \u001b[38;5;28;01mreturn\u001b[39;00m kainos\n",
      "\u001b[1;31mValueError\u001b[0m: could not convert string to float: '19 500'"
     ]
    }
   ],
   "source": [
    "autosmall['KainaS'] = autosmall['price']\n",
    "\n",
    "kainos = []\n",
    "def kainos(x):\n",
    "    kainos = float(x).replace(' ', '')\n",
    "    return kainos\n",
    "\n",
    "autosmall['KainaS'] = autosmall['price'].apply(kainos)\n"
   ]
  },
  {
   "cell_type": "code",
   "execution_count": null,
   "metadata": {},
   "outputs": [],
   "source": [
    "# 2024-04-15"
   ]
  },
  {
   "cell_type": "code",
   "execution_count": 34,
   "metadata": {},
   "outputs": [
    {
     "name": "stdout",
     "output_type": "stream",
     "text": [
      "[2, 2, 2, 1, 1, 2, 2, 2, 2]\n",
      "[7, 4, 6, 6, 5, 3, 2]\n",
      "[7, 3307.5, 15, 6, 6, 5, -105.0, 105.0, 6]\n",
      "[7, 3307.5, 15, 6, 6, 5, -105.0, 105.0, 6]\n",
      "[7, 3307.5, 15, 6, 6, 5, -105.0, 105.0, 6]\n"
     ]
    }
   ],
   "source": [
    "# duoti sąrašai:\n",
    "x = [12,16,17,1,0,-1,-8,10,14]\n",
    "y = [\"Vilnius\", 1323, 'Kaunas', 'Alytus', 'omega', -42, 42]\n",
    "z = [\"Vilnius\", 1323,[4,5,6], 'Kaunas', 'Alytus', 'omega', -42, 42, [1,2,3]]\n",
    "# su map () ir savo pasirašyta funkcija sugeneruokite naujus sąrašus, kur \n",
    "# būtų simbolių kiekiai iš sąrašų x ir y.\n",
    "# advanced: skaidrėse susiraskite prie if'o is operatorių ir pavyzdžius su type()\n",
    "# ir sugeneruokite naują sąrašą iš z'o:\n",
    "#  kur tekstas - tai suskaičiuojate simbolių kiekį, kur skaičius - padauginate iš 2.5\n",
    "#  kur sąrašas - randate sąrašo skaičiųą sumą\n",
    "\n",
    "# hint: str(), len() funkcijos\n",
    "\n",
    "def simb(e):\n",
    "    return len(str(e)) \n",
    "\n",
    "x1 = list(map(simb, x))\n",
    "print(x1)\n",
    "y1  = list(map(simb, y))\n",
    "print(y1)\n",
    "\n",
    "a =  []\n",
    "for e in z:\n",
    "    if type(e) is str:\n",
    "        a.append(len(e))\n",
    "    elif type(e) is list:\n",
    "        a.append(sum(e))\n",
    "    else:\n",
    "        a.append(e*2.5)\n",
    "    \n",
    "print(a)\n",
    "\n",
    "b = [len(e) if type(e) is str else sum(e) if type(e) is list else e*2.5 for e in z]\n",
    "print(b)\n",
    "\n",
    "def veiksmai (el):\n",
    "    if type(el) is str:\n",
    "        return len(el)\n",
    "    elif type(el) is int:\n",
    "        return el*2.5\n",
    "    elif type(el) is list:\n",
    "        return sum(el)\n",
    "    \n",
    "z2 = list(map(veiksmai, z))\n",
    "print(z2)"
   ]
  },
  {
   "cell_type": "code",
   "execution_count": 28,
   "metadata": {},
   "outputs": [
    {
     "name": "stdout",
     "output_type": "stream",
     "text": [
      "<class 'str'> True\n",
      "<class 'list'> True\n",
      "<class 'dict'> True\n",
      "<class 'set'> True\n",
      "<class 'float'> True\n",
      "<class 'int'> True\n",
      "<class 'tuple'> True\n"
     ]
    }
   ],
   "source": [
    "s = 'A'\n",
    "lst = []\n",
    "dct = {}\n",
    "sets = set()\n",
    "flt = 1.0\n",
    "intgr = 7\n",
    "tpl = (7,)\n",
    "print(type(s), type(s) is str)\n",
    "print(type(lst), type(lst) is list)\n",
    "print(type(dct), type(dct) is dict)\n",
    "print(type(sets), type(sets) is set)\n",
    "print(type(flt), type(flt) is float)\n",
    "print(type(intgr), type(intgr) is int)\n",
    "print(type(tpl), type(tpl) is tuple)"
   ]
  },
  {
   "cell_type": "code",
   "execution_count": null,
   "metadata": {},
   "outputs": [],
   "source": []
  }
 ],
 "metadata": {
  "kernelspec": {
   "display_name": "Python 3",
   "language": "python",
   "name": "python3"
  },
  "language_info": {
   "codemirror_mode": {
    "name": "ipython",
    "version": 3
   },
   "file_extension": ".py",
   "mimetype": "text/x-python",
   "name": "python",
   "nbconvert_exporter": "python",
   "pygments_lexer": "ipython3",
   "version": "3.12.3"
  }
 },
 "nbformat": 4,
 "nbformat_minor": 2
}
