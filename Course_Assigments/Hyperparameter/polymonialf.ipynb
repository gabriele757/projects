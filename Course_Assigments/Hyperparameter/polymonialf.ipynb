{
 "cells": [
  {
   "cell_type": "code",
   "execution_count": 5,
   "metadata": {},
   "outputs": [
    {
     "name": "stdout",
     "output_type": "stream",
     "text": [
      "[1. 2. 3. 4.]\n",
      "[1. 2. 3. 4.]\n"
     ]
    }
   ],
   "source": [
    "import numpy as np \n",
    "from sklearn.preprocessing import PolynomialFeatures\n",
    "from sklearn.linear_model import LinearRegression\n",
    "from sklearn.pipeline import Pipeline\n",
    "import matplotlib.pyplot as plt\n",
    "\n",
    "X = np.array([[2,3], [3,5], [5,7], [7,9]])\n",
    "y = np.array([1, 2, 3, 4])\n",
    "\n",
    "polymonia = PolynomialFeatures(degree=2)\n",
    "X_poly = polymonia.fit_transform(X)\n",
    "\n",
    "model = LinearRegression()\n",
    "model.fit(X_poly, y)\n",
    "\n",
    "y_pred = model.predict(X_poly)\n",
    "print(y_pred)\n",
    "\n",
    "# galimai patogesnis budas\n",
    "\n",
    "pipeline = Pipeline([\n",
    "    ('poly', PolynomialFeatures(degree=2)),\n",
    "    ('linear', LinearRegression()) \n",
    "])\n",
    "\n",
    "pipeline.fit(X, y)\n",
    "pipeline_pred = pipeline.predict(X)\n",
    "print(pipeline_pred)"
   ]
  },
  {
   "cell_type": "code",
   "execution_count": 4,
   "metadata": {},
   "outputs": [
    {
     "name": "stdout",
     "output_type": "stream",
     "text": [
      "[[  1.   2.   3.   4.   6.   9.   8.  12.  18.  27.]\n",
      " [  1.   3.   5.   9.  15.  25.  27.  45.  75. 125.]\n",
      " [  1.   5.   7.  25.  35.  49. 125. 175. 245. 343.]\n",
      " [  1.   7.   9.  49.  63.  81. 343. 441. 567. 729.]]\n"
     ]
    }
   ],
   "source": [
    "polymonia = PolynomialFeatures(degree=3)\n",
    "X_poly = polymonia.fit_transform(X)\n",
    "print(X_poly)"
   ]
  },
  {
   "cell_type": "code",
   "execution_count": 8,
   "metadata": {},
   "outputs": [
    {
     "name": "stdout",
     "output_type": "stream",
     "text": [
      "[ 1.  4.  9. 16. 25.]\n"
     ]
    },
    {
     "data": {
      "image/png": "[encoded data removed]",
      "text/plain": [
       "<Figure size 640x480 with 1 Axes>"
      ]
     },
     "metadata": {},
     "output_type": "display_data"
    }
   ],
   "source": [
    "X = np.array([[1], [2], [3], [4], [5]])\n",
    "y = np.array([1, 4, 9, 16, 25])\n",
    "\n",
    "polymonia = PolynomialFeatures(degree=2)\n",
    "X_poly = polymonia.fit_transform(X)\n",
    "\n",
    "model = LinearRegression()\n",
    "model.fit(X_poly, y)\n",
    "\n",
    "y_pred = model.predict(X_poly)\n",
    "print(y_pred)\n",
    "\n",
    "plt.scatter(X, y)\n",
    "plt.plot(X, y_pred)\n",
    "plt.show()"
   ]
  },
  {
   "cell_type": "code",
   "execution_count": 45,
   "metadata": {},
   "outputs": [],
   "source": [
    "from sklearn.model_selection import train_test_split\n",
    "X_train, X_test, y_train, y_test = train_test_split(X_poly,y,test_size=0.75)"
   ]
  },
  {
   "cell_type": "code",
   "execution_count": 49,
   "metadata": {},
   "outputs": [
    {
     "name": "stdout",
     "output_type": "stream",
     "text": [
      "0.9557522123893806\n"
     ]
    }
   ],
   "source": [
    "import numpy as np\n",
    "from sklearn.preprocessing import PolynomialFeatures, StandardScaler\n",
    "from sklearn.linear_model import LogisticRegression\n",
    "from sklearn.pipeline import Pipeline, make_pipeline\n",
    "import matplotlib.pyplot as plt\n",
    "\n",
    "from sklearn.datasets import load_iris\n",
    "from sklearn.metrics import accuracy_score\n",
    "\n",
    "iris = load_iris()\n",
    "X = iris.data\n",
    "y = iris.target\n",
    "# reikia pakeisti laipsni:\n",
    "# poly = PolynomialFeatures(degree=2)\n",
    "# X_poly = poly.fit_transform(X)\n",
    "# print(X)\n",
    "# print(X_poly)\n",
    "\n",
    "# zmones = [[1,180,80, 36000, 8000, 6400], [170,70]]\n",
    "# y = [35, 35]\n",
    "\n",
    "\n",
    "# standartizuoti duomenis\n",
    "# model = LogisticRegression(max_iter=10000)\n",
    "model = make_pipeline(PolynomialFeatures(degree=3), StandardScaler(), LogisticRegression(max_iter=10000))\n",
    "model.fit(X_train, y_train)\n",
    "y_pred = model.predict(X_test)\n",
    "print(accuracy_score(y_pred, y_test))"
   ]
  },
  {
   "cell_type": "code",
   "execution_count": 47,
   "metadata": {},
   "outputs": [
    {
     "name": "stdout",
     "output_type": "stream",
     "text": [
      "0.9292035398230089\n"
     ]
    }
   ],
   "source": [
    "import numpy as np\n",
    "from sklearn.preprocessing import PolynomialFeatures, StandardScaler\n",
    "from sklearn.linear_model import LogisticRegression\n",
    "from sklearn.pipeline import Pipeline\n",
    "import matplotlib.pyplot as plt\n",
    "from sklearn.model_selection import train_test_split\n",
    "from sklearn.datasets import load_iris\n",
    "from sklearn.metrics import accuracy_score\n",
    "\n",
    "iris = load_iris()\n",
    "X = iris.data\n",
    "y = iris.target\n",
    "X_poly = X\n",
    "\n",
    "model = LogisticRegression(max_iter=10000)\n",
    "model.fit(X_train, y_train)\n",
    "y_pred = model.predict(X_test)\n",
    "print(accuracy_score(y_pred, y_test))"
   ]
  }
 ],
 "metadata": {
  "kernelspec": {
   "display_name": "mokymai",
   "language": "python",
   "name": "python3"
  },
  "language_info": {
   "codemirror_mode": {
    "name": "ipython",
    "version": 3
   },
   "file_extension": ".py",
   "mimetype": "text/x-python",
   "name": "python",
   "nbconvert_exporter": "python",
   "pygments_lexer": "ipython3",
   "version": "3.12.2"
  }
 },
 "nbformat": 4,
 "nbformat_minor": 2
}
